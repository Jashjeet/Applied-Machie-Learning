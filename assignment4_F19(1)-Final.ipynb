{
 "cells": [
  {
   "cell_type": "markdown",
   "metadata": {
    "colab_type": "text",
    "id": "fOmqxSwoVei5"
   },
   "source": [
    "CSCI P-556: Applied Machine Learning\n",
    "\n",
    "Fall 2019\n",
    "\n",
    "Assignment 4\n",
    "\n",
    "Due: 11:59PM, December 6, 2019"
   ]
  },
  {
   "cell_type": "markdown",
   "metadata": {
    "colab_type": "text",
    "id": "LZy3rcBEeUC8"
   },
   "source": [
    "Read dataset"
   ]
  },
  {
   "cell_type": "code",
   "execution_count": 163,
   "metadata": {
    "colab": {},
    "colab_type": "code",
    "id": "YI70NtacUTSK"
   },
   "outputs": [],
   "source": [
    "import numpy as np\n",
    "import pandas as pd\n",
    "import matplotlib.pyplot as plt\n",
    "import seaborn as sns\n",
    "import random\n",
    "random.seed( 0 )"
   ]
  },
  {
   "cell_type": "code",
   "execution_count": 164,
   "metadata": {
    "colab": {},
    "colab_type": "code",
    "id": "nMLcX2kmeUL8"
   },
   "outputs": [],
   "source": [
    "train = pd.read_csv('a4-train.csv', index_col=0)\n",
    "test = pd.read_csv('a4-test.csv', index_col=0)"
   ]
  },
  {
   "cell_type": "code",
   "execution_count": 165,
   "metadata": {
    "colab": {
     "base_uri": "https://localhost:8080/",
     "height": 36
    },
    "colab_type": "code",
    "id": "kGWf11VZUTSY",
    "outputId": "9b62152f-d376-496e-faa6-b8ab29d75938"
   },
   "outputs": [
    {
     "data": {
      "text/plain": [
       "{dtype('int64')}"
      ]
     },
     "execution_count": 165,
     "metadata": {},
     "output_type": "execute_result"
    }
   ],
   "source": [
    "set(train.dtypes)"
   ]
  },
  {
   "cell_type": "markdown",
   "metadata": {
    "colab_type": "text",
    "id": "zT3Oh9KcdWYd"
   },
   "source": [
    "Task 1: Perform exploratory data analysis (15 points)"
   ]
  },
  {
   "cell_type": "code",
   "execution_count": 166,
   "metadata": {
    "colab": {
     "base_uri": "https://localhost:8080/",
     "height": 444
    },
    "colab_type": "code",
    "id": "ixvVwEqMQaxD",
    "outputId": "0d13c9e3-8776-4276-cdb4-ef9cbf3c1fbf"
   },
   "outputs": [
    {
     "data": {
      "text/html": [
       "<div>\n",
       "<style scoped>\n",
       "    .dataframe tbody tr th:only-of-type {\n",
       "        vertical-align: middle;\n",
       "    }\n",
       "\n",
       "    .dataframe tbody tr th {\n",
       "        vertical-align: top;\n",
       "    }\n",
       "\n",
       "    .dataframe thead th {\n",
       "        text-align: right;\n",
       "    }\n",
       "</style>\n",
       "<table border=\"1\" class=\"dataframe\">\n",
       "  <thead>\n",
       "    <tr style=\"text-align: right;\">\n",
       "      <th></th>\n",
       "      <th>feat_0</th>\n",
       "      <th>feat_1</th>\n",
       "      <th>feat_2</th>\n",
       "      <th>feat_3</th>\n",
       "      <th>feat_4</th>\n",
       "      <th>feat_5</th>\n",
       "      <th>feat_6</th>\n",
       "      <th>feat_7</th>\n",
       "      <th>feat_8</th>\n",
       "      <th>feat_9</th>\n",
       "      <th>...</th>\n",
       "      <th>feat_491</th>\n",
       "      <th>feat_492</th>\n",
       "      <th>feat_493</th>\n",
       "      <th>feat_494</th>\n",
       "      <th>feat_495</th>\n",
       "      <th>feat_496</th>\n",
       "      <th>feat_497</th>\n",
       "      <th>feat_498</th>\n",
       "      <th>feat_499</th>\n",
       "      <th>labels</th>\n",
       "    </tr>\n",
       "  </thead>\n",
       "  <tbody>\n",
       "    <tr>\n",
       "      <td>0</td>\n",
       "      <td>485</td>\n",
       "      <td>423</td>\n",
       "      <td>504</td>\n",
       "      <td>493</td>\n",
       "      <td>521</td>\n",
       "      <td>466</td>\n",
       "      <td>494</td>\n",
       "      <td>479</td>\n",
       "      <td>482</td>\n",
       "      <td>471</td>\n",
       "      <td>...</td>\n",
       "      <td>478</td>\n",
       "      <td>479</td>\n",
       "      <td>567</td>\n",
       "      <td>547</td>\n",
       "      <td>498</td>\n",
       "      <td>484</td>\n",
       "      <td>474</td>\n",
       "      <td>567</td>\n",
       "      <td>538</td>\n",
       "      <td>0</td>\n",
       "    </tr>\n",
       "    <tr>\n",
       "      <td>1</td>\n",
       "      <td>483</td>\n",
       "      <td>499</td>\n",
       "      <td>520</td>\n",
       "      <td>467</td>\n",
       "      <td>495</td>\n",
       "      <td>484</td>\n",
       "      <td>485</td>\n",
       "      <td>477</td>\n",
       "      <td>488</td>\n",
       "      <td>491</td>\n",
       "      <td>...</td>\n",
       "      <td>481</td>\n",
       "      <td>484</td>\n",
       "      <td>451</td>\n",
       "      <td>445</td>\n",
       "      <td>443</td>\n",
       "      <td>481</td>\n",
       "      <td>485</td>\n",
       "      <td>492</td>\n",
       "      <td>477</td>\n",
       "      <td>1</td>\n",
       "    </tr>\n",
       "    <tr>\n",
       "      <td>2</td>\n",
       "      <td>487</td>\n",
       "      <td>486</td>\n",
       "      <td>495</td>\n",
       "      <td>481</td>\n",
       "      <td>421</td>\n",
       "      <td>481</td>\n",
       "      <td>499</td>\n",
       "      <td>478</td>\n",
       "      <td>489</td>\n",
       "      <td>482</td>\n",
       "      <td>...</td>\n",
       "      <td>477</td>\n",
       "      <td>511</td>\n",
       "      <td>245</td>\n",
       "      <td>522</td>\n",
       "      <td>480</td>\n",
       "      <td>483</td>\n",
       "      <td>493</td>\n",
       "      <td>421</td>\n",
       "      <td>488</td>\n",
       "      <td>1</td>\n",
       "    </tr>\n",
       "    <tr>\n",
       "      <td>3</td>\n",
       "      <td>480</td>\n",
       "      <td>427</td>\n",
       "      <td>531</td>\n",
       "      <td>458</td>\n",
       "      <td>544</td>\n",
       "      <td>492</td>\n",
       "      <td>489</td>\n",
       "      <td>477</td>\n",
       "      <td>478</td>\n",
       "      <td>482</td>\n",
       "      <td>...</td>\n",
       "      <td>483</td>\n",
       "      <td>471</td>\n",
       "      <td>313</td>\n",
       "      <td>490</td>\n",
       "      <td>414</td>\n",
       "      <td>480</td>\n",
       "      <td>516</td>\n",
       "      <td>495</td>\n",
       "      <td>469</td>\n",
       "      <td>0</td>\n",
       "    </tr>\n",
       "    <tr>\n",
       "      <td>4</td>\n",
       "      <td>491</td>\n",
       "      <td>472</td>\n",
       "      <td>430</td>\n",
       "      <td>463</td>\n",
       "      <td>431</td>\n",
       "      <td>480</td>\n",
       "      <td>459</td>\n",
       "      <td>477</td>\n",
       "      <td>481</td>\n",
       "      <td>479</td>\n",
       "      <td>...</td>\n",
       "      <td>479</td>\n",
       "      <td>493</td>\n",
       "      <td>435</td>\n",
       "      <td>444</td>\n",
       "      <td>455</td>\n",
       "      <td>482</td>\n",
       "      <td>468</td>\n",
       "      <td>497</td>\n",
       "      <td>435</td>\n",
       "      <td>1</td>\n",
       "    </tr>\n",
       "    <tr>\n",
       "      <td>...</td>\n",
       "      <td>...</td>\n",
       "      <td>...</td>\n",
       "      <td>...</td>\n",
       "      <td>...</td>\n",
       "      <td>...</td>\n",
       "      <td>...</td>\n",
       "      <td>...</td>\n",
       "      <td>...</td>\n",
       "      <td>...</td>\n",
       "      <td>...</td>\n",
       "      <td>...</td>\n",
       "      <td>...</td>\n",
       "      <td>...</td>\n",
       "      <td>...</td>\n",
       "      <td>...</td>\n",
       "      <td>...</td>\n",
       "      <td>...</td>\n",
       "      <td>...</td>\n",
       "      <td>...</td>\n",
       "      <td>...</td>\n",
       "      <td>...</td>\n",
       "    </tr>\n",
       "    <tr>\n",
       "      <td>1995</td>\n",
       "      <td>483</td>\n",
       "      <td>452</td>\n",
       "      <td>477</td>\n",
       "      <td>467</td>\n",
       "      <td>493</td>\n",
       "      <td>481</td>\n",
       "      <td>445</td>\n",
       "      <td>476</td>\n",
       "      <td>486</td>\n",
       "      <td>477</td>\n",
       "      <td>...</td>\n",
       "      <td>481</td>\n",
       "      <td>475</td>\n",
       "      <td>539</td>\n",
       "      <td>526</td>\n",
       "      <td>521</td>\n",
       "      <td>477</td>\n",
       "      <td>471</td>\n",
       "      <td>503</td>\n",
       "      <td>531</td>\n",
       "      <td>1</td>\n",
       "    </tr>\n",
       "    <tr>\n",
       "      <td>1996</td>\n",
       "      <td>494</td>\n",
       "      <td>562</td>\n",
       "      <td>451</td>\n",
       "      <td>484</td>\n",
       "      <td>575</td>\n",
       "      <td>479</td>\n",
       "      <td>444</td>\n",
       "      <td>477</td>\n",
       "      <td>488</td>\n",
       "      <td>476</td>\n",
       "      <td>...</td>\n",
       "      <td>478</td>\n",
       "      <td>469</td>\n",
       "      <td>453</td>\n",
       "      <td>460</td>\n",
       "      <td>524</td>\n",
       "      <td>480</td>\n",
       "      <td>474</td>\n",
       "      <td>495</td>\n",
       "      <td>527</td>\n",
       "      <td>1</td>\n",
       "    </tr>\n",
       "    <tr>\n",
       "      <td>1997</td>\n",
       "      <td>496</td>\n",
       "      <td>494</td>\n",
       "      <td>475</td>\n",
       "      <td>497</td>\n",
       "      <td>483</td>\n",
       "      <td>487</td>\n",
       "      <td>466</td>\n",
       "      <td>477</td>\n",
       "      <td>488</td>\n",
       "      <td>487</td>\n",
       "      <td>...</td>\n",
       "      <td>475</td>\n",
       "      <td>545</td>\n",
       "      <td>298</td>\n",
       "      <td>514</td>\n",
       "      <td>529</td>\n",
       "      <td>487</td>\n",
       "      <td>504</td>\n",
       "      <td>517</td>\n",
       "      <td>531</td>\n",
       "      <td>0</td>\n",
       "    </tr>\n",
       "    <tr>\n",
       "      <td>1998</td>\n",
       "      <td>483</td>\n",
       "      <td>495</td>\n",
       "      <td>472</td>\n",
       "      <td>480</td>\n",
       "      <td>523</td>\n",
       "      <td>474</td>\n",
       "      <td>500</td>\n",
       "      <td>477</td>\n",
       "      <td>472</td>\n",
       "      <td>486</td>\n",
       "      <td>...</td>\n",
       "      <td>482</td>\n",
       "      <td>481</td>\n",
       "      <td>698</td>\n",
       "      <td>490</td>\n",
       "      <td>516</td>\n",
       "      <td>475</td>\n",
       "      <td>494</td>\n",
       "      <td>540</td>\n",
       "      <td>506</td>\n",
       "      <td>0</td>\n",
       "    </tr>\n",
       "    <tr>\n",
       "      <td>1999</td>\n",
       "      <td>493</td>\n",
       "      <td>434</td>\n",
       "      <td>479</td>\n",
       "      <td>484</td>\n",
       "      <td>511</td>\n",
       "      <td>482</td>\n",
       "      <td>468</td>\n",
       "      <td>477</td>\n",
       "      <td>502</td>\n",
       "      <td>475</td>\n",
       "      <td>...</td>\n",
       "      <td>485</td>\n",
       "      <td>478</td>\n",
       "      <td>605</td>\n",
       "      <td>507</td>\n",
       "      <td>469</td>\n",
       "      <td>487</td>\n",
       "      <td>470</td>\n",
       "      <td>469</td>\n",
       "      <td>447</td>\n",
       "      <td>0</td>\n",
       "    </tr>\n",
       "  </tbody>\n",
       "</table>\n",
       "<p>2000 rows × 501 columns</p>\n",
       "</div>"
      ],
      "text/plain": [
       "      feat_0  feat_1  feat_2  feat_3  feat_4  feat_5  feat_6  feat_7  feat_8  \\\n",
       "0        485     423     504     493     521     466     494     479     482   \n",
       "1        483     499     520     467     495     484     485     477     488   \n",
       "2        487     486     495     481     421     481     499     478     489   \n",
       "3        480     427     531     458     544     492     489     477     478   \n",
       "4        491     472     430     463     431     480     459     477     481   \n",
       "...      ...     ...     ...     ...     ...     ...     ...     ...     ...   \n",
       "1995     483     452     477     467     493     481     445     476     486   \n",
       "1996     494     562     451     484     575     479     444     477     488   \n",
       "1997     496     494     475     497     483     487     466     477     488   \n",
       "1998     483     495     472     480     523     474     500     477     472   \n",
       "1999     493     434     479     484     511     482     468     477     502   \n",
       "\n",
       "      feat_9  ...  feat_491  feat_492  feat_493  feat_494  feat_495  feat_496  \\\n",
       "0        471  ...       478       479       567       547       498       484   \n",
       "1        491  ...       481       484       451       445       443       481   \n",
       "2        482  ...       477       511       245       522       480       483   \n",
       "3        482  ...       483       471       313       490       414       480   \n",
       "4        479  ...       479       493       435       444       455       482   \n",
       "...      ...  ...       ...       ...       ...       ...       ...       ...   \n",
       "1995     477  ...       481       475       539       526       521       477   \n",
       "1996     476  ...       478       469       453       460       524       480   \n",
       "1997     487  ...       475       545       298       514       529       487   \n",
       "1998     486  ...       482       481       698       490       516       475   \n",
       "1999     475  ...       485       478       605       507       469       487   \n",
       "\n",
       "      feat_497  feat_498  feat_499  labels  \n",
       "0          474       567       538       0  \n",
       "1          485       492       477       1  \n",
       "2          493       421       488       1  \n",
       "3          516       495       469       0  \n",
       "4          468       497       435       1  \n",
       "...        ...       ...       ...     ...  \n",
       "1995       471       503       531       1  \n",
       "1996       474       495       527       1  \n",
       "1997       504       517       531       0  \n",
       "1998       494       540       506       0  \n",
       "1999       470       469       447       0  \n",
       "\n",
       "[2000 rows x 501 columns]"
      ]
     },
     "execution_count": 166,
     "metadata": {},
     "output_type": "execute_result"
    }
   ],
   "source": [
    "train"
   ]
  },
  {
   "cell_type": "code",
   "execution_count": 167,
   "metadata": {
    "colab": {
     "base_uri": "https://localhost:8080/",
     "height": 240
    },
    "colab_type": "code",
    "id": "h2e3WaXXQaxI",
    "outputId": "a0fbf7e4-f42b-47bd-d465-46ccc1dc091a"
   },
   "outputs": [
    {
     "data": {
      "text/plain": [
       "feat_0      0.002414\n",
       "feat_1      0.019003\n",
       "feat_2      0.011906\n",
       "feat_3     -0.002153\n",
       "feat_4      0.042497\n",
       "              ...   \n",
       "feat_496   -0.053324\n",
       "feat_497    0.036145\n",
       "feat_498    0.002203\n",
       "feat_499    0.001549\n",
       "labels      1.000000\n",
       "Name: labels, Length: 501, dtype: float64"
      ]
     },
     "execution_count": 167,
     "metadata": {},
     "output_type": "execute_result"
    }
   ],
   "source": [
    "a=train.corr()\n",
    "# a['labels']\n",
    "a['labels']"
   ]
  },
  {
   "cell_type": "code",
   "execution_count": 168,
   "metadata": {
    "colab": {
     "base_uri": "https://localhost:8080/",
     "height": 322
    },
    "colab_type": "code",
    "id": "i6gU7KMQQaxM",
    "outputId": "3c62d2fd-fed2-4042-e141-49a99cbdd013"
   },
   "outputs": [
    {
     "data": {
      "text/plain": [
       "<matplotlib.axes._subplots.AxesSubplot at 0x25e87c3fe08>"
      ]
     },
     "execution_count": 168,
     "metadata": {},
     "output_type": "execute_result"
    },
    {
     "data": {
      "image/png": "[encoded data removed]",
      "text/plain": [
       "<Figure size 432x288 with 2 Axes>"
      ]
     },
     "metadata": {
      "needs_background": "light"
     },
     "output_type": "display_data"
    }
   ],
   "source": [
    "sns.heatmap(a)"
   ]
  },
  {
   "cell_type": "code",
   "execution_count": 169,
   "metadata": {
    "colab": {
     "base_uri": "https://localhost:8080/",
     "height": 81
    },
    "colab_type": "code",
    "id": "SgwIQS93QaxQ",
    "outputId": "2ec674a5-01d4-4ad0-e670-f40aadfee470"
   },
   "outputs": [
    {
     "data": {
      "text/html": [
       "<div>\n",
       "<style scoped>\n",
       "    .dataframe tbody tr th:only-of-type {\n",
       "        vertical-align: middle;\n",
       "    }\n",
       "\n",
       "    .dataframe tbody tr th {\n",
       "        vertical-align: top;\n",
       "    }\n",
       "\n",
       "    .dataframe thead th {\n",
       "        text-align: right;\n",
       "    }\n",
       "</style>\n",
       "<table border=\"1\" class=\"dataframe\">\n",
       "  <thead>\n",
       "    <tr style=\"text-align: right;\">\n",
       "      <th></th>\n",
       "      <th>feat_48</th>\n",
       "      <th>feat_105</th>\n",
       "      <th>feat_128</th>\n",
       "      <th>feat_241</th>\n",
       "      <th>feat_378</th>\n",
       "      <th>feat_475</th>\n",
       "    </tr>\n",
       "  </thead>\n",
       "  <tbody>\n",
       "    <tr>\n",
       "      <td>labels</td>\n",
       "      <td>0.118477</td>\n",
       "      <td>0.126263</td>\n",
       "      <td>0.126758</td>\n",
       "      <td>0.217827</td>\n",
       "      <td>0.115962</td>\n",
       "      <td>0.219933</td>\n",
       "    </tr>\n",
       "  </tbody>\n",
       "</table>\n",
       "</div>"
      ],
      "text/plain": [
       "         feat_48  feat_105  feat_128  feat_241  feat_378  feat_475\n",
       "labels  0.118477  0.126263  0.126758  0.217827  0.115962  0.219933"
      ]
     },
     "execution_count": 169,
     "metadata": {},
     "output_type": "execute_result"
    }
   ],
   "source": [
    "b=a.iloc[-1:]\n",
    "b=b.drop(columns=['labels'],axis=1)\n",
    "\n",
    "\n",
    "# for i in b:\n",
    "#     print(b[i])\n",
    "    \n",
    "    \n",
    "b=b[b>.1]\n",
    "# np.amax(b,axis=1)\n",
    "\n",
    "b.dropna(axis=1)"
   ]
  },
  {
   "cell_type": "code",
   "execution_count": 170,
   "metadata": {},
   "outputs": [
    {
     "data": {
      "text/html": [
       "<div>\n",
       "<style scoped>\n",
       "    .dataframe tbody tr th:only-of-type {\n",
       "        vertical-align: middle;\n",
       "    }\n",
       "\n",
       "    .dataframe tbody tr th {\n",
       "        vertical-align: top;\n",
       "    }\n",
       "\n",
       "    .dataframe thead th {\n",
       "        text-align: right;\n",
       "    }\n",
       "</style>\n",
       "<table border=\"1\" class=\"dataframe\">\n",
       "  <thead>\n",
       "    <tr style=\"text-align: right;\">\n",
       "      <th></th>\n",
       "      <th>feat_48</th>\n",
       "      <th>feat_105</th>\n",
       "      <th>feat_128</th>\n",
       "      <th>feat_241</th>\n",
       "      <th>feat_378</th>\n",
       "      <th>feat_475</th>\n",
       "    </tr>\n",
       "  </thead>\n",
       "  <tbody>\n",
       "    <tr>\n",
       "      <td>0</td>\n",
       "      <td>513</td>\n",
       "      <td>506</td>\n",
       "      <td>479</td>\n",
       "      <td>446</td>\n",
       "      <td>525</td>\n",
       "      <td>411</td>\n",
       "    </tr>\n",
       "    <tr>\n",
       "      <td>1</td>\n",
       "      <td>519</td>\n",
       "      <td>366</td>\n",
       "      <td>469</td>\n",
       "      <td>432</td>\n",
       "      <td>535</td>\n",
       "      <td>402</td>\n",
       "    </tr>\n",
       "    <tr>\n",
       "      <td>2</td>\n",
       "      <td>507</td>\n",
       "      <td>529</td>\n",
       "      <td>481</td>\n",
       "      <td>452</td>\n",
       "      <td>522</td>\n",
       "      <td>399</td>\n",
       "    </tr>\n",
       "    <tr>\n",
       "      <td>3</td>\n",
       "      <td>437</td>\n",
       "      <td>181</td>\n",
       "      <td>455</td>\n",
       "      <td>457</td>\n",
       "      <td>431</td>\n",
       "      <td>430</td>\n",
       "    </tr>\n",
       "    <tr>\n",
       "      <td>4</td>\n",
       "      <td>518</td>\n",
       "      <td>427</td>\n",
       "      <td>473</td>\n",
       "      <td>455</td>\n",
       "      <td>538</td>\n",
       "      <td>419</td>\n",
       "    </tr>\n",
       "    <tr>\n",
       "      <td>...</td>\n",
       "      <td>...</td>\n",
       "      <td>...</td>\n",
       "      <td>...</td>\n",
       "      <td>...</td>\n",
       "      <td>...</td>\n",
       "      <td>...</td>\n",
       "    </tr>\n",
       "    <tr>\n",
       "      <td>595</td>\n",
       "      <td>504</td>\n",
       "      <td>333</td>\n",
       "      <td>463</td>\n",
       "      <td>479</td>\n",
       "      <td>513</td>\n",
       "      <td>457</td>\n",
       "    </tr>\n",
       "    <tr>\n",
       "      <td>596</td>\n",
       "      <td>532</td>\n",
       "      <td>583</td>\n",
       "      <td>488</td>\n",
       "      <td>449</td>\n",
       "      <td>576</td>\n",
       "      <td>411</td>\n",
       "    </tr>\n",
       "    <tr>\n",
       "      <td>597</td>\n",
       "      <td>451</td>\n",
       "      <td>496</td>\n",
       "      <td>478</td>\n",
       "      <td>505</td>\n",
       "      <td>455</td>\n",
       "      <td>487</td>\n",
       "    </tr>\n",
       "    <tr>\n",
       "      <td>598</td>\n",
       "      <td>511</td>\n",
       "      <td>630</td>\n",
       "      <td>489</td>\n",
       "      <td>469</td>\n",
       "      <td>536</td>\n",
       "      <td>445</td>\n",
       "    </tr>\n",
       "    <tr>\n",
       "      <td>599</td>\n",
       "      <td>494</td>\n",
       "      <td>453</td>\n",
       "      <td>475</td>\n",
       "      <td>411</td>\n",
       "      <td>509</td>\n",
       "      <td>366</td>\n",
       "    </tr>\n",
       "  </tbody>\n",
       "</table>\n",
       "<p>600 rows × 6 columns</p>\n",
       "</div>"
      ],
      "text/plain": [
       "     feat_48  feat_105  feat_128  feat_241  feat_378  feat_475\n",
       "0        513       506       479       446       525       411\n",
       "1        519       366       469       432       535       402\n",
       "2        507       529       481       452       522       399\n",
       "3        437       181       455       457       431       430\n",
       "4        518       427       473       455       538       419\n",
       "..       ...       ...       ...       ...       ...       ...\n",
       "595      504       333       463       479       513       457\n",
       "596      532       583       488       449       576       411\n",
       "597      451       496       478       505       455       487\n",
       "598      511       630       489       469       536       445\n",
       "599      494       453       475       411       509       366\n",
       "\n",
       "[600 rows x 6 columns]"
      ]
     },
     "execution_count": 170,
     "metadata": {},
     "output_type": "execute_result"
    }
   ],
   "source": [
    "X_train_6=train[['feat_48', 'feat_105', 'feat_128', 'feat_241', 'feat_378', 'feat_475']]\n",
    "X_train_6\n",
    "X_test_6=test[['feat_48', 'feat_105', 'feat_128', 'feat_241', 'feat_378', 'feat_475']]\n",
    "X_test_6"
   ]
  },
  {
   "cell_type": "code",
   "execution_count": 171,
   "metadata": {
    "colab": {
     "base_uri": "https://localhost:8080/",
     "height": 240
    },
    "colab_type": "code",
    "id": "BibrMSuLQaxV",
    "outputId": "54d134d1-a8aa-45fe-8cba-07bb707d5877"
   },
   "outputs": [
    {
     "data": {
      "text/plain": [
       "0      411\n",
       "1      402\n",
       "2      399\n",
       "3      430\n",
       "4      419\n",
       "      ... \n",
       "595    457\n",
       "596    411\n",
       "597    487\n",
       "598    445\n",
       "599    366\n",
       "Name: feat_475, Length: 600, dtype: int64"
      ]
     },
     "execution_count": 171,
     "metadata": {},
     "output_type": "execute_result"
    }
   ],
   "source": [
    "X_train_feat_475=train['feat_475']\n",
    "X_test_feat_475=test['feat_475']\n",
    "X_test_feat_475"
   ]
  },
  {
   "cell_type": "code",
   "execution_count": null,
   "metadata": {
    "colab": {},
    "colab_type": "code",
    "id": "9l7cyHylQaxZ"
   },
   "outputs": [],
   "source": []
  },
  {
   "cell_type": "code",
   "execution_count": 172,
   "metadata": {
    "colab": {
     "base_uri": "https://localhost:8080/",
     "height": 444
    },
    "colab_type": "code",
    "id": "1Kizp4WlUTSg",
    "outputId": "ace23ef4-1303-4e2a-86a4-62aedcfb81a8"
   },
   "outputs": [
    {
     "data": {
      "text/html": [
       "<div>\n",
       "<style scoped>\n",
       "    .dataframe tbody tr th:only-of-type {\n",
       "        vertical-align: middle;\n",
       "    }\n",
       "\n",
       "    .dataframe tbody tr th {\n",
       "        vertical-align: top;\n",
       "    }\n",
       "\n",
       "    .dataframe thead th {\n",
       "        text-align: right;\n",
       "    }\n",
       "</style>\n",
       "<table border=\"1\" class=\"dataframe\">\n",
       "  <thead>\n",
       "    <tr style=\"text-align: right;\">\n",
       "      <th></th>\n",
       "      <th>feat_0</th>\n",
       "      <th>feat_1</th>\n",
       "      <th>feat_2</th>\n",
       "      <th>feat_3</th>\n",
       "      <th>feat_4</th>\n",
       "      <th>feat_5</th>\n",
       "      <th>feat_6</th>\n",
       "      <th>feat_7</th>\n",
       "      <th>feat_8</th>\n",
       "      <th>feat_9</th>\n",
       "      <th>...</th>\n",
       "      <th>feat_491</th>\n",
       "      <th>feat_492</th>\n",
       "      <th>feat_493</th>\n",
       "      <th>feat_494</th>\n",
       "      <th>feat_495</th>\n",
       "      <th>feat_496</th>\n",
       "      <th>feat_497</th>\n",
       "      <th>feat_498</th>\n",
       "      <th>feat_499</th>\n",
       "      <th>labels</th>\n",
       "    </tr>\n",
       "  </thead>\n",
       "  <tbody>\n",
       "    <tr>\n",
       "      <td>0</td>\n",
       "      <td>486</td>\n",
       "      <td>497</td>\n",
       "      <td>494</td>\n",
       "      <td>477</td>\n",
       "      <td>582</td>\n",
       "      <td>478</td>\n",
       "      <td>535</td>\n",
       "      <td>477</td>\n",
       "      <td>496</td>\n",
       "      <td>480</td>\n",
       "      <td>...</td>\n",
       "      <td>485</td>\n",
       "      <td>473</td>\n",
       "      <td>576</td>\n",
       "      <td>521</td>\n",
       "      <td>493</td>\n",
       "      <td>481</td>\n",
       "      <td>485</td>\n",
       "      <td>490</td>\n",
       "      <td>478</td>\n",
       "      <td>0</td>\n",
       "    </tr>\n",
       "    <tr>\n",
       "      <td>1</td>\n",
       "      <td>496</td>\n",
       "      <td>524</td>\n",
       "      <td>490</td>\n",
       "      <td>485</td>\n",
       "      <td>438</td>\n",
       "      <td>488</td>\n",
       "      <td>503</td>\n",
       "      <td>476</td>\n",
       "      <td>474</td>\n",
       "      <td>491</td>\n",
       "      <td>...</td>\n",
       "      <td>474</td>\n",
       "      <td>519</td>\n",
       "      <td>441</td>\n",
       "      <td>453</td>\n",
       "      <td>488</td>\n",
       "      <td>488</td>\n",
       "      <td>503</td>\n",
       "      <td>543</td>\n",
       "      <td>547</td>\n",
       "      <td>0</td>\n",
       "    </tr>\n",
       "    <tr>\n",
       "      <td>2</td>\n",
       "      <td>486</td>\n",
       "      <td>465</td>\n",
       "      <td>481</td>\n",
       "      <td>467</td>\n",
       "      <td>529</td>\n",
       "      <td>484</td>\n",
       "      <td>464</td>\n",
       "      <td>476</td>\n",
       "      <td>508</td>\n",
       "      <td>474</td>\n",
       "      <td>...</td>\n",
       "      <td>482</td>\n",
       "      <td>454</td>\n",
       "      <td>712</td>\n",
       "      <td>425</td>\n",
       "      <td>518</td>\n",
       "      <td>479</td>\n",
       "      <td>466</td>\n",
       "      <td>494</td>\n",
       "      <td>470</td>\n",
       "      <td>1</td>\n",
       "    </tr>\n",
       "    <tr>\n",
       "      <td>3</td>\n",
       "      <td>479</td>\n",
       "      <td>485</td>\n",
       "      <td>502</td>\n",
       "      <td>489</td>\n",
       "      <td>487</td>\n",
       "      <td>478</td>\n",
       "      <td>402</td>\n",
       "      <td>477</td>\n",
       "      <td>500</td>\n",
       "      <td>473</td>\n",
       "      <td>...</td>\n",
       "      <td>470</td>\n",
       "      <td>491</td>\n",
       "      <td>381</td>\n",
       "      <td>532</td>\n",
       "      <td>469</td>\n",
       "      <td>488</td>\n",
       "      <td>487</td>\n",
       "      <td>539</td>\n",
       "      <td>546</td>\n",
       "      <td>1</td>\n",
       "    </tr>\n",
       "    <tr>\n",
       "      <td>4</td>\n",
       "      <td>482</td>\n",
       "      <td>485</td>\n",
       "      <td>551</td>\n",
       "      <td>475</td>\n",
       "      <td>443</td>\n",
       "      <td>475</td>\n",
       "      <td>456</td>\n",
       "      <td>475</td>\n",
       "      <td>494</td>\n",
       "      <td>471</td>\n",
       "      <td>...</td>\n",
       "      <td>484</td>\n",
       "      <td>479</td>\n",
       "      <td>574</td>\n",
       "      <td>509</td>\n",
       "      <td>509</td>\n",
       "      <td>473</td>\n",
       "      <td>483</td>\n",
       "      <td>545</td>\n",
       "      <td>490</td>\n",
       "      <td>1</td>\n",
       "    </tr>\n",
       "    <tr>\n",
       "      <td>...</td>\n",
       "      <td>...</td>\n",
       "      <td>...</td>\n",
       "      <td>...</td>\n",
       "      <td>...</td>\n",
       "      <td>...</td>\n",
       "      <td>...</td>\n",
       "      <td>...</td>\n",
       "      <td>...</td>\n",
       "      <td>...</td>\n",
       "      <td>...</td>\n",
       "      <td>...</td>\n",
       "      <td>...</td>\n",
       "      <td>...</td>\n",
       "      <td>...</td>\n",
       "      <td>...</td>\n",
       "      <td>...</td>\n",
       "      <td>...</td>\n",
       "      <td>...</td>\n",
       "      <td>...</td>\n",
       "      <td>...</td>\n",
       "      <td>...</td>\n",
       "    </tr>\n",
       "    <tr>\n",
       "      <td>595</td>\n",
       "      <td>489</td>\n",
       "      <td>447</td>\n",
       "      <td>499</td>\n",
       "      <td>464</td>\n",
       "      <td>470</td>\n",
       "      <td>488</td>\n",
       "      <td>446</td>\n",
       "      <td>477</td>\n",
       "      <td>475</td>\n",
       "      <td>479</td>\n",
       "      <td>...</td>\n",
       "      <td>476</td>\n",
       "      <td>474</td>\n",
       "      <td>351</td>\n",
       "      <td>456</td>\n",
       "      <td>530</td>\n",
       "      <td>491</td>\n",
       "      <td>500</td>\n",
       "      <td>510</td>\n",
       "      <td>476</td>\n",
       "      <td>0</td>\n",
       "    </tr>\n",
       "    <tr>\n",
       "      <td>596</td>\n",
       "      <td>480</td>\n",
       "      <td>455</td>\n",
       "      <td>580</td>\n",
       "      <td>487</td>\n",
       "      <td>484</td>\n",
       "      <td>488</td>\n",
       "      <td>523</td>\n",
       "      <td>477</td>\n",
       "      <td>495</td>\n",
       "      <td>487</td>\n",
       "      <td>...</td>\n",
       "      <td>478</td>\n",
       "      <td>497</td>\n",
       "      <td>712</td>\n",
       "      <td>505</td>\n",
       "      <td>545</td>\n",
       "      <td>480</td>\n",
       "      <td>486</td>\n",
       "      <td>529</td>\n",
       "      <td>504</td>\n",
       "      <td>1</td>\n",
       "    </tr>\n",
       "    <tr>\n",
       "      <td>597</td>\n",
       "      <td>472</td>\n",
       "      <td>506</td>\n",
       "      <td>525</td>\n",
       "      <td>490</td>\n",
       "      <td>537</td>\n",
       "      <td>475</td>\n",
       "      <td>463</td>\n",
       "      <td>474</td>\n",
       "      <td>478</td>\n",
       "      <td>497</td>\n",
       "      <td>...</td>\n",
       "      <td>492</td>\n",
       "      <td>480</td>\n",
       "      <td>521</td>\n",
       "      <td>532</td>\n",
       "      <td>541</td>\n",
       "      <td>470</td>\n",
       "      <td>490</td>\n",
       "      <td>552</td>\n",
       "      <td>491</td>\n",
       "      <td>0</td>\n",
       "    </tr>\n",
       "    <tr>\n",
       "      <td>598</td>\n",
       "      <td>492</td>\n",
       "      <td>475</td>\n",
       "      <td>577</td>\n",
       "      <td>493</td>\n",
       "      <td>457</td>\n",
       "      <td>486</td>\n",
       "      <td>466</td>\n",
       "      <td>476</td>\n",
       "      <td>532</td>\n",
       "      <td>473</td>\n",
       "      <td>...</td>\n",
       "      <td>481</td>\n",
       "      <td>527</td>\n",
       "      <td>534</td>\n",
       "      <td>521</td>\n",
       "      <td>456</td>\n",
       "      <td>475</td>\n",
       "      <td>482</td>\n",
       "      <td>514</td>\n",
       "      <td>480</td>\n",
       "      <td>0</td>\n",
       "    </tr>\n",
       "    <tr>\n",
       "      <td>599</td>\n",
       "      <td>483</td>\n",
       "      <td>500</td>\n",
       "      <td>514</td>\n",
       "      <td>472</td>\n",
       "      <td>518</td>\n",
       "      <td>491</td>\n",
       "      <td>465</td>\n",
       "      <td>479</td>\n",
       "      <td>481</td>\n",
       "      <td>480</td>\n",
       "      <td>...</td>\n",
       "      <td>482</td>\n",
       "      <td>511</td>\n",
       "      <td>753</td>\n",
       "      <td>483</td>\n",
       "      <td>495</td>\n",
       "      <td>469</td>\n",
       "      <td>471</td>\n",
       "      <td>527</td>\n",
       "      <td>481</td>\n",
       "      <td>1</td>\n",
       "    </tr>\n",
       "  </tbody>\n",
       "</table>\n",
       "<p>600 rows × 501 columns</p>\n",
       "</div>"
      ],
      "text/plain": [
       "     feat_0  feat_1  feat_2  feat_3  feat_4  feat_5  feat_6  feat_7  feat_8  \\\n",
       "0       486     497     494     477     582     478     535     477     496   \n",
       "1       496     524     490     485     438     488     503     476     474   \n",
       "2       486     465     481     467     529     484     464     476     508   \n",
       "3       479     485     502     489     487     478     402     477     500   \n",
       "4       482     485     551     475     443     475     456     475     494   \n",
       "..      ...     ...     ...     ...     ...     ...     ...     ...     ...   \n",
       "595     489     447     499     464     470     488     446     477     475   \n",
       "596     480     455     580     487     484     488     523     477     495   \n",
       "597     472     506     525     490     537     475     463     474     478   \n",
       "598     492     475     577     493     457     486     466     476     532   \n",
       "599     483     500     514     472     518     491     465     479     481   \n",
       "\n",
       "     feat_9  ...  feat_491  feat_492  feat_493  feat_494  feat_495  feat_496  \\\n",
       "0       480  ...       485       473       576       521       493       481   \n",
       "1       491  ...       474       519       441       453       488       488   \n",
       "2       474  ...       482       454       712       425       518       479   \n",
       "3       473  ...       470       491       381       532       469       488   \n",
       "4       471  ...       484       479       574       509       509       473   \n",
       "..      ...  ...       ...       ...       ...       ...       ...       ...   \n",
       "595     479  ...       476       474       351       456       530       491   \n",
       "596     487  ...       478       497       712       505       545       480   \n",
       "597     497  ...       492       480       521       532       541       470   \n",
       "598     473  ...       481       527       534       521       456       475   \n",
       "599     480  ...       482       511       753       483       495       469   \n",
       "\n",
       "     feat_497  feat_498  feat_499  labels  \n",
       "0         485       490       478       0  \n",
       "1         503       543       547       0  \n",
       "2         466       494       470       1  \n",
       "3         487       539       546       1  \n",
       "4         483       545       490       1  \n",
       "..        ...       ...       ...     ...  \n",
       "595       500       510       476       0  \n",
       "596       486       529       504       1  \n",
       "597       490       552       491       0  \n",
       "598       482       514       480       0  \n",
       "599       471       527       481       1  \n",
       "\n",
       "[600 rows x 501 columns]"
      ]
     },
     "execution_count": 172,
     "metadata": {},
     "output_type": "execute_result"
    }
   ],
   "source": [
    "test"
   ]
  },
  {
   "cell_type": "code",
   "execution_count": null,
   "metadata": {
    "colab": {},
    "colab_type": "code",
    "id": "azHb_6qeUTSl"
   },
   "outputs": [],
   "source": []
  },
  {
   "cell_type": "code",
   "execution_count": 173,
   "metadata": {
    "colab": {},
    "colab_type": "code",
    "id": "us3rhe68VPb_"
   },
   "outputs": [],
   "source": [
    "X_train=train.drop(columns=['labels'],axis=1)\n",
    "# y_train=pd.DataFrame(train,columns=['labels'])\n",
    "y_train=train['labels']\n",
    "\n",
    "X_test=test.drop(columns=['labels'],axis=1)\n",
    "# y_test=pd.DataFrame(test,columns=['labels'])\n",
    "y_test=test['labels']"
   ]
  },
  {
   "cell_type": "code",
   "execution_count": 174,
   "metadata": {
    "colab": {
     "base_uri": "https://localhost:8080/",
     "height": 36
    },
    "colab_type": "code",
    "id": "IT3iydIMUTSz",
    "outputId": "dd53f9e5-9939-4edd-f5d7-d89d7ed93beb"
   },
   "outputs": [
    {
     "data": {
      "text/plain": [
       "(2000, 500)"
      ]
     },
     "execution_count": 174,
     "metadata": {},
     "output_type": "execute_result"
    }
   ],
   "source": [
    "X_train.shape"
   ]
  },
  {
   "cell_type": "code",
   "execution_count": 175,
   "metadata": {
    "colab": {
     "base_uri": "https://localhost:8080/",
     "height": 73
    },
    "colab_type": "code",
    "id": "vSKLMhT1UTS5",
    "outputId": "1b2ccd6b-75e6-4c0a-f762-acde196afe79"
   },
   "outputs": [
    {
     "data": {
      "text/plain": [
       "1    1000\n",
       "0    1000\n",
       "Name: labels, dtype: int64"
      ]
     },
     "execution_count": 175,
     "metadata": {},
     "output_type": "execute_result"
    }
   ],
   "source": [
    "# y_train.groupby('labels').size()\n",
    "y_train.value_counts()"
   ]
  },
  {
   "cell_type": "code",
   "execution_count": 176,
   "metadata": {
    "colab": {
     "base_uri": "https://localhost:8080/",
     "height": 99
    },
    "colab_type": "code",
    "id": "n2qirZlaQaxt",
    "outputId": "1cab6f22-31e7-42ae-f673-489f049be2b3"
   },
   "outputs": [
    {
     "data": {
      "text/html": [
       "<div>\n",
       "<style scoped>\n",
       "    .dataframe tbody tr th:only-of-type {\n",
       "        vertical-align: middle;\n",
       "    }\n",
       "\n",
       "    .dataframe tbody tr th {\n",
       "        vertical-align: top;\n",
       "    }\n",
       "\n",
       "    .dataframe thead th {\n",
       "        text-align: right;\n",
       "    }\n",
       "</style>\n",
       "<table border=\"1\" class=\"dataframe\">\n",
       "  <thead>\n",
       "    <tr style=\"text-align: right;\">\n",
       "      <th></th>\n",
       "      <th>feat_0</th>\n",
       "      <th>feat_1</th>\n",
       "      <th>feat_2</th>\n",
       "      <th>feat_3</th>\n",
       "      <th>feat_4</th>\n",
       "      <th>feat_5</th>\n",
       "      <th>feat_6</th>\n",
       "      <th>feat_7</th>\n",
       "      <th>feat_8</th>\n",
       "      <th>feat_9</th>\n",
       "      <th>...</th>\n",
       "      <th>feat_490</th>\n",
       "      <th>feat_491</th>\n",
       "      <th>feat_492</th>\n",
       "      <th>feat_493</th>\n",
       "      <th>feat_494</th>\n",
       "      <th>feat_495</th>\n",
       "      <th>feat_496</th>\n",
       "      <th>feat_497</th>\n",
       "      <th>feat_498</th>\n",
       "      <th>feat_499</th>\n",
       "    </tr>\n",
       "  </thead>\n",
       "  <tbody>\n",
       "  </tbody>\n",
       "</table>\n",
       "<p>0 rows × 500 columns</p>\n",
       "</div>"
      ],
      "text/plain": [
       "Empty DataFrame\n",
       "Columns: [feat_0, feat_1, feat_2, feat_3, feat_4, feat_5, feat_6, feat_7, feat_8, feat_9, feat_10, feat_11, feat_12, feat_13, feat_14, feat_15, feat_16, feat_17, feat_18, feat_19, feat_20, feat_21, feat_22, feat_23, feat_24, feat_25, feat_26, feat_27, feat_28, feat_29, feat_30, feat_31, feat_32, feat_33, feat_34, feat_35, feat_36, feat_37, feat_38, feat_39, feat_40, feat_41, feat_42, feat_43, feat_44, feat_45, feat_46, feat_47, feat_48, feat_49, feat_50, feat_51, feat_52, feat_53, feat_54, feat_55, feat_56, feat_57, feat_58, feat_59, feat_60, feat_61, feat_62, feat_63, feat_64, feat_65, feat_66, feat_67, feat_68, feat_69, feat_70, feat_71, feat_72, feat_73, feat_74, feat_75, feat_76, feat_77, feat_78, feat_79, feat_80, feat_81, feat_82, feat_83, feat_84, feat_85, feat_86, feat_87, feat_88, feat_89, feat_90, feat_91, feat_92, feat_93, feat_94, feat_95, feat_96, feat_97, feat_98, feat_99, ...]\n",
       "Index: []\n",
       "\n",
       "[0 rows x 500 columns]"
      ]
     },
     "execution_count": 176,
     "metadata": {},
     "output_type": "execute_result"
    }
   ],
   "source": [
    "duplicate_rows_df = X_train[X_train.duplicated()]\n",
    "duplicate_rows_df"
   ]
  },
  {
   "cell_type": "code",
   "execution_count": 177,
   "metadata": {
    "colab": {
     "base_uri": "https://localhost:8080/",
     "height": 36
    },
    "colab_type": "code",
    "id": "ezcrSk3vQaxx",
    "outputId": "78712eb4-b8d2-482e-a3aa-5d1ac3388161"
   },
   "outputs": [
    {
     "data": {
      "text/plain": [
       "{2000}"
      ]
     },
     "execution_count": 177,
     "metadata": {},
     "output_type": "execute_result"
    }
   ],
   "source": [
    "set(X_train.count())"
   ]
  },
  {
   "cell_type": "code",
   "execution_count": 178,
   "metadata": {
    "colab": {
     "base_uri": "https://localhost:8080/",
     "height": 36
    },
    "colab_type": "code",
    "id": "4xnDxtnqQax0",
    "outputId": "2e3527ae-f3fd-4a45-d52f-fdae3b9755f5"
   },
   "outputs": [
    {
     "data": {
      "text/plain": [
       "{0}"
      ]
     },
     "execution_count": 178,
     "metadata": {},
     "output_type": "execute_result"
    }
   ],
   "source": [
    "############ Checking NULL values in training set for feature engineering ################\n",
    "set(X_train.isnull().sum())"
   ]
  },
  {
   "cell_type": "code",
   "execution_count": 179,
   "metadata": {
    "colab": {
     "base_uri": "https://localhost:8080/",
     "height": 284
    },
    "colab_type": "code",
    "id": "kJWJ5yYfQax3",
    "outputId": "6d4d9823-1242-45bf-b10d-dad5c45e6145"
   },
   "outputs": [
    {
     "data": {
      "text/plain": [
       "<matplotlib.axes._subplots.AxesSubplot at 0x25e8c69af08>"
      ]
     },
     "execution_count": 179,
     "metadata": {},
     "output_type": "execute_result"
    },
    {
     "data": {
      "image/png": "[encoded data removed]",
      "text/plain": [
       "<Figure size 432x288 with 1 Axes>"
      ]
     },
     "metadata": {
      "needs_background": "light"
     },
     "output_type": "display_data"
    }
   ],
   "source": [
    "############ Checking Distrubution to detect outliers ####################\n",
    "import seaborn as sns\n",
    "sns.boxplot(x=X_train)"
   ]
  },
  {
   "cell_type": "code",
   "execution_count": 180,
   "metadata": {
    "colab": {
     "base_uri": "https://localhost:8080/",
     "height": 284
    },
    "colab_type": "code",
    "id": "lQwmIX23Qax6",
    "outputId": "718b7344-b389-4aa9-858d-76ba2706ec7e"
   },
   "outputs": [
    {
     "data": {
      "text/plain": [
       "<matplotlib.axes._subplots.AxesSubplot at 0x25e8487b708>"
      ]
     },
     "execution_count": 180,
     "metadata": {},
     "output_type": "execute_result"
    },
    {
     "data": {
      "image/png": "[encoded data removed]",
      "text/plain": [
       "<Figure size 432x288 with 1 Axes>"
      ]
     },
     "metadata": {
      "needs_background": "light"
     },
     "output_type": "display_data"
    }
   ],
   "source": [
    "sns.boxplot(x=X_test)"
   ]
  },
  {
   "cell_type": "code",
   "execution_count": 181,
   "metadata": {
    "colab": {
     "base_uri": "https://localhost:8080/",
     "height": 299
    },
    "colab_type": "code",
    "id": "6K0f2JhDQax-",
    "outputId": "01ae0f3b-91c8-4e3c-a9b4-e5c12054e263"
   },
   "outputs": [
    {
     "data": {
      "text/plain": [
       "<matplotlib.axes._subplots.AxesSubplot at 0x25e84d74c48>"
      ]
     },
     "execution_count": 181,
     "metadata": {},
     "output_type": "execute_result"
    },
    {
     "data": {
      "image/png": "[encoded data removed]",
      "text/plain": [
       "<Figure size 432x288 with 1 Axes>"
      ]
     },
     "metadata": {
      "needs_background": "light"
     },
     "output_type": "display_data"
    }
   ],
   "source": [
    "sns.boxplot(x=X_train['feat_0'])"
   ]
  },
  {
   "cell_type": "code",
   "execution_count": 182,
   "metadata": {
    "colab": {
     "base_uri": "https://localhost:8080/",
     "height": 299
    },
    "colab_type": "code",
    "id": "6At5TSPnQayA",
    "outputId": "c920ca61-9ead-4763-a57c-461dbf897a62"
   },
   "outputs": [
    {
     "data": {
      "text/plain": [
       "<matplotlib.axes._subplots.AxesSubplot at 0x25e847a23c8>"
      ]
     },
     "execution_count": 182,
     "metadata": {},
     "output_type": "execute_result"
    },
    {
     "data": {
      "image/png": "[encoded data removed]",
      "text/plain": [
       "<Figure size 432x288 with 1 Axes>"
      ]
     },
     "metadata": {
      "needs_background": "light"
     },
     "output_type": "display_data"
    }
   ],
   "source": [
    "sns.boxplot(x=X_train['feat_499'])"
   ]
  },
  {
   "cell_type": "code",
   "execution_count": 183,
   "metadata": {
    "colab": {
     "base_uri": "https://localhost:8080/",
     "height": 1000
    },
    "colab_type": "code",
    "id": "YfN4v6X6QayE",
    "outputId": "a7b68bcb-b3f5-4e50-ac4c-2852bfafc911"
   },
   "outputs": [
    {
     "data": {
      "text/plain": [
       "array([4.817225e+02, 4.834525e+02, 5.101660e+02, 4.833845e+02,\n",
       "       5.016125e+02, 4.792590e+02, 4.801095e+02, 4.765650e+02,\n",
       "       4.867935e+02, 4.787890e+02, 4.865175e+02, 4.906535e+02,\n",
       "       4.781645e+02, 4.815245e+02, 4.850385e+02, 4.794235e+02,\n",
       "       4.792870e+02, 4.949475e+02, 4.841730e+02, 4.774270e+02,\n",
       "       4.847145e+02, 4.942390e+02, 4.765730e+02, 4.792605e+02,\n",
       "       4.994075e+02, 5.047190e+02, 4.847835e+02, 4.820995e+02,\n",
       "       4.805975e+02, 4.919145e+02, 4.819315e+02, 5.000370e+02,\n",
       "       5.006095e+02, 4.895455e+02, 4.867130e+02, 4.891280e+02,\n",
       "       4.790460e+02, 4.806700e+02, 4.798000e+02, 4.761530e+02,\n",
       "       4.764925e+02, 4.894840e+02, 4.765660e+02, 4.878925e+02,\n",
       "       5.003040e+02, 4.804390e+02, 4.966275e+02, 4.947715e+02,\n",
       "       4.850005e+02, 4.795405e+02, 5.178530e+02, 5.057520e+02,\n",
       "       4.853560e+02, 4.800735e+02, 4.971905e+02, 4.951990e+02,\n",
       "       4.796940e+02, 4.848665e+02, 5.093415e+02, 4.779580e+02,\n",
       "       4.878915e+02, 4.814940e+02, 4.940460e+02, 4.788420e+02,\n",
       "       4.979675e+02, 5.101470e+02, 5.037800e+02, 4.900340e+02,\n",
       "       4.809470e+02, 4.762390e+02, 5.144500e+02, 4.886650e+02,\n",
       "       4.816865e+02, 4.841835e+02, 4.805825e+02, 5.018625e+02,\n",
       "       4.786855e+02, 4.833800e+02, 5.131360e+02, 4.826840e+02,\n",
       "       4.903455e+02, 5.119580e+02, 4.839330e+02, 4.821260e+02,\n",
       "       5.042045e+02, 4.894665e+02, 4.771160e+02, 4.830740e+02,\n",
       "       4.792750e+02, 5.120915e+02, 4.760460e+02, 5.081215e+02,\n",
       "       4.793155e+02, 4.925830e+02, 4.804070e+02, 4.974185e+02,\n",
       "       4.792620e+02, 4.789505e+02, 4.769515e+02, 4.803495e+02,\n",
       "       4.799765e+02, 4.806660e+02, 4.811645e+02, 4.777095e+02,\n",
       "       4.839680e+02, 5.020880e+02, 4.844690e+02, 4.904405e+02,\n",
       "       4.995235e+02, 4.808710e+02, 4.882285e+02, 4.780985e+02,\n",
       "       4.773175e+02, 4.921145e+02, 4.782420e+02, 4.788695e+02,\n",
       "       4.892055e+02, 4.831150e+02, 4.966910e+02, 4.886225e+02,\n",
       "       4.761140e+02, 4.792780e+02, 4.808530e+02, 4.813690e+02,\n",
       "       4.785475e+02, 5.044605e+02, 4.833870e+02, 4.992860e+02,\n",
       "       4.791210e+02, 4.836795e+02, 5.001915e+02, 4.857490e+02,\n",
       "       4.884350e+02, 4.775635e+02, 4.844205e+02, 5.040635e+02,\n",
       "       4.989705e+02, 4.913995e+02, 4.796845e+02, 4.832500e+02,\n",
       "       4.927110e+02, 5.083605e+02, 4.821675e+02, 4.833815e+02,\n",
       "       4.831915e+02, 4.871515e+02, 4.797760e+02, 4.971775e+02,\n",
       "       4.799850e+02, 4.974085e+02, 4.876880e+02, 4.837415e+02,\n",
       "       4.821165e+02, 5.018990e+02, 4.769510e+02, 4.871095e+02,\n",
       "       4.832350e+02, 4.778970e+02, 4.996400e+02, 5.000250e+02,\n",
       "       4.782220e+02, 4.785570e+02, 4.810800e+02, 4.799680e+02,\n",
       "       4.887930e+02, 4.879430e+02, 4.760600e+02, 4.790265e+02,\n",
       "       4.768680e+02, 5.107215e+02, 4.946405e+02, 5.107705e+02,\n",
       "       5.069805e+02, 4.770855e+02, 4.765510e+02, 5.000730e+02,\n",
       "       4.826145e+02, 4.802765e+02, 4.838490e+02, 5.046740e+02,\n",
       "       5.030315e+02, 5.144250e+02, 4.769990e+02, 4.786255e+02,\n",
       "       4.883050e+02, 4.867675e+02, 4.984885e+02, 4.926735e+02,\n",
       "       5.178230e+02, 4.785525e+02, 4.819290e+02, 4.901750e+02,\n",
       "       4.954240e+02, 5.063265e+02, 5.128235e+02, 4.840780e+02,\n",
       "       4.792955e+02, 4.832950e+02, 4.765120e+02, 4.866120e+02,\n",
       "       4.908620e+02, 4.882055e+02, 4.899225e+02, 5.081945e+02,\n",
       "       4.889565e+02, 4.760375e+02, 5.060325e+02, 4.791530e+02,\n",
       "       4.813200e+02, 4.908695e+02, 4.877495e+02, 4.922825e+02,\n",
       "       4.803900e+02, 4.877755e+02, 4.804005e+02, 5.031130e+02,\n",
       "       5.044315e+02, 4.805115e+02, 4.870045e+02, 4.851090e+02,\n",
       "       4.783140e+02, 4.989485e+02, 4.929680e+02, 4.871575e+02,\n",
       "       4.936910e+02, 5.005205e+02, 4.850610e+02, 4.775220e+02,\n",
       "       4.763660e+02, 4.936285e+02, 4.798745e+02, 4.825665e+02,\n",
       "       4.783985e+02, 4.841040e+02, 4.915270e+02, 4.961055e+02,\n",
       "       4.831710e+02, 4.780915e+02, 4.757120e+02, 4.779965e+02,\n",
       "       4.976870e+02, 4.988435e+02, 4.902760e+02, 4.789360e+02,\n",
       "       5.075225e+02, 5.112025e+02, 4.769620e+02, 4.817825e+02,\n",
       "       4.987185e+02, 4.895925e+02, 4.941805e+02, 4.768940e+02,\n",
       "       5.082360e+02, 4.784365e+02, 4.917135e+02, 5.005780e+02,\n",
       "       4.905480e+02, 4.853920e+02, 4.856720e+02, 4.907290e+02,\n",
       "       4.786120e+02, 4.942840e+02, 4.847655e+02, 4.789815e+02,\n",
       "       4.939425e+02, 5.005455e+02, 4.892975e+02, 4.844605e+02,\n",
       "       4.924150e+02, 4.840310e+02, 4.989620e+02, 4.844285e+02,\n",
       "       4.871310e+02, 4.770090e+02, 4.844270e+02, 4.761785e+02,\n",
       "       4.957930e+02, 4.961730e+02, 4.923470e+02, 4.768725e+02,\n",
       "       4.795875e+02, 4.816810e+02, 4.760165e+02, 5.041580e+02,\n",
       "       4.910155e+02, 4.779205e+02, 4.833940e+02, 4.796950e+02,\n",
       "       4.934110e+02, 4.912120e+02, 5.035085e+02, 4.965820e+02,\n",
       "       4.761655e+02, 4.858825e+02, 4.971870e+02, 4.751750e+02,\n",
       "       5.009170e+02, 4.967910e+02, 4.966555e+02, 4.810850e+02,\n",
       "       4.896075e+02, 4.778690e+02, 4.918145e+02, 4.945000e+02,\n",
       "       4.854805e+02, 4.805725e+02, 4.808795e+02, 4.996585e+02,\n",
       "       4.763980e+02, 4.863575e+02, 4.801225e+02, 5.013715e+02,\n",
       "       4.990755e+02, 4.808245e+02, 4.873990e+02, 4.773155e+02,\n",
       "       4.812390e+02, 4.864000e+02, 5.120290e+02, 4.832285e+02,\n",
       "       4.831300e+02, 4.904740e+02, 4.802915e+02, 4.898160e+02,\n",
       "       4.799570e+02, 4.821945e+02, 4.819935e+02, 4.864980e+02,\n",
       "       5.164540e+02, 4.870335e+02, 4.792035e+02, 4.761640e+02,\n",
       "       4.882690e+02, 4.957610e+02, 4.878995e+02, 4.808740e+02,\n",
       "       4.877800e+02, 5.004720e+02, 5.015690e+02, 5.065205e+02,\n",
       "       4.940140e+02, 4.965045e+02, 5.030535e+02, 5.002030e+02,\n",
       "       4.825940e+02, 4.814135e+02, 4.904035e+02, 4.811920e+02,\n",
       "       5.043015e+02, 4.813060e+02, 4.782335e+02, 4.848145e+02,\n",
       "       4.824985e+02, 4.933315e+02, 4.840540e+02, 5.028190e+02,\n",
       "       4.765180e+02, 5.072765e+02, 4.982075e+02, 4.830380e+02,\n",
       "       4.912740e+02, 4.776885e+02, 4.861715e+02, 4.809000e+02,\n",
       "       4.947490e+02, 4.956130e+02, 4.838730e+02, 4.845355e+02,\n",
       "       4.997195e+02, 4.878730e+02, 4.895890e+02, 4.968745e+02,\n",
       "       4.876050e+02, 5.009810e+02, 4.918215e+02, 4.803305e+02,\n",
       "       4.834535e+02, 4.964640e+02, 4.819015e+02, 4.809125e+02,\n",
       "       4.793125e+02, 4.964650e+02, 4.839735e+02, 4.799145e+02,\n",
       "       4.778880e+02, 4.920245e+02, 4.771970e+02, 4.953845e+02,\n",
       "       4.832920e+02, 4.768165e+02, 4.934595e+02, 4.764445e+02,\n",
       "       4.875390e+02, 4.780770e+02, 4.843455e+02, 4.841565e+02,\n",
       "       4.821310e+02, 5.099355e+02, 4.812205e+02, 4.770235e+02,\n",
       "       4.895830e+02, 4.760690e+02, 4.875755e+02, 4.766135e+02,\n",
       "       4.767805e+02, 4.820050e+02, 4.778640e+02, 4.828650e+02,\n",
       "       4.780995e+02, 4.896855e+02, 4.906800e+02, 4.878875e+02,\n",
       "       4.846165e+02, 4.921430e+02, 5.175880e+02, 4.843550e+02,\n",
       "       5.076230e+02, 5.112440e+02, 4.973460e+02, 4.804315e+02,\n",
       "       4.787790e+02, 4.777445e+02, 4.760565e+02, 4.847640e+02,\n",
       "       4.893020e+02, 4.908545e+02, 4.842700e+02, 4.843240e+02,\n",
       "       4.768805e+02, 4.938275e+02, 5.055860e+02, 4.792320e+02,\n",
       "       4.987270e+02, 4.893290e+02, 4.999885e+02, 4.774410e+02,\n",
       "       5.171085e+02, 4.854600e+02, 4.851755e+02, 4.898510e+02,\n",
       "       4.796050e+02, 4.957895e+02, 5.025115e+02, 4.925215e+02,\n",
       "       4.772465e+02, 4.797015e+02, 4.861325e+02, 4.840565e+02,\n",
       "       4.765770e+02, 4.879600e+02, 4.775935e+02, 4.890070e+02,\n",
       "       4.814260e+02, 4.798010e+02, 5.018170e+02, 4.796465e+02,\n",
       "       4.811315e+02, 4.908905e+02, 4.856815e+02, 5.027080e+02,\n",
       "       4.826870e+02, 4.944275e+02, 4.804285e+02, 4.851150e+02,\n",
       "       4.904320e+02, 4.808425e+02, 5.108210e+02, 4.814780e+02,\n",
       "       4.811140e+02, 5.160075e+02, 4.787120e+02, 4.803980e+02,\n",
       "       4.776405e+02, 4.794110e+02, 4.863710e+02, 4.813660e+02,\n",
       "       4.877350e+02, 4.836760e+02, 4.866320e+02, 4.854965e+02,\n",
       "       4.784575e+02, 4.773605e+02, 4.979700e+02, 5.018770e+02,\n",
       "       4.827790e+02, 4.787155e+02, 4.825695e+02, 4.899115e+02,\n",
       "       4.796215e+02, 4.824585e+02, 4.788115e+02, 4.863565e+02,\n",
       "       4.965655e+02, 4.934995e+02, 5.108930e+02, 4.782195e+02,\n",
       "       4.833090e+02, 5.079770e+02, 4.902660e+02, 5.000000e-01])"
      ]
     },
     "execution_count": 183,
     "metadata": {},
     "output_type": "execute_result"
    }
   ],
   "source": [
    "#################### Checking mean of each column to check the relation with each other #####################\n",
    "train.mean().unique()"
   ]
  },
  {
   "cell_type": "code",
   "execution_count": null,
   "metadata": {
    "colab": {},
    "colab_type": "code",
    "id": "aLEHR8i3QayV"
   },
   "outputs": [],
   "source": []
  },
  {
   "cell_type": "code",
   "execution_count": 184,
   "metadata": {
    "colab": {
     "base_uri": "https://localhost:8080/",
     "height": 404
    },
    "colab_type": "code",
    "id": "PS8pUzcJQayY",
    "outputId": "921086ed-980c-4a73-bb6f-f7fac751c992"
   },
   "outputs": [
    {
     "data": {
      "image/png": "[encoded data removed]",
      "text/plain": [
       "<Figure size 720x432 with 1 Axes>"
      ]
     },
     "metadata": {
      "needs_background": "light"
     },
     "output_type": "display_data"
    }
   ],
   "source": [
    "########## Kernel Density Estimation of Y variable ##################\n",
    "plt.figure(figsize=(10,6))\n",
    "sns.kdeplot(train['labels'], shade=True)\n",
    "plt.title(\"KDE Plot of labels\")\n",
    "plt.xlabel(\"labels\")\n",
    "plt.ylabel(\"Density\")\n",
    "plt.show()"
   ]
  },
  {
   "cell_type": "code",
   "execution_count": null,
   "metadata": {
    "colab": {},
    "colab_type": "code",
    "id": "puCK0aP0Qaya"
   },
   "outputs": [],
   "source": []
  },
  {
   "cell_type": "code",
   "execution_count": 185,
   "metadata": {
    "colab": {
     "base_uri": "https://localhost:8080/",
     "height": 295
    },
    "colab_type": "code",
    "id": "JY59vqHFQayc",
    "outputId": "23de1f4a-fda5-478f-b14c-d6431925b6e0"
   },
   "outputs": [
    {
     "data": {
      "image/png": "[encoded data removed]",
      "text/plain": [
       "<Figure size 432x288 with 1 Axes>"
      ]
     },
     "metadata": {
      "needs_background": "light"
     },
     "output_type": "display_data"
    }
   ],
   "source": [
    "############### Checking the distribution of output variables ################\n",
    "\n",
    "sns.countplot(train['labels'])\n",
    "plt.xticks(rotation=0)\n",
    "plt.title(\"Distribution of Y variable - labels\")\n",
    "plt.show()"
   ]
  },
  {
   "cell_type": "code",
   "execution_count": 186,
   "metadata": {
    "colab": {},
    "colab_type": "code",
    "id": "wVcto023Qaye"
   },
   "outputs": [],
   "source": [
    "# sns.catplot(x='feat_475', y='labels', kind=\"box\", data=train, height=8.27, aspect=14.5/8.27)\n",
    "# plt.xticks(rotation=90)\n",
    "# plt.show()"
   ]
  },
  {
   "cell_type": "markdown",
   "metadata": {
    "colab_type": "text",
    "id": "55slmaFsdvLu"
   },
   "source": [
    "Task 2: Use scikit-learn's logistic regression to establish a baseline model. We are not expecting this model to perform well, we just want to know what is the highest accuracy that we can achieve without doing any feature engineering and/or parameter tuning. (5 points)"
   ]
  },
  {
   "cell_type": "code",
   "execution_count": 187,
   "metadata": {
    "colab": {},
    "colab_type": "code",
    "id": "0_qi7_QMeH4M"
   },
   "outputs": [],
   "source": [
    "from sklearn.linear_model import LogisticRegressionCV\n",
    "from sklearn.metrics import accuracy_score"
   ]
  },
  {
   "cell_type": "code",
   "execution_count": 188,
   "metadata": {
    "colab": {
     "base_uri": "https://localhost:8080/",
     "height": 110
    },
    "colab_type": "code",
    "id": "pqotqtYLUTTF",
    "outputId": "82f9726e-ef59-4ce2-c6dd-5794b33b6e5e"
   },
   "outputs": [
    {
     "data": {
      "text/plain": [
       "LogisticRegressionCV(Cs=[0.1, 0.5, 1, 2, 5, 10, 15], class_weight=None, cv=5,\n",
       "                     dual=False, fit_intercept=True, intercept_scaling=1.0,\n",
       "                     l1_ratios=None, max_iter=10000, multi_class='warn',\n",
       "                     n_jobs=-1, penalty='l2', random_state=None, refit=True,\n",
       "                     scoring=None, solver='saga', tol=0.0001, verbose=0)"
      ]
     },
     "execution_count": 188,
     "metadata": {},
     "output_type": "execute_result"
    }
   ],
   "source": [
    "############ Baseline Logistic Regression with original features ######################\n",
    "l=[0.1,0.5,1,2,5,10,15]\n",
    "logreg=LogisticRegressionCV(Cs=l,cv=5,solver='saga',max_iter=10000,n_jobs=-1,penalty='l2')\n",
    "logreg.fit(X_train,y_train)"
   ]
  },
  {
   "cell_type": "code",
   "execution_count": 189,
   "metadata": {
    "colab": {
     "base_uri": "https://localhost:8080/",
     "height": 36
    },
    "colab_type": "code",
    "id": "9pq8W6SPUTTK",
    "outputId": "96ed3675-eae5-4da5-fd79-1bc0279b2035"
   },
   "outputs": [
    {
     "data": {
      "text/plain": [
       "0.5816666666666667"
      ]
     },
     "execution_count": 189,
     "metadata": {},
     "output_type": "execute_result"
    }
   ],
   "source": [
    "############ Accuracy with a basic logistic regression model and original dataset ##################\n",
    "y_pred=logreg.predict(X_test)\n",
    "score=accuracy_score(y_test, y_pred, normalize=True)\n",
    "score\n"
   ]
  },
  {
   "cell_type": "code",
   "execution_count": 276,
   "metadata": {},
   "outputs": [
    {
     "name": "stdout",
     "output_type": "stream",
     "text": [
      "Logistic Regression Baseline Score with Original Dataset 0.5916666666666667\n"
     ]
    }
   ],
   "source": [
    "print('Logistic Regression Baseline Score with Original Dataset',score)"
   ]
  },
  {
   "cell_type": "markdown",
   "metadata": {
    "colab_type": "text",
    "id": "7xPtBfYieKt7"
   },
   "source": [
    "Task 3: Feature engineering. On this task you'll write code to modify your features such that the model can achieve a higher accuracy. You are free to modify the data as you want, but a rationale has to be provided for each modification. Additionally, if you are using anything that has not been convered in class, write a brief description of how the function works. Note that copy/pasting a function's docstring is not what we are asking and we will take off points if this is what you do. (20 points)"
   ]
  },
  {
   "cell_type": "markdown",
   "metadata": {},
   "source": [
    "### Answer 3 ###"
   ]
  },
  {
   "cell_type": "markdown",
   "metadata": {},
   "source": [
    "In this assignment, I tried with various feature selection and feature engineering methods.\n",
    "\n",
    "To visualize this data, a correlation matrix with heatmap is generated on the original dataset. It reveals a similar correlation among the 500 feature columns and the Y column (labels). Almost all the features have the correlation between 0 and 0.1, so, it was not of much help. Moreover, only 6 columns namely, feat_48 feat_105 feat_128 feat_241 feat_378 feat_475, have correlation greater than 0.1.\n",
    "\n",
    "The baseline model with Logistic Regression when trained and tested with Original features yielded around 58% accuracy.\n",
    "Based on various feature selection and feature engineering methods, I have modified the X_train and X_test in 3 ways. These are:\n",
    "\n",
    "For feature selection:\n",
    "\n",
    "1.\t1.\tSelecting top 6 features based on the highest correlation. Removing outliers, i.e., filtering out the top 10 percentile and the bottom 10 percentile.\n",
    "\n",
    "2.\tVariance Threshold and Univariate Feature Selection.\n",
    "Variance Threshold is a type of unsupervised feature selection because it does not require the Y variable (output) to perform the selection. It calculates the variance, and removes those columns which have variance less then the threshold value. The closer the value of each datapoint to each other in a particular column, the lesser will be the variance.\n",
    "Univariate feature selection with chi2 and F-test for feature scoring. The method used is SelectPercentile.\n",
    "\n",
    "3.\tPrincipal Component Analysis\n",
    "This is also an unsupervised method for preserving the top ‘n’ components. It looks for trends in the data and tries to map them on Principal axes.\n"
   ]
  },
  {
   "cell_type": "code",
   "execution_count": null,
   "metadata": {},
   "outputs": [],
   "source": []
  },
  {
   "cell_type": "code",
   "execution_count": 190,
   "metadata": {
    "colab": {},
    "colab_type": "code",
    "id": "2t2BfMi_UTTP"
   },
   "outputs": [],
   "source": [
    "############ Feature Selection: Starts ######################\n",
    "############ Variance Threshold: Starts ######################"
   ]
  },
  {
   "cell_type": "code",
   "execution_count": 191,
   "metadata": {
    "colab": {},
    "colab_type": "code",
    "id": "8oap0K91eKJI"
   },
   "outputs": [],
   "source": [
    "from sklearn.feature_selection import VarianceThreshold"
   ]
  },
  {
   "cell_type": "code",
   "execution_count": 192,
   "metadata": {
    "colab": {},
    "colab_type": "code",
    "id": "BhQRf-U_UTTV"
   },
   "outputs": [],
   "source": [
    "selector_vt = VarianceThreshold(threshold=1)\n",
    "\n",
    "X_train_vt=selector_vt.fit_transform(X_train,y_train)"
   ]
  },
  {
   "cell_type": "code",
   "execution_count": 193,
   "metadata": {
    "colab": {},
    "colab_type": "code",
    "id": "9r7B1u1NUTTZ"
   },
   "outputs": [],
   "source": [
    "############ Conversion from numpy to pandas with column names ################\n",
    "X_train_vt=X_train[X_train.columns[selector_vt.get_support(indices=True)]]"
   ]
  },
  {
   "cell_type": "code",
   "execution_count": 194,
   "metadata": {
    "colab": {
     "base_uri": "https://localhost:8080/",
     "height": 444
    },
    "colab_type": "code",
    "id": "VmIe_ZgwUTTb",
    "outputId": "383d097a-b566-431c-af54-26a5582b8312"
   },
   "outputs": [
    {
     "data": {
      "text/html": [
       "<div>\n",
       "<style scoped>\n",
       "    .dataframe tbody tr th:only-of-type {\n",
       "        vertical-align: middle;\n",
       "    }\n",
       "\n",
       "    .dataframe tbody tr th {\n",
       "        vertical-align: top;\n",
       "    }\n",
       "\n",
       "    .dataframe thead th {\n",
       "        text-align: right;\n",
       "    }\n",
       "</style>\n",
       "<table border=\"1\" class=\"dataframe\">\n",
       "  <thead>\n",
       "    <tr style=\"text-align: right;\">\n",
       "      <th></th>\n",
       "      <th>feat_0</th>\n",
       "      <th>feat_1</th>\n",
       "      <th>feat_2</th>\n",
       "      <th>feat_3</th>\n",
       "      <th>feat_4</th>\n",
       "      <th>feat_5</th>\n",
       "      <th>feat_6</th>\n",
       "      <th>feat_7</th>\n",
       "      <th>feat_8</th>\n",
       "      <th>feat_9</th>\n",
       "      <th>...</th>\n",
       "      <th>feat_490</th>\n",
       "      <th>feat_491</th>\n",
       "      <th>feat_492</th>\n",
       "      <th>feat_493</th>\n",
       "      <th>feat_494</th>\n",
       "      <th>feat_495</th>\n",
       "      <th>feat_496</th>\n",
       "      <th>feat_497</th>\n",
       "      <th>feat_498</th>\n",
       "      <th>feat_499</th>\n",
       "    </tr>\n",
       "  </thead>\n",
       "  <tbody>\n",
       "    <tr>\n",
       "      <td>0</td>\n",
       "      <td>485</td>\n",
       "      <td>423</td>\n",
       "      <td>504</td>\n",
       "      <td>493</td>\n",
       "      <td>521</td>\n",
       "      <td>466</td>\n",
       "      <td>494</td>\n",
       "      <td>479</td>\n",
       "      <td>482</td>\n",
       "      <td>471</td>\n",
       "      <td>...</td>\n",
       "      <td>470</td>\n",
       "      <td>478</td>\n",
       "      <td>479</td>\n",
       "      <td>567</td>\n",
       "      <td>547</td>\n",
       "      <td>498</td>\n",
       "      <td>484</td>\n",
       "      <td>474</td>\n",
       "      <td>567</td>\n",
       "      <td>538</td>\n",
       "    </tr>\n",
       "    <tr>\n",
       "      <td>1</td>\n",
       "      <td>483</td>\n",
       "      <td>499</td>\n",
       "      <td>520</td>\n",
       "      <td>467</td>\n",
       "      <td>495</td>\n",
       "      <td>484</td>\n",
       "      <td>485</td>\n",
       "      <td>477</td>\n",
       "      <td>488</td>\n",
       "      <td>491</td>\n",
       "      <td>...</td>\n",
       "      <td>445</td>\n",
       "      <td>481</td>\n",
       "      <td>484</td>\n",
       "      <td>451</td>\n",
       "      <td>445</td>\n",
       "      <td>443</td>\n",
       "      <td>481</td>\n",
       "      <td>485</td>\n",
       "      <td>492</td>\n",
       "      <td>477</td>\n",
       "    </tr>\n",
       "    <tr>\n",
       "      <td>2</td>\n",
       "      <td>487</td>\n",
       "      <td>486</td>\n",
       "      <td>495</td>\n",
       "      <td>481</td>\n",
       "      <td>421</td>\n",
       "      <td>481</td>\n",
       "      <td>499</td>\n",
       "      <td>478</td>\n",
       "      <td>489</td>\n",
       "      <td>482</td>\n",
       "      <td>...</td>\n",
       "      <td>486</td>\n",
       "      <td>477</td>\n",
       "      <td>511</td>\n",
       "      <td>245</td>\n",
       "      <td>522</td>\n",
       "      <td>480</td>\n",
       "      <td>483</td>\n",
       "      <td>493</td>\n",
       "      <td>421</td>\n",
       "      <td>488</td>\n",
       "    </tr>\n",
       "    <tr>\n",
       "      <td>3</td>\n",
       "      <td>480</td>\n",
       "      <td>427</td>\n",
       "      <td>531</td>\n",
       "      <td>458</td>\n",
       "      <td>544</td>\n",
       "      <td>492</td>\n",
       "      <td>489</td>\n",
       "      <td>477</td>\n",
       "      <td>478</td>\n",
       "      <td>482</td>\n",
       "      <td>...</td>\n",
       "      <td>505</td>\n",
       "      <td>483</td>\n",
       "      <td>471</td>\n",
       "      <td>313</td>\n",
       "      <td>490</td>\n",
       "      <td>414</td>\n",
       "      <td>480</td>\n",
       "      <td>516</td>\n",
       "      <td>495</td>\n",
       "      <td>469</td>\n",
       "    </tr>\n",
       "    <tr>\n",
       "      <td>4</td>\n",
       "      <td>491</td>\n",
       "      <td>472</td>\n",
       "      <td>430</td>\n",
       "      <td>463</td>\n",
       "      <td>431</td>\n",
       "      <td>480</td>\n",
       "      <td>459</td>\n",
       "      <td>477</td>\n",
       "      <td>481</td>\n",
       "      <td>479</td>\n",
       "      <td>...</td>\n",
       "      <td>486</td>\n",
       "      <td>479</td>\n",
       "      <td>493</td>\n",
       "      <td>435</td>\n",
       "      <td>444</td>\n",
       "      <td>455</td>\n",
       "      <td>482</td>\n",
       "      <td>468</td>\n",
       "      <td>497</td>\n",
       "      <td>435</td>\n",
       "    </tr>\n",
       "    <tr>\n",
       "      <td>...</td>\n",
       "      <td>...</td>\n",
       "      <td>...</td>\n",
       "      <td>...</td>\n",
       "      <td>...</td>\n",
       "      <td>...</td>\n",
       "      <td>...</td>\n",
       "      <td>...</td>\n",
       "      <td>...</td>\n",
       "      <td>...</td>\n",
       "      <td>...</td>\n",
       "      <td>...</td>\n",
       "      <td>...</td>\n",
       "      <td>...</td>\n",
       "      <td>...</td>\n",
       "      <td>...</td>\n",
       "      <td>...</td>\n",
       "      <td>...</td>\n",
       "      <td>...</td>\n",
       "      <td>...</td>\n",
       "      <td>...</td>\n",
       "      <td>...</td>\n",
       "    </tr>\n",
       "    <tr>\n",
       "      <td>1995</td>\n",
       "      <td>483</td>\n",
       "      <td>452</td>\n",
       "      <td>477</td>\n",
       "      <td>467</td>\n",
       "      <td>493</td>\n",
       "      <td>481</td>\n",
       "      <td>445</td>\n",
       "      <td>476</td>\n",
       "      <td>486</td>\n",
       "      <td>477</td>\n",
       "      <td>...</td>\n",
       "      <td>497</td>\n",
       "      <td>481</td>\n",
       "      <td>475</td>\n",
       "      <td>539</td>\n",
       "      <td>526</td>\n",
       "      <td>521</td>\n",
       "      <td>477</td>\n",
       "      <td>471</td>\n",
       "      <td>503</td>\n",
       "      <td>531</td>\n",
       "    </tr>\n",
       "    <tr>\n",
       "      <td>1996</td>\n",
       "      <td>494</td>\n",
       "      <td>562</td>\n",
       "      <td>451</td>\n",
       "      <td>484</td>\n",
       "      <td>575</td>\n",
       "      <td>479</td>\n",
       "      <td>444</td>\n",
       "      <td>477</td>\n",
       "      <td>488</td>\n",
       "      <td>476</td>\n",
       "      <td>...</td>\n",
       "      <td>477</td>\n",
       "      <td>478</td>\n",
       "      <td>469</td>\n",
       "      <td>453</td>\n",
       "      <td>460</td>\n",
       "      <td>524</td>\n",
       "      <td>480</td>\n",
       "      <td>474</td>\n",
       "      <td>495</td>\n",
       "      <td>527</td>\n",
       "    </tr>\n",
       "    <tr>\n",
       "      <td>1997</td>\n",
       "      <td>496</td>\n",
       "      <td>494</td>\n",
       "      <td>475</td>\n",
       "      <td>497</td>\n",
       "      <td>483</td>\n",
       "      <td>487</td>\n",
       "      <td>466</td>\n",
       "      <td>477</td>\n",
       "      <td>488</td>\n",
       "      <td>487</td>\n",
       "      <td>...</td>\n",
       "      <td>499</td>\n",
       "      <td>475</td>\n",
       "      <td>545</td>\n",
       "      <td>298</td>\n",
       "      <td>514</td>\n",
       "      <td>529</td>\n",
       "      <td>487</td>\n",
       "      <td>504</td>\n",
       "      <td>517</td>\n",
       "      <td>531</td>\n",
       "    </tr>\n",
       "    <tr>\n",
       "      <td>1998</td>\n",
       "      <td>483</td>\n",
       "      <td>495</td>\n",
       "      <td>472</td>\n",
       "      <td>480</td>\n",
       "      <td>523</td>\n",
       "      <td>474</td>\n",
       "      <td>500</td>\n",
       "      <td>477</td>\n",
       "      <td>472</td>\n",
       "      <td>486</td>\n",
       "      <td>...</td>\n",
       "      <td>480</td>\n",
       "      <td>482</td>\n",
       "      <td>481</td>\n",
       "      <td>698</td>\n",
       "      <td>490</td>\n",
       "      <td>516</td>\n",
       "      <td>475</td>\n",
       "      <td>494</td>\n",
       "      <td>540</td>\n",
       "      <td>506</td>\n",
       "    </tr>\n",
       "    <tr>\n",
       "      <td>1999</td>\n",
       "      <td>493</td>\n",
       "      <td>434</td>\n",
       "      <td>479</td>\n",
       "      <td>484</td>\n",
       "      <td>511</td>\n",
       "      <td>482</td>\n",
       "      <td>468</td>\n",
       "      <td>477</td>\n",
       "      <td>502</td>\n",
       "      <td>475</td>\n",
       "      <td>...</td>\n",
       "      <td>469</td>\n",
       "      <td>485</td>\n",
       "      <td>478</td>\n",
       "      <td>605</td>\n",
       "      <td>507</td>\n",
       "      <td>469</td>\n",
       "      <td>487</td>\n",
       "      <td>470</td>\n",
       "      <td>469</td>\n",
       "      <td>447</td>\n",
       "    </tr>\n",
       "  </tbody>\n",
       "</table>\n",
       "<p>2000 rows × 494 columns</p>\n",
       "</div>"
      ],
      "text/plain": [
       "      feat_0  feat_1  feat_2  feat_3  feat_4  feat_5  feat_6  feat_7  feat_8  \\\n",
       "0        485     423     504     493     521     466     494     479     482   \n",
       "1        483     499     520     467     495     484     485     477     488   \n",
       "2        487     486     495     481     421     481     499     478     489   \n",
       "3        480     427     531     458     544     492     489     477     478   \n",
       "4        491     472     430     463     431     480     459     477     481   \n",
       "...      ...     ...     ...     ...     ...     ...     ...     ...     ...   \n",
       "1995     483     452     477     467     493     481     445     476     486   \n",
       "1996     494     562     451     484     575     479     444     477     488   \n",
       "1997     496     494     475     497     483     487     466     477     488   \n",
       "1998     483     495     472     480     523     474     500     477     472   \n",
       "1999     493     434     479     484     511     482     468     477     502   \n",
       "\n",
       "      feat_9  ...  feat_490  feat_491  feat_492  feat_493  feat_494  feat_495  \\\n",
       "0        471  ...       470       478       479       567       547       498   \n",
       "1        491  ...       445       481       484       451       445       443   \n",
       "2        482  ...       486       477       511       245       522       480   \n",
       "3        482  ...       505       483       471       313       490       414   \n",
       "4        479  ...       486       479       493       435       444       455   \n",
       "...      ...  ...       ...       ...       ...       ...       ...       ...   \n",
       "1995     477  ...       497       481       475       539       526       521   \n",
       "1996     476  ...       477       478       469       453       460       524   \n",
       "1997     487  ...       499       475       545       298       514       529   \n",
       "1998     486  ...       480       482       481       698       490       516   \n",
       "1999     475  ...       469       485       478       605       507       469   \n",
       "\n",
       "      feat_496  feat_497  feat_498  feat_499  \n",
       "0          484       474       567       538  \n",
       "1          481       485       492       477  \n",
       "2          483       493       421       488  \n",
       "3          480       516       495       469  \n",
       "4          482       468       497       435  \n",
       "...        ...       ...       ...       ...  \n",
       "1995       477       471       503       531  \n",
       "1996       480       474       495       527  \n",
       "1997       487       504       517       531  \n",
       "1998       475       494       540       506  \n",
       "1999       487       470       469       447  \n",
       "\n",
       "[2000 rows x 494 columns]"
      ]
     },
     "execution_count": 194,
     "metadata": {},
     "output_type": "execute_result"
    }
   ],
   "source": [
    "X_train_vt"
   ]
  },
  {
   "cell_type": "code",
   "execution_count": 195,
   "metadata": {
    "colab": {
     "base_uri": "https://localhost:8080/",
     "height": 36
    },
    "colab_type": "code",
    "id": "sqkiXV37UTTf",
    "outputId": "2522e601-1bfd-4f7a-c190-fabf674ab69b"
   },
   "outputs": [
    {
     "data": {
      "text/plain": [
       "(2000, 494)"
      ]
     },
     "execution_count": 195,
     "metadata": {},
     "output_type": "execute_result"
    }
   ],
   "source": [
    "X_train_vt.shape"
   ]
  },
  {
   "cell_type": "code",
   "execution_count": 196,
   "metadata": {
    "colab": {
     "base_uri": "https://localhost:8080/",
     "height": 424
    },
    "colab_type": "code",
    "id": "mH_JGVqUUTTi",
    "outputId": "5830a9a7-75ef-4e6b-b17d-d9a91665f208"
   },
   "outputs": [
    {
     "data": {
      "text/html": [
       "<div>\n",
       "<style scoped>\n",
       "    .dataframe tbody tr th:only-of-type {\n",
       "        vertical-align: middle;\n",
       "    }\n",
       "\n",
       "    .dataframe tbody tr th {\n",
       "        vertical-align: top;\n",
       "    }\n",
       "\n",
       "    .dataframe thead th {\n",
       "        text-align: right;\n",
       "    }\n",
       "</style>\n",
       "<table border=\"1\" class=\"dataframe\">\n",
       "  <thead>\n",
       "    <tr style=\"text-align: right;\">\n",
       "      <th></th>\n",
       "      <th>feat_228</th>\n",
       "      <th>feat_276</th>\n",
       "      <th>feat_332</th>\n",
       "      <th>feat_404</th>\n",
       "      <th>feat_423</th>\n",
       "      <th>feat_90</th>\n",
       "    </tr>\n",
       "  </thead>\n",
       "  <tbody>\n",
       "    <tr>\n",
       "      <td>0</td>\n",
       "      <td>477</td>\n",
       "      <td>477</td>\n",
       "      <td>477</td>\n",
       "      <td>476</td>\n",
       "      <td>476</td>\n",
       "      <td>476</td>\n",
       "    </tr>\n",
       "    <tr>\n",
       "      <td>1</td>\n",
       "      <td>476</td>\n",
       "      <td>476</td>\n",
       "      <td>477</td>\n",
       "      <td>478</td>\n",
       "      <td>476</td>\n",
       "      <td>476</td>\n",
       "    </tr>\n",
       "    <tr>\n",
       "      <td>2</td>\n",
       "      <td>476</td>\n",
       "      <td>477</td>\n",
       "      <td>475</td>\n",
       "      <td>476</td>\n",
       "      <td>477</td>\n",
       "      <td>476</td>\n",
       "    </tr>\n",
       "    <tr>\n",
       "      <td>3</td>\n",
       "      <td>476</td>\n",
       "      <td>475</td>\n",
       "      <td>475</td>\n",
       "      <td>476</td>\n",
       "      <td>476</td>\n",
       "      <td>476</td>\n",
       "    </tr>\n",
       "    <tr>\n",
       "      <td>4</td>\n",
       "      <td>478</td>\n",
       "      <td>477</td>\n",
       "      <td>478</td>\n",
       "      <td>477</td>\n",
       "      <td>477</td>\n",
       "      <td>476</td>\n",
       "    </tr>\n",
       "    <tr>\n",
       "      <td>...</td>\n",
       "      <td>...</td>\n",
       "      <td>...</td>\n",
       "      <td>...</td>\n",
       "      <td>...</td>\n",
       "      <td>...</td>\n",
       "      <td>...</td>\n",
       "    </tr>\n",
       "    <tr>\n",
       "      <td>1995</td>\n",
       "      <td>476</td>\n",
       "      <td>475</td>\n",
       "      <td>476</td>\n",
       "      <td>475</td>\n",
       "      <td>476</td>\n",
       "      <td>475</td>\n",
       "    </tr>\n",
       "    <tr>\n",
       "      <td>1996</td>\n",
       "      <td>476</td>\n",
       "      <td>477</td>\n",
       "      <td>476</td>\n",
       "      <td>477</td>\n",
       "      <td>476</td>\n",
       "      <td>476</td>\n",
       "    </tr>\n",
       "    <tr>\n",
       "      <td>1997</td>\n",
       "      <td>477</td>\n",
       "      <td>476</td>\n",
       "      <td>475</td>\n",
       "      <td>477</td>\n",
       "      <td>476</td>\n",
       "      <td>476</td>\n",
       "    </tr>\n",
       "    <tr>\n",
       "      <td>1998</td>\n",
       "      <td>476</td>\n",
       "      <td>477</td>\n",
       "      <td>476</td>\n",
       "      <td>477</td>\n",
       "      <td>475</td>\n",
       "      <td>475</td>\n",
       "    </tr>\n",
       "    <tr>\n",
       "      <td>1999</td>\n",
       "      <td>475</td>\n",
       "      <td>476</td>\n",
       "      <td>476</td>\n",
       "      <td>477</td>\n",
       "      <td>476</td>\n",
       "      <td>476</td>\n",
       "    </tr>\n",
       "  </tbody>\n",
       "</table>\n",
       "<p>2000 rows × 6 columns</p>\n",
       "</div>"
      ],
      "text/plain": [
       "      feat_228  feat_276  feat_332  feat_404  feat_423  feat_90\n",
       "0          477       477       477       476       476      476\n",
       "1          476       476       477       478       476      476\n",
       "2          476       477       475       476       477      476\n",
       "3          476       475       475       476       476      476\n",
       "4          478       477       478       477       477      476\n",
       "...        ...       ...       ...       ...       ...      ...\n",
       "1995       476       475       476       475       476      475\n",
       "1996       476       477       476       477       476      476\n",
       "1997       477       476       475       477       476      476\n",
       "1998       476       477       476       477       475      475\n",
       "1999       475       476       476       477       476      476\n",
       "\n",
       "[2000 rows x 6 columns]"
      ]
     },
     "execution_count": 196,
     "metadata": {},
     "output_type": "execute_result"
    }
   ],
   "source": [
    "############ Columns having almost all the vales same , i.e. low variance. Threshold=1 #########\n",
    "X_train[X_train.columns.difference(X_train_vt.columns)]"
   ]
  },
  {
   "cell_type": "code",
   "execution_count": 197,
   "metadata": {
    "colab": {
     "base_uri": "https://localhost:8080/",
     "height": 36
    },
    "colab_type": "code",
    "id": "45QJ6mEPUTTl",
    "outputId": "50e94ade-69f8-4fbd-d018-4e8a35489d72"
   },
   "outputs": [
    {
     "data": {
      "text/plain": [
       "array([476, 477, 475, 474, 478], dtype=int64)"
      ]
     },
     "execution_count": 197,
     "metadata": {},
     "output_type": "execute_result"
    }
   ],
   "source": [
    "X_train['feat_90'].unique()"
   ]
  },
  {
   "cell_type": "code",
   "execution_count": 198,
   "metadata": {
    "colab": {},
    "colab_type": "code",
    "id": "G20rl0dcUTTw"
   },
   "outputs": [],
   "source": [
    "mask_vt=selector_vt.get_support()\n",
    "# mask_vt"
   ]
  },
  {
   "cell_type": "code",
   "execution_count": 199,
   "metadata": {
    "colab": {
     "base_uri": "https://localhost:8080/",
     "height": 444
    },
    "colab_type": "code",
    "id": "a_fc1vh8UTTz",
    "outputId": "d4179ee7-ae2c-4c3a-fcc1-3982020a1657"
   },
   "outputs": [
    {
     "data": {
      "text/html": [
       "<div>\n",
       "<style scoped>\n",
       "    .dataframe tbody tr th:only-of-type {\n",
       "        vertical-align: middle;\n",
       "    }\n",
       "\n",
       "    .dataframe tbody tr th {\n",
       "        vertical-align: top;\n",
       "    }\n",
       "\n",
       "    .dataframe thead th {\n",
       "        text-align: right;\n",
       "    }\n",
       "</style>\n",
       "<table border=\"1\" class=\"dataframe\">\n",
       "  <thead>\n",
       "    <tr style=\"text-align: right;\">\n",
       "      <th></th>\n",
       "      <th>feat_0</th>\n",
       "      <th>feat_1</th>\n",
       "      <th>feat_2</th>\n",
       "      <th>feat_3</th>\n",
       "      <th>feat_4</th>\n",
       "      <th>feat_5</th>\n",
       "      <th>feat_6</th>\n",
       "      <th>feat_7</th>\n",
       "      <th>feat_8</th>\n",
       "      <th>feat_9</th>\n",
       "      <th>...</th>\n",
       "      <th>feat_490</th>\n",
       "      <th>feat_491</th>\n",
       "      <th>feat_492</th>\n",
       "      <th>feat_493</th>\n",
       "      <th>feat_494</th>\n",
       "      <th>feat_495</th>\n",
       "      <th>feat_496</th>\n",
       "      <th>feat_497</th>\n",
       "      <th>feat_498</th>\n",
       "      <th>feat_499</th>\n",
       "    </tr>\n",
       "  </thead>\n",
       "  <tbody>\n",
       "    <tr>\n",
       "      <td>0</td>\n",
       "      <td>486</td>\n",
       "      <td>497</td>\n",
       "      <td>494</td>\n",
       "      <td>477</td>\n",
       "      <td>582</td>\n",
       "      <td>478</td>\n",
       "      <td>535</td>\n",
       "      <td>477</td>\n",
       "      <td>496</td>\n",
       "      <td>480</td>\n",
       "      <td>...</td>\n",
       "      <td>486</td>\n",
       "      <td>485</td>\n",
       "      <td>473</td>\n",
       "      <td>576</td>\n",
       "      <td>521</td>\n",
       "      <td>493</td>\n",
       "      <td>481</td>\n",
       "      <td>485</td>\n",
       "      <td>490</td>\n",
       "      <td>478</td>\n",
       "    </tr>\n",
       "    <tr>\n",
       "      <td>1</td>\n",
       "      <td>496</td>\n",
       "      <td>524</td>\n",
       "      <td>490</td>\n",
       "      <td>485</td>\n",
       "      <td>438</td>\n",
       "      <td>488</td>\n",
       "      <td>503</td>\n",
       "      <td>476</td>\n",
       "      <td>474</td>\n",
       "      <td>491</td>\n",
       "      <td>...</td>\n",
       "      <td>467</td>\n",
       "      <td>474</td>\n",
       "      <td>519</td>\n",
       "      <td>441</td>\n",
       "      <td>453</td>\n",
       "      <td>488</td>\n",
       "      <td>488</td>\n",
       "      <td>503</td>\n",
       "      <td>543</td>\n",
       "      <td>547</td>\n",
       "    </tr>\n",
       "    <tr>\n",
       "      <td>2</td>\n",
       "      <td>486</td>\n",
       "      <td>465</td>\n",
       "      <td>481</td>\n",
       "      <td>467</td>\n",
       "      <td>529</td>\n",
       "      <td>484</td>\n",
       "      <td>464</td>\n",
       "      <td>476</td>\n",
       "      <td>508</td>\n",
       "      <td>474</td>\n",
       "      <td>...</td>\n",
       "      <td>463</td>\n",
       "      <td>482</td>\n",
       "      <td>454</td>\n",
       "      <td>712</td>\n",
       "      <td>425</td>\n",
       "      <td>518</td>\n",
       "      <td>479</td>\n",
       "      <td>466</td>\n",
       "      <td>494</td>\n",
       "      <td>470</td>\n",
       "    </tr>\n",
       "    <tr>\n",
       "      <td>3</td>\n",
       "      <td>479</td>\n",
       "      <td>485</td>\n",
       "      <td>502</td>\n",
       "      <td>489</td>\n",
       "      <td>487</td>\n",
       "      <td>478</td>\n",
       "      <td>402</td>\n",
       "      <td>477</td>\n",
       "      <td>500</td>\n",
       "      <td>473</td>\n",
       "      <td>...</td>\n",
       "      <td>495</td>\n",
       "      <td>470</td>\n",
       "      <td>491</td>\n",
       "      <td>381</td>\n",
       "      <td>532</td>\n",
       "      <td>469</td>\n",
       "      <td>488</td>\n",
       "      <td>487</td>\n",
       "      <td>539</td>\n",
       "      <td>546</td>\n",
       "    </tr>\n",
       "    <tr>\n",
       "      <td>4</td>\n",
       "      <td>482</td>\n",
       "      <td>485</td>\n",
       "      <td>551</td>\n",
       "      <td>475</td>\n",
       "      <td>443</td>\n",
       "      <td>475</td>\n",
       "      <td>456</td>\n",
       "      <td>475</td>\n",
       "      <td>494</td>\n",
       "      <td>471</td>\n",
       "      <td>...</td>\n",
       "      <td>458</td>\n",
       "      <td>484</td>\n",
       "      <td>479</td>\n",
       "      <td>574</td>\n",
       "      <td>509</td>\n",
       "      <td>509</td>\n",
       "      <td>473</td>\n",
       "      <td>483</td>\n",
       "      <td>545</td>\n",
       "      <td>490</td>\n",
       "    </tr>\n",
       "    <tr>\n",
       "      <td>...</td>\n",
       "      <td>...</td>\n",
       "      <td>...</td>\n",
       "      <td>...</td>\n",
       "      <td>...</td>\n",
       "      <td>...</td>\n",
       "      <td>...</td>\n",
       "      <td>...</td>\n",
       "      <td>...</td>\n",
       "      <td>...</td>\n",
       "      <td>...</td>\n",
       "      <td>...</td>\n",
       "      <td>...</td>\n",
       "      <td>...</td>\n",
       "      <td>...</td>\n",
       "      <td>...</td>\n",
       "      <td>...</td>\n",
       "      <td>...</td>\n",
       "      <td>...</td>\n",
       "      <td>...</td>\n",
       "      <td>...</td>\n",
       "      <td>...</td>\n",
       "    </tr>\n",
       "    <tr>\n",
       "      <td>595</td>\n",
       "      <td>489</td>\n",
       "      <td>447</td>\n",
       "      <td>499</td>\n",
       "      <td>464</td>\n",
       "      <td>470</td>\n",
       "      <td>488</td>\n",
       "      <td>446</td>\n",
       "      <td>477</td>\n",
       "      <td>475</td>\n",
       "      <td>479</td>\n",
       "      <td>...</td>\n",
       "      <td>480</td>\n",
       "      <td>476</td>\n",
       "      <td>474</td>\n",
       "      <td>351</td>\n",
       "      <td>456</td>\n",
       "      <td>530</td>\n",
       "      <td>491</td>\n",
       "      <td>500</td>\n",
       "      <td>510</td>\n",
       "      <td>476</td>\n",
       "    </tr>\n",
       "    <tr>\n",
       "      <td>596</td>\n",
       "      <td>480</td>\n",
       "      <td>455</td>\n",
       "      <td>580</td>\n",
       "      <td>487</td>\n",
       "      <td>484</td>\n",
       "      <td>488</td>\n",
       "      <td>523</td>\n",
       "      <td>477</td>\n",
       "      <td>495</td>\n",
       "      <td>487</td>\n",
       "      <td>...</td>\n",
       "      <td>487</td>\n",
       "      <td>478</td>\n",
       "      <td>497</td>\n",
       "      <td>712</td>\n",
       "      <td>505</td>\n",
       "      <td>545</td>\n",
       "      <td>480</td>\n",
       "      <td>486</td>\n",
       "      <td>529</td>\n",
       "      <td>504</td>\n",
       "    </tr>\n",
       "    <tr>\n",
       "      <td>597</td>\n",
       "      <td>472</td>\n",
       "      <td>506</td>\n",
       "      <td>525</td>\n",
       "      <td>490</td>\n",
       "      <td>537</td>\n",
       "      <td>475</td>\n",
       "      <td>463</td>\n",
       "      <td>474</td>\n",
       "      <td>478</td>\n",
       "      <td>497</td>\n",
       "      <td>...</td>\n",
       "      <td>507</td>\n",
       "      <td>492</td>\n",
       "      <td>480</td>\n",
       "      <td>521</td>\n",
       "      <td>532</td>\n",
       "      <td>541</td>\n",
       "      <td>470</td>\n",
       "      <td>490</td>\n",
       "      <td>552</td>\n",
       "      <td>491</td>\n",
       "    </tr>\n",
       "    <tr>\n",
       "      <td>598</td>\n",
       "      <td>492</td>\n",
       "      <td>475</td>\n",
       "      <td>577</td>\n",
       "      <td>493</td>\n",
       "      <td>457</td>\n",
       "      <td>486</td>\n",
       "      <td>466</td>\n",
       "      <td>476</td>\n",
       "      <td>532</td>\n",
       "      <td>473</td>\n",
       "      <td>...</td>\n",
       "      <td>495</td>\n",
       "      <td>481</td>\n",
       "      <td>527</td>\n",
       "      <td>534</td>\n",
       "      <td>521</td>\n",
       "      <td>456</td>\n",
       "      <td>475</td>\n",
       "      <td>482</td>\n",
       "      <td>514</td>\n",
       "      <td>480</td>\n",
       "    </tr>\n",
       "    <tr>\n",
       "      <td>599</td>\n",
       "      <td>483</td>\n",
       "      <td>500</td>\n",
       "      <td>514</td>\n",
       "      <td>472</td>\n",
       "      <td>518</td>\n",
       "      <td>491</td>\n",
       "      <td>465</td>\n",
       "      <td>479</td>\n",
       "      <td>481</td>\n",
       "      <td>480</td>\n",
       "      <td>...</td>\n",
       "      <td>514</td>\n",
       "      <td>482</td>\n",
       "      <td>511</td>\n",
       "      <td>753</td>\n",
       "      <td>483</td>\n",
       "      <td>495</td>\n",
       "      <td>469</td>\n",
       "      <td>471</td>\n",
       "      <td>527</td>\n",
       "      <td>481</td>\n",
       "    </tr>\n",
       "  </tbody>\n",
       "</table>\n",
       "<p>600 rows × 494 columns</p>\n",
       "</div>"
      ],
      "text/plain": [
       "     feat_0  feat_1  feat_2  feat_3  feat_4  feat_5  feat_6  feat_7  feat_8  \\\n",
       "0       486     497     494     477     582     478     535     477     496   \n",
       "1       496     524     490     485     438     488     503     476     474   \n",
       "2       486     465     481     467     529     484     464     476     508   \n",
       "3       479     485     502     489     487     478     402     477     500   \n",
       "4       482     485     551     475     443     475     456     475     494   \n",
       "..      ...     ...     ...     ...     ...     ...     ...     ...     ...   \n",
       "595     489     447     499     464     470     488     446     477     475   \n",
       "596     480     455     580     487     484     488     523     477     495   \n",
       "597     472     506     525     490     537     475     463     474     478   \n",
       "598     492     475     577     493     457     486     466     476     532   \n",
       "599     483     500     514     472     518     491     465     479     481   \n",
       "\n",
       "     feat_9  ...  feat_490  feat_491  feat_492  feat_493  feat_494  feat_495  \\\n",
       "0       480  ...       486       485       473       576       521       493   \n",
       "1       491  ...       467       474       519       441       453       488   \n",
       "2       474  ...       463       482       454       712       425       518   \n",
       "3       473  ...       495       470       491       381       532       469   \n",
       "4       471  ...       458       484       479       574       509       509   \n",
       "..      ...  ...       ...       ...       ...       ...       ...       ...   \n",
       "595     479  ...       480       476       474       351       456       530   \n",
       "596     487  ...       487       478       497       712       505       545   \n",
       "597     497  ...       507       492       480       521       532       541   \n",
       "598     473  ...       495       481       527       534       521       456   \n",
       "599     480  ...       514       482       511       753       483       495   \n",
       "\n",
       "     feat_496  feat_497  feat_498  feat_499  \n",
       "0         481       485       490       478  \n",
       "1         488       503       543       547  \n",
       "2         479       466       494       470  \n",
       "3         488       487       539       546  \n",
       "4         473       483       545       490  \n",
       "..        ...       ...       ...       ...  \n",
       "595       491       500       510       476  \n",
       "596       480       486       529       504  \n",
       "597       470       490       552       491  \n",
       "598       475       482       514       480  \n",
       "599       469       471       527       481  \n",
       "\n",
       "[600 rows x 494 columns]"
      ]
     },
     "execution_count": 199,
     "metadata": {},
     "output_type": "execute_result"
    }
   ],
   "source": [
    "X_test_vt = selector_vt.transform(X_test)\n",
    "X_test_vt=X_test[X_test.columns[selector_vt.get_support(indices=True)]]\n",
    "X_test_vt"
   ]
  },
  {
   "cell_type": "code",
   "execution_count": 200,
   "metadata": {
    "colab": {},
    "colab_type": "code",
    "id": "0-dvkrXVUTT2"
   },
   "outputs": [],
   "source": [
    "############ Variance Threshold: Ends ######################\n",
    "############ SelectPercentile: Starts ######################\n",
    "from sklearn.feature_selection import SelectPercentile, chi2, f_classif, mutual_info_classif\n",
    "from sklearn.metrics import confusion_matrix\n",
    "from sklearn.metrics import accuracy_score\n",
    "import seaborn as sns\n",
    "from mlxtend.plotting import plot_confusion_matrix"
   ]
  },
  {
   "cell_type": "code",
   "execution_count": 201,
   "metadata": {
    "colab": {
     "base_uri": "https://localhost:8080/",
     "height": 444
    },
    "colab_type": "code",
    "id": "nvGsDdFrUTT5",
    "outputId": "9048d14f-9e45-4466-9829-71bf5afac292"
   },
   "outputs": [
    {
     "data": {
      "text/html": [
       "<div>\n",
       "<style scoped>\n",
       "    .dataframe tbody tr th:only-of-type {\n",
       "        vertical-align: middle;\n",
       "    }\n",
       "\n",
       "    .dataframe tbody tr th {\n",
       "        vertical-align: top;\n",
       "    }\n",
       "\n",
       "    .dataframe thead th {\n",
       "        text-align: right;\n",
       "    }\n",
       "</style>\n",
       "<table border=\"1\" class=\"dataframe\">\n",
       "  <thead>\n",
       "    <tr style=\"text-align: right;\">\n",
       "      <th></th>\n",
       "      <th>feat_1</th>\n",
       "      <th>feat_2</th>\n",
       "      <th>feat_4</th>\n",
       "      <th>feat_6</th>\n",
       "      <th>feat_10</th>\n",
       "      <th>feat_12</th>\n",
       "      <th>feat_13</th>\n",
       "      <th>feat_15</th>\n",
       "      <th>feat_18</th>\n",
       "      <th>feat_24</th>\n",
       "      <th>...</th>\n",
       "      <th>feat_475</th>\n",
       "      <th>feat_478</th>\n",
       "      <th>feat_480</th>\n",
       "      <th>feat_481</th>\n",
       "      <th>feat_483</th>\n",
       "      <th>feat_490</th>\n",
       "      <th>feat_493</th>\n",
       "      <th>feat_494</th>\n",
       "      <th>feat_496</th>\n",
       "      <th>feat_497</th>\n",
       "    </tr>\n",
       "  </thead>\n",
       "  <tbody>\n",
       "    <tr>\n",
       "      <td>0</td>\n",
       "      <td>423</td>\n",
       "      <td>504</td>\n",
       "      <td>521</td>\n",
       "      <td>494</td>\n",
       "      <td>551</td>\n",
       "      <td>472</td>\n",
       "      <td>461</td>\n",
       "      <td>492</td>\n",
       "      <td>468</td>\n",
       "      <td>474</td>\n",
       "      <td>...</td>\n",
       "      <td>413</td>\n",
       "      <td>538</td>\n",
       "      <td>505</td>\n",
       "      <td>498</td>\n",
       "      <td>546</td>\n",
       "      <td>470</td>\n",
       "      <td>567</td>\n",
       "      <td>547</td>\n",
       "      <td>484</td>\n",
       "      <td>474</td>\n",
       "    </tr>\n",
       "    <tr>\n",
       "      <td>1</td>\n",
       "      <td>499</td>\n",
       "      <td>520</td>\n",
       "      <td>495</td>\n",
       "      <td>485</td>\n",
       "      <td>510</td>\n",
       "      <td>443</td>\n",
       "      <td>506</td>\n",
       "      <td>483</td>\n",
       "      <td>506</td>\n",
       "      <td>505</td>\n",
       "      <td>...</td>\n",
       "      <td>447</td>\n",
       "      <td>479</td>\n",
       "      <td>525</td>\n",
       "      <td>481</td>\n",
       "      <td>491</td>\n",
       "      <td>445</td>\n",
       "      <td>451</td>\n",
       "      <td>445</td>\n",
       "      <td>481</td>\n",
       "      <td>485</td>\n",
       "    </tr>\n",
       "    <tr>\n",
       "      <td>2</td>\n",
       "      <td>486</td>\n",
       "      <td>495</td>\n",
       "      <td>421</td>\n",
       "      <td>499</td>\n",
       "      <td>492</td>\n",
       "      <td>480</td>\n",
       "      <td>435</td>\n",
       "      <td>475</td>\n",
       "      <td>481</td>\n",
       "      <td>516</td>\n",
       "      <td>...</td>\n",
       "      <td>583</td>\n",
       "      <td>543</td>\n",
       "      <td>495</td>\n",
       "      <td>516</td>\n",
       "      <td>485</td>\n",
       "      <td>486</td>\n",
       "      <td>245</td>\n",
       "      <td>522</td>\n",
       "      <td>483</td>\n",
       "      <td>493</td>\n",
       "    </tr>\n",
       "    <tr>\n",
       "      <td>3</td>\n",
       "      <td>427</td>\n",
       "      <td>531</td>\n",
       "      <td>544</td>\n",
       "      <td>489</td>\n",
       "      <td>520</td>\n",
       "      <td>467</td>\n",
       "      <td>609</td>\n",
       "      <td>445</td>\n",
       "      <td>497</td>\n",
       "      <td>452</td>\n",
       "      <td>...</td>\n",
       "      <td>540</td>\n",
       "      <td>442</td>\n",
       "      <td>493</td>\n",
       "      <td>529</td>\n",
       "      <td>509</td>\n",
       "      <td>505</td>\n",
       "      <td>313</td>\n",
       "      <td>490</td>\n",
       "      <td>480</td>\n",
       "      <td>516</td>\n",
       "    </tr>\n",
       "    <tr>\n",
       "      <td>4</td>\n",
       "      <td>472</td>\n",
       "      <td>430</td>\n",
       "      <td>431</td>\n",
       "      <td>459</td>\n",
       "      <td>468</td>\n",
       "      <td>500</td>\n",
       "      <td>492</td>\n",
       "      <td>501</td>\n",
       "      <td>500</td>\n",
       "      <td>587</td>\n",
       "      <td>...</td>\n",
       "      <td>407</td>\n",
       "      <td>526</td>\n",
       "      <td>474</td>\n",
       "      <td>517</td>\n",
       "      <td>489</td>\n",
       "      <td>486</td>\n",
       "      <td>435</td>\n",
       "      <td>444</td>\n",
       "      <td>482</td>\n",
       "      <td>468</td>\n",
       "    </tr>\n",
       "    <tr>\n",
       "      <td>...</td>\n",
       "      <td>...</td>\n",
       "      <td>...</td>\n",
       "      <td>...</td>\n",
       "      <td>...</td>\n",
       "      <td>...</td>\n",
       "      <td>...</td>\n",
       "      <td>...</td>\n",
       "      <td>...</td>\n",
       "      <td>...</td>\n",
       "      <td>...</td>\n",
       "      <td>...</td>\n",
       "      <td>...</td>\n",
       "      <td>...</td>\n",
       "      <td>...</td>\n",
       "      <td>...</td>\n",
       "      <td>...</td>\n",
       "      <td>...</td>\n",
       "      <td>...</td>\n",
       "      <td>...</td>\n",
       "      <td>...</td>\n",
       "      <td>...</td>\n",
       "    </tr>\n",
       "    <tr>\n",
       "      <td>1995</td>\n",
       "      <td>452</td>\n",
       "      <td>477</td>\n",
       "      <td>493</td>\n",
       "      <td>445</td>\n",
       "      <td>502</td>\n",
       "      <td>459</td>\n",
       "      <td>525</td>\n",
       "      <td>538</td>\n",
       "      <td>474</td>\n",
       "      <td>516</td>\n",
       "      <td>...</td>\n",
       "      <td>537</td>\n",
       "      <td>423</td>\n",
       "      <td>506</td>\n",
       "      <td>493</td>\n",
       "      <td>453</td>\n",
       "      <td>497</td>\n",
       "      <td>539</td>\n",
       "      <td>526</td>\n",
       "      <td>477</td>\n",
       "      <td>471</td>\n",
       "    </tr>\n",
       "    <tr>\n",
       "      <td>1996</td>\n",
       "      <td>562</td>\n",
       "      <td>451</td>\n",
       "      <td>575</td>\n",
       "      <td>444</td>\n",
       "      <td>410</td>\n",
       "      <td>472</td>\n",
       "      <td>508</td>\n",
       "      <td>496</td>\n",
       "      <td>482</td>\n",
       "      <td>579</td>\n",
       "      <td>...</td>\n",
       "      <td>553</td>\n",
       "      <td>469</td>\n",
       "      <td>515</td>\n",
       "      <td>479</td>\n",
       "      <td>526</td>\n",
       "      <td>477</td>\n",
       "      <td>453</td>\n",
       "      <td>460</td>\n",
       "      <td>480</td>\n",
       "      <td>474</td>\n",
       "    </tr>\n",
       "    <tr>\n",
       "      <td>1997</td>\n",
       "      <td>494</td>\n",
       "      <td>475</td>\n",
       "      <td>483</td>\n",
       "      <td>466</td>\n",
       "      <td>523</td>\n",
       "      <td>495</td>\n",
       "      <td>475</td>\n",
       "      <td>468</td>\n",
       "      <td>499</td>\n",
       "      <td>523</td>\n",
       "      <td>...</td>\n",
       "      <td>419</td>\n",
       "      <td>477</td>\n",
       "      <td>468</td>\n",
       "      <td>455</td>\n",
       "      <td>530</td>\n",
       "      <td>499</td>\n",
       "      <td>298</td>\n",
       "      <td>514</td>\n",
       "      <td>487</td>\n",
       "      <td>504</td>\n",
       "    </tr>\n",
       "    <tr>\n",
       "      <td>1998</td>\n",
       "      <td>495</td>\n",
       "      <td>472</td>\n",
       "      <td>523</td>\n",
       "      <td>500</td>\n",
       "      <td>461</td>\n",
       "      <td>461</td>\n",
       "      <td>524</td>\n",
       "      <td>489</td>\n",
       "      <td>465</td>\n",
       "      <td>453</td>\n",
       "      <td>...</td>\n",
       "      <td>345</td>\n",
       "      <td>520</td>\n",
       "      <td>481</td>\n",
       "      <td>459</td>\n",
       "      <td>476</td>\n",
       "      <td>480</td>\n",
       "      <td>698</td>\n",
       "      <td>490</td>\n",
       "      <td>475</td>\n",
       "      <td>494</td>\n",
       "    </tr>\n",
       "    <tr>\n",
       "      <td>1999</td>\n",
       "      <td>434</td>\n",
       "      <td>479</td>\n",
       "      <td>511</td>\n",
       "      <td>468</td>\n",
       "      <td>475</td>\n",
       "      <td>476</td>\n",
       "      <td>482</td>\n",
       "      <td>490</td>\n",
       "      <td>505</td>\n",
       "      <td>580</td>\n",
       "      <td>...</td>\n",
       "      <td>428</td>\n",
       "      <td>476</td>\n",
       "      <td>444</td>\n",
       "      <td>485</td>\n",
       "      <td>510</td>\n",
       "      <td>469</td>\n",
       "      <td>605</td>\n",
       "      <td>507</td>\n",
       "      <td>487</td>\n",
       "      <td>470</td>\n",
       "    </tr>\n",
       "  </tbody>\n",
       "</table>\n",
       "<p>2000 rows × 247 columns</p>\n",
       "</div>"
      ],
      "text/plain": [
       "      feat_1  feat_2  feat_4  feat_6  feat_10  feat_12  feat_13  feat_15  \\\n",
       "0        423     504     521     494      551      472      461      492   \n",
       "1        499     520     495     485      510      443      506      483   \n",
       "2        486     495     421     499      492      480      435      475   \n",
       "3        427     531     544     489      520      467      609      445   \n",
       "4        472     430     431     459      468      500      492      501   \n",
       "...      ...     ...     ...     ...      ...      ...      ...      ...   \n",
       "1995     452     477     493     445      502      459      525      538   \n",
       "1996     562     451     575     444      410      472      508      496   \n",
       "1997     494     475     483     466      523      495      475      468   \n",
       "1998     495     472     523     500      461      461      524      489   \n",
       "1999     434     479     511     468      475      476      482      490   \n",
       "\n",
       "      feat_18  feat_24  ...  feat_475  feat_478  feat_480  feat_481  feat_483  \\\n",
       "0         468      474  ...       413       538       505       498       546   \n",
       "1         506      505  ...       447       479       525       481       491   \n",
       "2         481      516  ...       583       543       495       516       485   \n",
       "3         497      452  ...       540       442       493       529       509   \n",
       "4         500      587  ...       407       526       474       517       489   \n",
       "...       ...      ...  ...       ...       ...       ...       ...       ...   \n",
       "1995      474      516  ...       537       423       506       493       453   \n",
       "1996      482      579  ...       553       469       515       479       526   \n",
       "1997      499      523  ...       419       477       468       455       530   \n",
       "1998      465      453  ...       345       520       481       459       476   \n",
       "1999      505      580  ...       428       476       444       485       510   \n",
       "\n",
       "      feat_490  feat_493  feat_494  feat_496  feat_497  \n",
       "0          470       567       547       484       474  \n",
       "1          445       451       445       481       485  \n",
       "2          486       245       522       483       493  \n",
       "3          505       313       490       480       516  \n",
       "4          486       435       444       482       468  \n",
       "...        ...       ...       ...       ...       ...  \n",
       "1995       497       539       526       477       471  \n",
       "1996       477       453       460       480       474  \n",
       "1997       499       298       514       487       504  \n",
       "1998       480       698       490       475       494  \n",
       "1999       469       605       507       487       470  \n",
       "\n",
       "[2000 rows x 247 columns]"
      ]
     },
     "execution_count": 201,
     "metadata": {},
     "output_type": "execute_result"
    }
   ],
   "source": [
    "\n",
    "selector_sp = SelectPercentile(chi2, percentile=50)\n",
    "X_train_sp=selector_sp.fit_transform(X_train_vt,y_train)\n",
    "X_train_sp\n",
    "############ Conversion from numpy to pandas with column names ################\n",
    "X_train_sp=X_train_vt[X_train_vt.columns[selector_sp.get_support(indices=True)]]\n",
    "X_train_sp"
   ]
  },
  {
   "cell_type": "code",
   "execution_count": 202,
   "metadata": {
    "colab": {
     "base_uri": "https://localhost:8080/",
     "height": 128
    },
    "colab_type": "code",
    "id": "KDc-8C54UTT8",
    "outputId": "844b8b3f-6d11-4547-9460-e92d2104baa3"
   },
   "outputs": [
    {
     "data": {
      "text/plain": [
       "Index(['feat_1', 'feat_2', 'feat_4', 'feat_6', 'feat_10', 'feat_12', 'feat_13',\n",
       "       'feat_15', 'feat_18', 'feat_24',\n",
       "       ...\n",
       "       'feat_475', 'feat_478', 'feat_480', 'feat_481', 'feat_483', 'feat_490',\n",
       "       'feat_493', 'feat_494', 'feat_496', 'feat_497'],\n",
       "      dtype='object', length=247)"
      ]
     },
     "execution_count": 202,
     "metadata": {},
     "output_type": "execute_result"
    }
   ],
   "source": [
    "X_test_sp = selector_sp.transform(X_test_vt)\n",
    "X_test_sp\n",
    "############ Conversion from numpy to pandas with column names ################\n",
    "X_test_sp=X_test_vt[X_test_vt.columns[selector_sp.get_support(indices=True)]]\n",
    "X_test_sp.columns\n",
    "############ SelectPercentile: Ends ######################"
   ]
  },
  {
   "cell_type": "code",
   "execution_count": 203,
   "metadata": {
    "colab": {},
    "colab_type": "code",
    "id": "zvYOfMd6UTT-"
   },
   "outputs": [],
   "source": [
    "########### Principal Component Analysis: Starts ########\n",
    "from sklearn.decomposition import PCA\n",
    "pca = PCA(n_components=5)\n",
    "X_train_pca=pca.fit_transform(X_train,y_train)\n",
    "\n",
    "\n"
   ]
  },
  {
   "cell_type": "code",
   "execution_count": 204,
   "metadata": {
    "colab": {
     "base_uri": "https://localhost:8080/",
     "height": 424
    },
    "colab_type": "code",
    "id": "_wg2WhvmV3TM",
    "outputId": "7133f868-07dc-4e9a-c11d-11214b641f43"
   },
   "outputs": [
    {
     "data": {
      "text/html": [
       "<div>\n",
       "<style scoped>\n",
       "    .dataframe tbody tr th:only-of-type {\n",
       "        vertical-align: middle;\n",
       "    }\n",
       "\n",
       "    .dataframe tbody tr th {\n",
       "        vertical-align: top;\n",
       "    }\n",
       "\n",
       "    .dataframe thead th {\n",
       "        text-align: right;\n",
       "    }\n",
       "</style>\n",
       "<table border=\"1\" class=\"dataframe\">\n",
       "  <thead>\n",
       "    <tr style=\"text-align: right;\">\n",
       "      <th></th>\n",
       "      <th>0</th>\n",
       "      <th>1</th>\n",
       "      <th>2</th>\n",
       "      <th>3</th>\n",
       "      <th>4</th>\n",
       "    </tr>\n",
       "  </thead>\n",
       "  <tbody>\n",
       "    <tr>\n",
       "      <td>0</td>\n",
       "      <td>-85.125400</td>\n",
       "      <td>-1.240465</td>\n",
       "      <td>240.718773</td>\n",
       "      <td>183.488654</td>\n",
       "      <td>-60.980949</td>\n",
       "    </tr>\n",
       "    <tr>\n",
       "      <td>1</td>\n",
       "      <td>116.942364</td>\n",
       "      <td>6.500155</td>\n",
       "      <td>85.872978</td>\n",
       "      <td>129.459279</td>\n",
       "      <td>-1.570257</td>\n",
       "    </tr>\n",
       "    <tr>\n",
       "      <td>2</td>\n",
       "      <td>269.300835</td>\n",
       "      <td>-370.351718</td>\n",
       "      <td>-87.756376</td>\n",
       "      <td>79.269489</td>\n",
       "      <td>10.170499</td>\n",
       "    </tr>\n",
       "    <tr>\n",
       "      <td>3</td>\n",
       "      <td>279.394071</td>\n",
       "      <td>-130.203705</td>\n",
       "      <td>-17.047199</td>\n",
       "      <td>10.433101</td>\n",
       "      <td>75.789132</td>\n",
       "    </tr>\n",
       "    <tr>\n",
       "      <td>4</td>\n",
       "      <td>339.677546</td>\n",
       "      <td>202.447430</td>\n",
       "      <td>124.993133</td>\n",
       "      <td>-64.221652</td>\n",
       "      <td>-29.443732</td>\n",
       "    </tr>\n",
       "    <tr>\n",
       "      <td>...</td>\n",
       "      <td>...</td>\n",
       "      <td>...</td>\n",
       "      <td>...</td>\n",
       "      <td>...</td>\n",
       "      <td>...</td>\n",
       "    </tr>\n",
       "    <tr>\n",
       "      <td>1995</td>\n",
       "      <td>-238.723490</td>\n",
       "      <td>-235.162179</td>\n",
       "      <td>144.182931</td>\n",
       "      <td>118.620876</td>\n",
       "      <td>-6.730058</td>\n",
       "    </tr>\n",
       "    <tr>\n",
       "      <td>1996</td>\n",
       "      <td>39.972177</td>\n",
       "      <td>-38.982768</td>\n",
       "      <td>-62.357344</td>\n",
       "      <td>8.749281</td>\n",
       "      <td>165.627520</td>\n",
       "    </tr>\n",
       "    <tr>\n",
       "      <td>1997</td>\n",
       "      <td>417.319556</td>\n",
       "      <td>-27.206805</td>\n",
       "      <td>44.241790</td>\n",
       "      <td>91.509869</td>\n",
       "      <td>-117.212805</td>\n",
       "    </tr>\n",
       "    <tr>\n",
       "      <td>1998</td>\n",
       "      <td>-75.915514</td>\n",
       "      <td>445.928777</td>\n",
       "      <td>98.865961</td>\n",
       "      <td>-22.747395</td>\n",
       "      <td>23.355410</td>\n",
       "    </tr>\n",
       "    <tr>\n",
       "      <td>1999</td>\n",
       "      <td>-191.119612</td>\n",
       "      <td>182.416097</td>\n",
       "      <td>-304.210581</td>\n",
       "      <td>183.639588</td>\n",
       "      <td>19.987306</td>\n",
       "    </tr>\n",
       "  </tbody>\n",
       "</table>\n",
       "<p>2000 rows × 5 columns</p>\n",
       "</div>"
      ],
      "text/plain": [
       "               0           1           2           3           4\n",
       "0     -85.125400   -1.240465  240.718773  183.488654  -60.980949\n",
       "1     116.942364    6.500155   85.872978  129.459279   -1.570257\n",
       "2     269.300835 -370.351718  -87.756376   79.269489   10.170499\n",
       "3     279.394071 -130.203705  -17.047199   10.433101   75.789132\n",
       "4     339.677546  202.447430  124.993133  -64.221652  -29.443732\n",
       "...          ...         ...         ...         ...         ...\n",
       "1995 -238.723490 -235.162179  144.182931  118.620876   -6.730058\n",
       "1996   39.972177  -38.982768  -62.357344    8.749281  165.627520\n",
       "1997  417.319556  -27.206805   44.241790   91.509869 -117.212805\n",
       "1998  -75.915514  445.928777   98.865961  -22.747395   23.355410\n",
       "1999 -191.119612  182.416097 -304.210581  183.639588   19.987306\n",
       "\n",
       "[2000 rows x 5 columns]"
      ]
     },
     "execution_count": 204,
     "metadata": {},
     "output_type": "execute_result"
    }
   ],
   "source": [
    "X_train_pca = pd.DataFrame(X_train_pca, index=X_train.index)\n",
    "X_train_pca"
   ]
  },
  {
   "cell_type": "code",
   "execution_count": 205,
   "metadata": {
    "colab": {
     "base_uri": "https://localhost:8080/",
     "height": 424
    },
    "colab_type": "code",
    "id": "v2Cn0aoJUTUA",
    "outputId": "4db71bc0-0861-4eaa-e1cd-8e059c07970e"
   },
   "outputs": [
    {
     "data": {
      "text/html": [
       "<div>\n",
       "<style scoped>\n",
       "    .dataframe tbody tr th:only-of-type {\n",
       "        vertical-align: middle;\n",
       "    }\n",
       "\n",
       "    .dataframe tbody tr th {\n",
       "        vertical-align: top;\n",
       "    }\n",
       "\n",
       "    .dataframe thead th {\n",
       "        text-align: right;\n",
       "    }\n",
       "</style>\n",
       "<table border=\"1\" class=\"dataframe\">\n",
       "  <thead>\n",
       "    <tr style=\"text-align: right;\">\n",
       "      <th></th>\n",
       "      <th>0</th>\n",
       "      <th>1</th>\n",
       "      <th>2</th>\n",
       "      <th>3</th>\n",
       "      <th>4</th>\n",
       "    </tr>\n",
       "  </thead>\n",
       "  <tbody>\n",
       "    <tr>\n",
       "      <td>0</td>\n",
       "      <td>-75.025825</td>\n",
       "      <td>209.133601</td>\n",
       "      <td>-143.657044</td>\n",
       "      <td>80.789613</td>\n",
       "      <td>-19.886250</td>\n",
       "    </tr>\n",
       "    <tr>\n",
       "      <td>1</td>\n",
       "      <td>295.770895</td>\n",
       "      <td>184.210573</td>\n",
       "      <td>115.947895</td>\n",
       "      <td>128.805079</td>\n",
       "      <td>19.352557</td>\n",
       "    </tr>\n",
       "    <tr>\n",
       "      <td>2</td>\n",
       "      <td>-210.337217</td>\n",
       "      <td>258.167635</td>\n",
       "      <td>98.471941</td>\n",
       "      <td>-2.525986</td>\n",
       "      <td>11.334996</td>\n",
       "    </tr>\n",
       "    <tr>\n",
       "      <td>3</td>\n",
       "      <td>426.886025</td>\n",
       "      <td>183.141150</td>\n",
       "      <td>85.452613</td>\n",
       "      <td>-95.727473</td>\n",
       "      <td>6.153932</td>\n",
       "    </tr>\n",
       "    <tr>\n",
       "      <td>4</td>\n",
       "      <td>-8.205218</td>\n",
       "      <td>252.506653</td>\n",
       "      <td>-139.459739</td>\n",
       "      <td>22.431803</td>\n",
       "      <td>50.910184</td>\n",
       "    </tr>\n",
       "    <tr>\n",
       "      <td>...</td>\n",
       "      <td>...</td>\n",
       "      <td>...</td>\n",
       "      <td>...</td>\n",
       "      <td>...</td>\n",
       "      <td>...</td>\n",
       "    </tr>\n",
       "    <tr>\n",
       "      <td>595</td>\n",
       "      <td>344.991101</td>\n",
       "      <td>78.041131</td>\n",
       "      <td>-25.302492</td>\n",
       "      <td>50.385917</td>\n",
       "      <td>53.694892</td>\n",
       "    </tr>\n",
       "    <tr>\n",
       "      <td>596</td>\n",
       "      <td>-294.782818</td>\n",
       "      <td>263.555666</td>\n",
       "      <td>25.381797</td>\n",
       "      <td>44.758256</td>\n",
       "      <td>34.921477</td>\n",
       "    </tr>\n",
       "    <tr>\n",
       "      <td>597</td>\n",
       "      <td>-6.383282</td>\n",
       "      <td>-17.021744</td>\n",
       "      <td>215.498391</td>\n",
       "      <td>-73.479048</td>\n",
       "      <td>-24.858547</td>\n",
       "    </tr>\n",
       "    <tr>\n",
       "      <td>598</td>\n",
       "      <td>-80.111901</td>\n",
       "      <td>-8.772096</td>\n",
       "      <td>52.478792</td>\n",
       "      <td>133.077068</td>\n",
       "      <td>-39.077116</td>\n",
       "    </tr>\n",
       "    <tr>\n",
       "      <td>599</td>\n",
       "      <td>-211.752688</td>\n",
       "      <td>424.362290</td>\n",
       "      <td>-59.025703</td>\n",
       "      <td>-27.319921</td>\n",
       "      <td>11.107231</td>\n",
       "    </tr>\n",
       "  </tbody>\n",
       "</table>\n",
       "<p>600 rows × 5 columns</p>\n",
       "</div>"
      ],
      "text/plain": [
       "              0           1           2           3          4\n",
       "0    -75.025825  209.133601 -143.657044   80.789613 -19.886250\n",
       "1    295.770895  184.210573  115.947895  128.805079  19.352557\n",
       "2   -210.337217  258.167635   98.471941   -2.525986  11.334996\n",
       "3    426.886025  183.141150   85.452613  -95.727473   6.153932\n",
       "4     -8.205218  252.506653 -139.459739   22.431803  50.910184\n",
       "..          ...         ...         ...         ...        ...\n",
       "595  344.991101   78.041131  -25.302492   50.385917  53.694892\n",
       "596 -294.782818  263.555666   25.381797   44.758256  34.921477\n",
       "597   -6.383282  -17.021744  215.498391  -73.479048 -24.858547\n",
       "598  -80.111901   -8.772096   52.478792  133.077068 -39.077116\n",
       "599 -211.752688  424.362290  -59.025703  -27.319921  11.107231\n",
       "\n",
       "[600 rows x 5 columns]"
      ]
     },
     "execution_count": 205,
     "metadata": {},
     "output_type": "execute_result"
    }
   ],
   "source": [
    "X_test_pca = pca.transform(X_test)\n",
    "X_test_pca = pd.DataFrame(X_test_pca, index=X_test.index)\n",
    "X_test_pca"
   ]
  },
  {
   "cell_type": "code",
   "execution_count": 206,
   "metadata": {
    "colab": {
     "base_uri": "https://localhost:8080/",
     "height": 147
    },
    "colab_type": "code",
    "id": "XRsOErNIUTUD",
    "outputId": "7b5f41d3-01d6-47e1-a685-0c71ffbe07c3"
   },
   "outputs": [
    {
     "data": {
      "text/plain": [
       "{'copy': True,\n",
       " 'iterated_power': 'auto',\n",
       " 'n_components': 5,\n",
       " 'random_state': None,\n",
       " 'svd_solver': 'auto',\n",
       " 'tol': 0.0,\n",
       " 'whiten': False}"
      ]
     },
     "execution_count": 206,
     "metadata": {},
     "output_type": "execute_result"
    }
   ],
   "source": [
    "pca.get_params()"
   ]
  },
  {
   "cell_type": "code",
   "execution_count": 207,
   "metadata": {
    "colab": {},
    "colab_type": "code",
    "id": "F0A0K0OrUTUF"
   },
   "outputs": [],
   "source": [
    "########### Principal Component Analysis: Ends ########"
   ]
  },
  {
   "cell_type": "code",
   "execution_count": 208,
   "metadata": {
    "colab": {},
    "colab_type": "code",
    "id": "kef25qyCUTUH"
   },
   "outputs": [],
   "source": [
    "########### Feature Engineering: Starts ########"
   ]
  },
  {
   "cell_type": "code",
   "execution_count": null,
   "metadata": {
    "colab": {},
    "colab_type": "code",
    "id": "nQuubbd1UTUJ"
   },
   "outputs": [],
   "source": []
  },
  {
   "cell_type": "code",
   "execution_count": 209,
   "metadata": {
    "colab": {},
    "colab_type": "code",
    "id": "pGjHDNBDUTUL"
   },
   "outputs": [],
   "source": [
    "X_train_fe=train.drop(columns=['labels'],axis=1)\n",
    "X_test_fe=test.drop(columns=['labels'],axis=1)"
   ]
  },
  {
   "cell_type": "code",
   "execution_count": null,
   "metadata": {
    "colab": {},
    "colab_type": "code",
    "id": "HXtlZlVXUTUN"
   },
   "outputs": [],
   "source": []
  },
  {
   "cell_type": "code",
   "execution_count": 210,
   "metadata": {
    "colab": {},
    "colab_type": "code",
    "id": "Q0wovmZGQazf"
   },
   "outputs": [],
   "source": [
    "for i in X_train_fe.columns:\n",
    "    upper_lim = X_train_fe[i].quantile(.90)\n",
    "    lower_lim = X_train_fe[i].quantile(.10)\n",
    "    X_train_fe.loc[(X_train_fe[i] > upper_lim),i] = upper_lim\n",
    "    X_train_fe.loc[(X_train_fe[i] < lower_lim),i] = lower_lim"
   ]
  },
  {
   "cell_type": "code",
   "execution_count": 211,
   "metadata": {
    "colab": {},
    "colab_type": "code",
    "id": "C-sNAsStQazh"
   },
   "outputs": [],
   "source": [
    "for i in X_test_fe.columns:\n",
    "    upper_lim = X_test_fe[i].quantile(.90)\n",
    "    lower_lim = X_test_fe[i].quantile(.10)\n",
    "    X_test_fe.loc[(X_test_fe[i] > upper_lim),i] = upper_lim\n",
    "    X_test_fe.loc[(X_test_fe[i] < lower_lim),i] = lower_lim"
   ]
  },
  {
   "cell_type": "code",
   "execution_count": 212,
   "metadata": {
    "colab": {
     "base_uri": "https://localhost:8080/",
     "height": 284
    },
    "colab_type": "code",
    "id": "8lJG3igdQazi",
    "outputId": "40052257-6cf5-46c6-f1f3-79ae51c6c9a2"
   },
   "outputs": [
    {
     "data": {
      "text/plain": [
       "<matplotlib.axes._subplots.AxesSubplot at 0x25e85562c08>"
      ]
     },
     "execution_count": 212,
     "metadata": {},
     "output_type": "execute_result"
    },
    {
     "data": {
      "image/png": "[encoded data removed]",
      "text/plain": [
       "<Figure size 432x288 with 1 Axes>"
      ]
     },
     "metadata": {
      "needs_background": "light"
     },
     "output_type": "display_data"
    }
   ],
   "source": [
    "sns.boxplot(x=X_train_fe)"
   ]
  },
  {
   "cell_type": "code",
   "execution_count": 213,
   "metadata": {},
   "outputs": [
    {
     "data": {
      "text/plain": [
       "0.585"
      ]
     },
     "execution_count": 213,
     "metadata": {},
     "output_type": "execute_result"
    }
   ],
   "source": [
    "################ Logistic Regression with feature selection ################\n",
    "l=[0.1,0.5,1,2,5,10,15]\n",
    "logreg=LogisticRegressionCV(Cs=l,cv=5,solver='saga',max_iter=10000,n_jobs=-1,penalty='l2')\n",
    "logreg.fit(X_train_sp,y_train)\n",
    "y_pred_sel=logreg.predict(X_test_sp)\n",
    "score_sel=accuracy_score(y_test, y_pred_sel, normalize=True)\n",
    "score_sel"
   ]
  },
  {
   "cell_type": "code",
   "execution_count": 277,
   "metadata": {},
   "outputs": [
    {
     "name": "stdout",
     "output_type": "stream",
     "text": [
      "Logistic Regression with feature selection  0.585\n"
     ]
    }
   ],
   "source": [
    "print('Logistic Regression with feature selection ',score_sel)"
   ]
  },
  {
   "cell_type": "code",
   "execution_count": 214,
   "metadata": {},
   "outputs": [
    {
     "data": {
      "text/plain": [
       "0.5933333333333334"
      ]
     },
     "execution_count": 214,
     "metadata": {},
     "output_type": "execute_result"
    }
   ],
   "source": [
    "################ Logistic Regression with PCA features ################\n",
    "l=[0.1,0.5,1,2,5,10,15]\n",
    "logreg=LogisticRegressionCV(Cs=l,cv=5,solver='saga',max_iter=10000,n_jobs=-1,penalty='l2')\n",
    "logreg.fit(X_train_pca,y_train)\n",
    "y_pred_pca=logreg.predict(X_test_pca)\n",
    "score_pca=accuracy_score(y_test, y_pred_pca, normalize=True)\n",
    "score_pca"
   ]
  },
  {
   "cell_type": "code",
   "execution_count": null,
   "metadata": {},
   "outputs": [],
   "source": [
    "print('Logistic Regression with PCA features ',score_pca)"
   ]
  },
  {
   "cell_type": "code",
   "execution_count": 215,
   "metadata": {},
   "outputs": [
    {
     "data": {
      "text/plain": [
       "0.5866666666666667"
      ]
     },
     "execution_count": 215,
     "metadata": {},
     "output_type": "execute_result"
    }
   ],
   "source": [
    "################ Logistic Regression with feature engineering ################\n",
    "l=[0.1,0.5,1,2,5,10,15]\n",
    "logreg=LogisticRegressionCV(Cs=l,cv=5,solver='saga',max_iter=10000,n_jobs=-1,penalty='l2')\n",
    "logreg.fit(X_train_sp,y_train)\n",
    "y_pred_eng=logreg.predict(X_test_sp)\n",
    "score_eng=accuracy_score(y_test, y_pred_eng, normalize=True)\n",
    "score_eng"
   ]
  },
  {
   "cell_type": "code",
   "execution_count": null,
   "metadata": {},
   "outputs": [],
   "source": [
    "print('Logistic Regression with feature engineering ',score_eng)"
   ]
  },
  {
   "cell_type": "code",
   "execution_count": 216,
   "metadata": {},
   "outputs": [
    {
     "data": {
      "text/plain": [
       "0.5916666666666667"
      ]
     },
     "execution_count": 216,
     "metadata": {},
     "output_type": "execute_result"
    }
   ],
   "source": [
    "l=[0.1,0.5,1,2,5,10,15]\n",
    "logreg=LogisticRegressionCV(Cs=l,cv=5,solver='saga',max_iter=10000,n_jobs=-1,penalty='l2')\n",
    "logreg.fit(X_train_6,y_train)\n",
    "y_pred=logreg.predict(X_test_6)\n",
    "score=accuracy_score(y_test, y_pred, normalize=True)\n",
    "score"
   ]
  },
  {
   "cell_type": "code",
   "execution_count": null,
   "metadata": {},
   "outputs": [],
   "source": []
  },
  {
   "cell_type": "markdown",
   "metadata": {
    "colab_type": "text",
    "id": "qQDjmxE1f85p"
   },
   "source": [
    "Task 4: Model building & evaluation. Train at least 4 models:\n",
    "\n",
    "\n",
    "1.   Neural network (any type of NN is fine)\n",
    "2.   Decision tree (can be a plain decision tree, random forest, gradient boosted trees, etc.)\n",
    "3.   Support vector machine\n",
    "4.   Your choice of Naive Bayes or K-nearest neighbors\n",
    "\n",
    "For model 4, briefly (no more than 2 paragraphs) describe how the model works. \n",
    "\n",
    "Part of your grade will depend on how your best model performs against the best model of all the classmates, as determined by the accuracy achieved using the test set. You are encouraged to share your best model's accuracy on Piazza, but not which feature engineering or model tuning steps you took to achieve it. (60 points)"
   ]
  },
  {
   "cell_type": "code",
   "execution_count": 217,
   "metadata": {
    "colab": {
     "base_uri": "https://localhost:8080/",
     "height": 36
    },
    "colab_type": "code",
    "id": "SE8eCiKtUTUP",
    "outputId": "0b2cf19c-69a3-403b-cca4-732274412baa"
   },
   "outputs": [
    {
     "data": {
      "text/plain": [
       "0.6016666666666667"
      ]
     },
     "execution_count": 217,
     "metadata": {},
     "output_type": "execute_result"
    }
   ],
   "source": [
    "############ Neural Network: Starts ######################\n",
    "################## Original Features #####################\n",
    "from sklearn.neural_network import MLPClassifier\n",
    "\n",
    "nn_orig = MLPClassifier(solver='lbfgs', alpha=1e-5,activation='logistic', hidden_layer_sizes=(512, 2),random_state=5)\n",
    "nn_orig.fit(X_train, y_train)\n",
    "y_pred_nn_orig = nn_orig.predict(X_test)\n",
    "acc_nn_orig=accuracy_score(y_test, y_pred_nn_orig)\n",
    "acc_nn_orig"
   ]
  },
  {
   "cell_type": "code",
   "execution_count": 278,
   "metadata": {},
   "outputs": [
    {
     "name": "stdout",
     "output_type": "stream",
     "text": [
      "Neural Network Original Dataset  0.6016666666666667\n"
     ]
    }
   ],
   "source": [
    "print('Neural Network Original Dataset ',acc_nn_orig)"
   ]
  },
  {
   "cell_type": "code",
   "execution_count": 218,
   "metadata": {
    "colab": {
     "base_uri": "https://localhost:8080/",
     "height": 279
    },
    "colab_type": "code",
    "id": "DG9J7UtzUTUQ",
    "outputId": "a5ed3362-dcb3-4dd7-f6ac-156e32ece56e"
   },
   "outputs": [
    {
     "data": {
      "image/png": "[encoded data removed]",
      "text/plain": [
       "<Figure size 432x288 with 1 Axes>"
      ]
     },
     "metadata": {
      "needs_background": "light"
     },
     "output_type": "display_data"
    }
   ],
   "source": [
    "cf_nn_sel_orig=confusion_matrix(y_test, y_pred_nn_orig)\n",
    "fig, ax = plot_confusion_matrix(conf_mat=cf_nn_sel_orig)"
   ]
  },
  {
   "cell_type": "code",
   "execution_count": 219,
   "metadata": {
    "colab": {
     "base_uri": "https://localhost:8080/",
     "height": 36
    },
    "colab_type": "code",
    "id": "7xiauxr5UTUS",
    "outputId": "a1fa1acf-e628-471d-b405-45d2c515720c"
   },
   "outputs": [
    {
     "data": {
      "text/plain": [
       "0.6366666666666667"
      ]
     },
     "execution_count": 219,
     "metadata": {},
     "output_type": "execute_result"
    }
   ],
   "source": [
    "################## Selected Features #####################\n",
    "nn_sel = MLPClassifier(solver='lbfgs', alpha=1e-5,activation='logistic', hidden_layer_sizes=(512, 2),random_state=5)\n",
    "nn_sel.fit(X_train_sp, y_train)\n",
    "y_pred_nn_sel = nn_sel.predict(X_test_sp)\n",
    "acc_nn_sel=accuracy_score(y_test, y_pred_nn_sel)\n",
    "acc_nn_sel"
   ]
  },
  {
   "cell_type": "code",
   "execution_count": 279,
   "metadata": {},
   "outputs": [
    {
     "name": "stdout",
     "output_type": "stream",
     "text": [
      "Neural Network with Selected Features  0.6366666666666667\n"
     ]
    }
   ],
   "source": [
    "print('Neural Network with Selected Features ',acc_nn_sel)"
   ]
  },
  {
   "cell_type": "code",
   "execution_count": 220,
   "metadata": {
    "colab": {
     "base_uri": "https://localhost:8080/",
     "height": 279
    },
    "colab_type": "code",
    "id": "TJoMCX5YUTUU",
    "outputId": "0d3adadb-6fb9-4d2c-cf54-8498e099fcaa"
   },
   "outputs": [
    {
     "data": {
      "image/png": "[encoded data removed]",
      "text/plain": [
       "<Figure size 432x288 with 1 Axes>"
      ]
     },
     "metadata": {
      "needs_background": "light"
     },
     "output_type": "display_data"
    }
   ],
   "source": [
    "cf_nn_sel=confusion_matrix(y_test, y_pred_nn_sel)\n",
    "fig, ax = plot_confusion_matrix(conf_mat=cf_nn_sel)"
   ]
  },
  {
   "cell_type": "code",
   "execution_count": 221,
   "metadata": {
    "colab": {
     "base_uri": "https://localhost:8080/",
     "height": 36
    },
    "colab_type": "code",
    "id": "dyiVeoVHQazp",
    "outputId": "7e6b10c7-bf7f-485f-a8db-674758dbea87"
   },
   "outputs": [
    {
     "data": {
      "text/plain": [
       "0.7433333333333333"
      ]
     },
     "execution_count": 221,
     "metadata": {},
     "output_type": "execute_result"
    }
   ],
   "source": [
    "################## PCA Features #####################\n",
    "nn_pca = MLPClassifier(solver='lbfgs', alpha=1e-5,activation='tanh', hidden_layer_sizes=(128, 2),random_state=5)\n",
    "nn_pca.fit(X_train_pca, y_train)\n",
    "y_pred_nn_pca = nn_pca.predict(X_test_pca)\n",
    "acc_nn_pca=accuracy_score(y_test, y_pred_nn_pca)\n",
    "acc_nn_pca"
   ]
  },
  {
   "cell_type": "code",
   "execution_count": 280,
   "metadata": {},
   "outputs": [
    {
     "name": "stdout",
     "output_type": "stream",
     "text": [
      "Neural Network with PCA features  0.7433333333333333\n"
     ]
    }
   ],
   "source": [
    "print('Neural Network with PCA features ',acc_nn_pca)"
   ]
  },
  {
   "cell_type": "code",
   "execution_count": 222,
   "metadata": {
    "colab": {
     "base_uri": "https://localhost:8080/",
     "height": 279
    },
    "colab_type": "code",
    "id": "VuqdWj7WQazr",
    "outputId": "702f3869-f29c-45b5-b3c1-ed96b3d12bb9"
   },
   "outputs": [
    {
     "data": {
      "image/png": "[encoded data removed]",
      "text/plain": [
       "<Figure size 432x288 with 1 Axes>"
      ]
     },
     "metadata": {
      "needs_background": "light"
     },
     "output_type": "display_data"
    }
   ],
   "source": [
    "cf_nn_pca=confusion_matrix(y_test, y_pred_nn_pca)\n",
    "fig, ax = plot_confusion_matrix(conf_mat=cf_nn_pca)"
   ]
  },
  {
   "cell_type": "code",
   "execution_count": 223,
   "metadata": {
    "colab": {
     "base_uri": "https://localhost:8080/",
     "height": 36
    },
    "colab_type": "code",
    "id": "D8kiY77bUTUW",
    "outputId": "05e17ed7-0527-4715-8736-973331e7e0cf"
   },
   "outputs": [
    {
     "data": {
      "text/plain": [
       "0.5783333333333334"
      ]
     },
     "execution_count": 223,
     "metadata": {},
     "output_type": "execute_result"
    }
   ],
   "source": [
    "################## Engineered Features #####################\n",
    "nn_eng = MLPClassifier(solver='lbfgs', alpha=1e-5,activation='tanh', hidden_layer_sizes=(64, 2),random_state=5)\n",
    "nn_eng.fit(X_train_6, y_train)\n",
    "y_pred_nn_eng = nn_eng.predict(X_test_6)\n",
    "acc_nn_eng=accuracy_score(y_test, y_pred_nn_eng)\n",
    "acc_nn_eng"
   ]
  },
  {
   "cell_type": "code",
   "execution_count": 281,
   "metadata": {},
   "outputs": [
    {
     "name": "stdout",
     "output_type": "stream",
     "text": [
      "Neural Network with feature engineering  0.5783333333333334\n"
     ]
    }
   ],
   "source": [
    "print('Neural Network with feature engineering ',acc_nn_eng)"
   ]
  },
  {
   "cell_type": "code",
   "execution_count": 224,
   "metadata": {
    "colab": {
     "base_uri": "https://localhost:8080/",
     "height": 279
    },
    "colab_type": "code",
    "id": "O2v5Fv90UTUX",
    "outputId": "764bf3ba-ae6b-4163-ecc1-e06a572cbf02"
   },
   "outputs": [
    {
     "data": {
      "image/png": "[encoded data removed]",
      "text/plain": [
       "<Figure size 432x288 with 1 Axes>"
      ]
     },
     "metadata": {
      "needs_background": "light"
     },
     "output_type": "display_data"
    }
   ],
   "source": [
    "cf_nn_eng=confusion_matrix(y_test, y_pred_nn_eng)\n",
    "fig, ax = plot_confusion_matrix(conf_mat=cf_nn_eng)\n",
    "############ Neural Network: Ends ######################"
   ]
  },
  {
   "cell_type": "code",
   "execution_count": null,
   "metadata": {
    "colab": {},
    "colab_type": "code",
    "id": "KeLzzbvXUTUj"
   },
   "outputs": [],
   "source": []
  },
  {
   "cell_type": "code",
   "execution_count": 283,
   "metadata": {
    "colab": {
     "base_uri": "https://localhost:8080/",
     "height": 36
    },
    "colab_type": "code",
    "id": "4zhdLAGJUTUk",
    "outputId": "f485beec-730e-4944-f1f4-e756ae07dea3"
   },
   "outputs": [
    {
     "data": {
      "text/plain": [
       "0.805"
      ]
     },
     "execution_count": 283,
     "metadata": {},
     "output_type": "execute_result"
    }
   ],
   "source": [
    "############ Decision Tree: Starts ######################\n",
    "from sklearn import tree\n",
    "import graphviz\n",
    "############ Original Features ######################\n",
    "clf_orig = tree.DecisionTreeClassifier(max_depth=6,random_state=5)\n",
    "clf_orig.fit(X_train, y_train)\n",
    "y_pred_dt_orig = clf_orig.predict(X_test)\n",
    "acc_dt_orig=accuracy_score(y_test, y_pred_dt_orig)\n",
    "acc_dt_orig"
   ]
  },
  {
   "cell_type": "code",
   "execution_count": 284,
   "metadata": {},
   "outputs": [
    {
     "name": "stdout",
     "output_type": "stream",
     "text": [
      "Decision Tree with original dataset  0.805\n"
     ]
    }
   ],
   "source": [
    "print('Decision Tree with original dataset ',acc_dt_orig)"
   ]
  },
  {
   "cell_type": "code",
   "execution_count": 226,
   "metadata": {
    "colab": {
     "base_uri": "https://localhost:8080/",
     "height": 279
    },
    "colab_type": "code",
    "id": "sWW_UbiaUTUm",
    "outputId": "884deee7-d122-4d18-e85c-53be145ce571"
   },
   "outputs": [
    {
     "data": {
      "image/png": "[encoded data removed]",
      "text/plain": [
       "<Figure size 432x288 with 1 Axes>"
      ]
     },
     "metadata": {
      "needs_background": "light"
     },
     "output_type": "display_data"
    }
   ],
   "source": [
    "cf_dt_orig=confusion_matrix(y_test, y_pred_dt_orig)\n",
    "fig, ax = plot_confusion_matrix(conf_mat=cf_dt_orig)"
   ]
  },
  {
   "cell_type": "code",
   "execution_count": 227,
   "metadata": {
    "colab": {},
    "colab_type": "code",
    "id": "CnoRY8KcUTUo"
   },
   "outputs": [],
   "source": [
    "columns=list(X_train.columns)\n",
    "# tree.plot_tree(clf_orig,feature_names =columns)"
   ]
  },
  {
   "cell_type": "code",
   "execution_count": 286,
   "metadata": {
    "colab": {
     "base_uri": "https://localhost:8080/",
     "height": 36
    },
    "colab_type": "code",
    "id": "UVN-SSx6UTUq",
    "outputId": "c9a162e1-368f-4766-8d99-de0775b51f41"
   },
   "outputs": [
    {
     "data": {
      "text/plain": [
       "0.7783333333333333"
      ]
     },
     "execution_count": 286,
     "metadata": {},
     "output_type": "execute_result"
    }
   ],
   "source": [
    "############ Selected Features ######################\n",
    "clf_sel = tree.DecisionTreeClassifier(max_depth=6,random_state=5)\n",
    "clf_sel.fit(X_train_sp, y_train)\n",
    "y_pred_dt_sel = clf_sel.predict(X_test_sp)\n",
    "\n",
    "acc_dt_sel=accuracy_score(y_test, y_pred_dt_sel)\n",
    "acc_dt_sel"
   ]
  },
  {
   "cell_type": "code",
   "execution_count": 288,
   "metadata": {},
   "outputs": [
    {
     "name": "stdout",
     "output_type": "stream",
     "text": [
      "Decision Tree with feature selection  0.7783333333333333\n"
     ]
    }
   ],
   "source": [
    "print('Decision Tree with feature selection ',acc_dt_sel)"
   ]
  },
  {
   "cell_type": "code",
   "execution_count": 289,
   "metadata": {
    "colab": {
     "base_uri": "https://localhost:8080/",
     "height": 279
    },
    "colab_type": "code",
    "id": "cNGl7fXCUTUs",
    "outputId": "ae9e357b-8774-4cac-9f3e-869a235eb2e4"
   },
   "outputs": [
    {
     "data": {
      "image/png": "[encoded data removed]",
      "text/plain": [
       "<Figure size 432x288 with 1 Axes>"
      ]
     },
     "metadata": {
      "needs_background": "light"
     },
     "output_type": "display_data"
    }
   ],
   "source": [
    "cf_dt_sel=confusion_matrix(y_test, y_pred_dt_sel)\n",
    "fig, ax = plot_confusion_matrix(conf_mat=cf_dt_sel)"
   ]
  },
  {
   "cell_type": "code",
   "execution_count": 230,
   "metadata": {
    "colab": {},
    "colab_type": "code",
    "id": "_tlXDF9ZUTUt"
   },
   "outputs": [],
   "source": [
    "# columns_1=list(X_train_pca.columns)\n",
    "\n",
    "# tree.plot_tree(clf_sel,feature_names =columns_1)"
   ]
  },
  {
   "cell_type": "code",
   "execution_count": 231,
   "metadata": {
    "colab": {
     "base_uri": "https://localhost:8080/",
     "height": 36
    },
    "colab_type": "code",
    "id": "ztSBvFDqQa0J",
    "outputId": "d6bb82c3-c5ae-4db7-9e9b-b03e32265650"
   },
   "outputs": [
    {
     "data": {
      "text/plain": [
       "0.805"
      ]
     },
     "execution_count": 231,
     "metadata": {},
     "output_type": "execute_result"
    }
   ],
   "source": [
    "############ PCA Features ######################\n",
    "clf_pca = tree.DecisionTreeClassifier(max_depth=None,random_state=5)\n",
    "clf_pca.fit(X_train_pca, y_train)\n",
    "y_pred_dt_pca = clf_pca.predict(X_test_pca)\n",
    "\n",
    "acc_dt_pca=accuracy_score(y_test, y_pred_dt_pca)\n",
    "acc_dt_pca"
   ]
  },
  {
   "cell_type": "code",
   "execution_count": 290,
   "metadata": {},
   "outputs": [
    {
     "name": "stdout",
     "output_type": "stream",
     "text": [
      "Decision Tree with PCA features  0.805\n"
     ]
    }
   ],
   "source": [
    "print('Decision Tree with PCA features ',acc_dt_pca)"
   ]
  },
  {
   "cell_type": "code",
   "execution_count": 232,
   "metadata": {
    "colab": {
     "base_uri": "https://localhost:8080/",
     "height": 279
    },
    "colab_type": "code",
    "id": "OJV0TotQQa0J",
    "outputId": "d48ae222-200c-45b5-cfa5-398316677ab4"
   },
   "outputs": [
    {
     "data": {
      "image/png": "[encoded data removed]",
      "text/plain": [
       "<Figure size 432x288 with 1 Axes>"
      ]
     },
     "metadata": {
      "needs_background": "light"
     },
     "output_type": "display_data"
    }
   ],
   "source": [
    "cf_dt_pca=confusion_matrix(y_test, y_pred_dt_pca)\n",
    "fig, ax = plot_confusion_matrix(conf_mat=cf_dt_pca)"
   ]
  },
  {
   "cell_type": "code",
   "execution_count": 233,
   "metadata": {
    "colab": {
     "base_uri": "https://localhost:8080/",
     "height": 36
    },
    "colab_type": "code",
    "id": "t2OhYPsXQa0K",
    "outputId": "46298abb-17dd-4066-c848-2fef7e355163"
   },
   "outputs": [
    {
     "data": {
      "text/plain": [
       "0.8"
      ]
     },
     "execution_count": 233,
     "metadata": {},
     "output_type": "execute_result"
    }
   ],
   "source": [
    "############ Engineered Features ######################\n",
    "clf_eng = tree.DecisionTreeClassifier(max_depth=6,random_state=5)\n",
    "clf_eng.fit(X_train_fe, y_train)\n",
    "y_pred_dt_eng = clf_eng.predict(X_test_fe)\n",
    "\n",
    "acc_dt_eng=accuracy_score(y_test, y_pred_dt_eng)\n",
    "acc_dt_eng"
   ]
  },
  {
   "cell_type": "code",
   "execution_count": 291,
   "metadata": {},
   "outputs": [
    {
     "name": "stdout",
     "output_type": "stream",
     "text": [
      "Decision Tree with feature engineering  0.8\n"
     ]
    }
   ],
   "source": [
    "print('Decision Tree with feature engineering ',acc_dt_eng)"
   ]
  },
  {
   "cell_type": "code",
   "execution_count": 234,
   "metadata": {
    "colab": {
     "base_uri": "https://localhost:8080/",
     "height": 279
    },
    "colab_type": "code",
    "id": "7NKEpHcpQa0L",
    "outputId": "1acd51a9-8024-4e8e-e903-95756f4397f4"
   },
   "outputs": [
    {
     "data": {
      "image/png": "[encoded data removed]",
      "text/plain": [
       "<Figure size 432x288 with 1 Axes>"
      ]
     },
     "metadata": {
      "needs_background": "light"
     },
     "output_type": "display_data"
    }
   ],
   "source": [
    "cf_dt_eng=confusion_matrix(y_test, y_pred_dt_eng)\n",
    "fig, ax = plot_confusion_matrix(conf_mat=cf_dt_eng)"
   ]
  },
  {
   "cell_type": "code",
   "execution_count": 235,
   "metadata": {
    "colab": {},
    "colab_type": "code",
    "id": "ushudQZ3UTUv"
   },
   "outputs": [],
   "source": [
    "############ Decision Tree: Ends ######################\n",
    "############ Random Forest : Starts ######################"
   ]
  },
  {
   "cell_type": "code",
   "execution_count": 236,
   "metadata": {
    "colab": {},
    "colab_type": "code",
    "id": "GkUQDxSRUTUx"
   },
   "outputs": [],
   "source": [
    "from sklearn.ensemble import RandomForestClassifier\n",
    "from sklearn.model_selection import RandomizedSearchCV"
   ]
  },
  {
   "cell_type": "code",
   "execution_count": 237,
   "metadata": {
    "colab": {},
    "colab_type": "code",
    "id": "5G2wGAh4UTUy"
   },
   "outputs": [],
   "source": [
    "rf_dist={'max_depth':[3,5,10,None],\n",
    "              'n_estimators':[10,100,200,300,400],\n",
    "#               'max_features':[2,3],\n",
    "               'criterion':['gini','entropy'],\n",
    "               'bootstrap':[True,False],\n",
    "               'min_samples_leaf':[2,3],\n",
    "           'min_samples_split':[2,4]\n",
    "              }\n"
   ]
  },
  {
   "cell_type": "code",
   "execution_count": 238,
   "metadata": {
    "colab": {
     "base_uri": "https://localhost:8080/",
     "height": 36
    },
    "colab_type": "code",
    "id": "5zppEY_vUTU0",
    "outputId": "f80e03f4-a7e5-4b73-dc98-16df79742914"
   },
   "outputs": [
    {
     "data": {
      "text/plain": [
       "0.7333333333333333"
      ]
     },
     "execution_count": 238,
     "metadata": {},
     "output_type": "execute_result"
    }
   ],
   "source": [
    "############ Original Features with Randomized Search  ######################\n",
    "rf_orig=RandomForestClassifier()\n",
    "random_search_orig = RandomizedSearchCV(rf_orig, param_distributions=rf_dist,\n",
    "                                   n_iter=5, cv=5, iid=False)\n",
    "random_search_orig.fit(X=X_train, y=y_train)\n",
    "y_pred_rf_orig=random_search_orig.predict(X_test)\n",
    "acc_rf_orig=accuracy_score(y_test, y_pred_rf_orig)\n",
    "acc_rf_orig"
   ]
  },
  {
   "cell_type": "code",
   "execution_count": 292,
   "metadata": {},
   "outputs": [
    {
     "name": "stdout",
     "output_type": "stream",
     "text": [
      "Random Forest with original dataset  0.7333333333333333\n"
     ]
    }
   ],
   "source": [
    "print('Random Forest with original dataset ',acc_rf_orig)"
   ]
  },
  {
   "cell_type": "code",
   "execution_count": 239,
   "metadata": {
    "colab": {
     "base_uri": "https://localhost:8080/",
     "height": 279
    },
    "colab_type": "code",
    "id": "ev-N0HBPUTU1",
    "outputId": "901af36e-3da4-4e3d-ab6a-c057761809b9"
   },
   "outputs": [
    {
     "data": {
      "image/png": "[encoded data removed]",
      "text/plain": [
       "<Figure size 432x288 with 1 Axes>"
      ]
     },
     "metadata": {
      "needs_background": "light"
     },
     "output_type": "display_data"
    }
   ],
   "source": [
    "cf_rf_orig=confusion_matrix(y_test, y_pred_rf_orig)\n",
    "fig, ax = plot_confusion_matrix(conf_mat=cf_rf_orig)"
   ]
  },
  {
   "cell_type": "code",
   "execution_count": null,
   "metadata": {
    "colab": {},
    "colab_type": "code",
    "id": "qRBNFHKhUTU3"
   },
   "outputs": [],
   "source": []
  },
  {
   "cell_type": "code",
   "execution_count": null,
   "metadata": {
    "colab": {},
    "colab_type": "code",
    "id": "dafLVk-2UTU5"
   },
   "outputs": [],
   "source": []
  },
  {
   "cell_type": "code",
   "execution_count": 240,
   "metadata": {
    "colab": {
     "base_uri": "https://localhost:8080/",
     "height": 36
    },
    "colab_type": "code",
    "id": "_2F62GZsUTU7",
    "outputId": "4f0a1f69-f312-437b-c6bb-2cad033f494f"
   },
   "outputs": [
    {
     "data": {
      "text/plain": [
       "0.7433333333333333"
      ]
     },
     "execution_count": 240,
     "metadata": {},
     "output_type": "execute_result"
    }
   ],
   "source": [
    "############ Selected Features with Randomized Search  ######################\n",
    "rf_sel=RandomForestClassifier()\n",
    "random_search_sel = RandomizedSearchCV(rf_sel, param_distributions=rf_dist,\n",
    "                                   n_iter=5, cv=5, iid=False,random_state=1)\n",
    "random_search_sel.fit(X=X_train_sp, y=y_train)\n",
    "y_pred_rf_sel=random_search_sel.predict(X_test_sp)\n",
    "acc_rf_sel=accuracy_score(y_test, y_pred_rf_sel)\n",
    "acc_rf_sel"
   ]
  },
  {
   "cell_type": "code",
   "execution_count": 293,
   "metadata": {},
   "outputs": [
    {
     "name": "stdout",
     "output_type": "stream",
     "text": [
      "Random Forest with feature selection  0.7433333333333333\n"
     ]
    }
   ],
   "source": [
    "print('Random Forest with feature selection ',acc_rf_sel)"
   ]
  },
  {
   "cell_type": "code",
   "execution_count": 241,
   "metadata": {
    "colab": {
     "base_uri": "https://localhost:8080/",
     "height": 279
    },
    "colab_type": "code",
    "id": "1u6yCtISUTU_",
    "outputId": "a86a5025-7adc-4e51-f757-cd9f5913ec5f"
   },
   "outputs": [
    {
     "data": {
      "image/png": "[encoded data removed]",
      "text/plain": [
       "<Figure size 432x288 with 1 Axes>"
      ]
     },
     "metadata": {
      "needs_background": "light"
     },
     "output_type": "display_data"
    }
   ],
   "source": [
    "cf_rf_sel=confusion_matrix(y_test, y_pred_rf_sel)\n",
    "fig, ax = plot_confusion_matrix(conf_mat=cf_rf_sel)\n"
   ]
  },
  {
   "cell_type": "code",
   "execution_count": null,
   "metadata": {
    "colab": {},
    "colab_type": "code",
    "id": "eR_MAA-QQa0Z"
   },
   "outputs": [],
   "source": []
  },
  {
   "cell_type": "code",
   "execution_count": 242,
   "metadata": {
    "colab": {
     "base_uri": "https://localhost:8080/",
     "height": 36
    },
    "colab_type": "code",
    "id": "4zFg75upQa0a",
    "outputId": "8da9331e-bd12-4328-9f80-8121d21107fc"
   },
   "outputs": [
    {
     "data": {
      "text/plain": [
       "0.8833333333333333"
      ]
     },
     "execution_count": 242,
     "metadata": {},
     "output_type": "execute_result"
    }
   ],
   "source": [
    "############ PCA with Randomized Search  ######################\n",
    "rf_pca=RandomForestClassifier()\n",
    "random_search_pca = RandomizedSearchCV(rf_pca, param_distributions=rf_dist,\n",
    "                                   n_iter=5, cv=5, iid=False,random_state=1)\n",
    "random_search_pca.fit(X=X_train_pca, y=y_train)\n",
    "y_pred_rf_pca=random_search_pca.predict(X_test_pca)\n",
    "acc_rf_pca=accuracy_score(y_test, y_pred_rf_pca)\n",
    "acc_rf_pca"
   ]
  },
  {
   "cell_type": "code",
   "execution_count": 294,
   "metadata": {},
   "outputs": [
    {
     "name": "stdout",
     "output_type": "stream",
     "text": [
      "Random Forest with PCA features  0.8833333333333333\n"
     ]
    }
   ],
   "source": [
    "print('Random Forest with PCA features ',acc_rf_pca)"
   ]
  },
  {
   "cell_type": "code",
   "execution_count": 243,
   "metadata": {
    "colab": {
     "base_uri": "https://localhost:8080/",
     "height": 279
    },
    "colab_type": "code",
    "id": "eE4nhK66Qa0b",
    "outputId": "5e6190a1-75e1-4be6-8d3f-58f0d4c2d8ec"
   },
   "outputs": [
    {
     "data": {
      "image/png": "[encoded data removed]",
      "text/plain": [
       "<Figure size 432x288 with 1 Axes>"
      ]
     },
     "metadata": {
      "needs_background": "light"
     },
     "output_type": "display_data"
    }
   ],
   "source": [
    "cf_rf_pca=confusion_matrix(y_test, y_pred_rf_pca)\n",
    "fig, ax = plot_confusion_matrix(conf_mat=cf_rf_pca)"
   ]
  },
  {
   "cell_type": "code",
   "execution_count": null,
   "metadata": {
    "colab": {},
    "colab_type": "code",
    "id": "ZpPEPtLvQa0d"
   },
   "outputs": [],
   "source": []
  },
  {
   "cell_type": "code",
   "execution_count": 244,
   "metadata": {
    "colab": {
     "base_uri": "https://localhost:8080/",
     "height": 36
    },
    "colab_type": "code",
    "id": "Zfh1k1TTQa0d",
    "outputId": "d1800191-9b2f-40fc-b172-7e6a5a90dd6c"
   },
   "outputs": [
    {
     "data": {
      "text/plain": [
       "0.735"
      ]
     },
     "execution_count": 244,
     "metadata": {},
     "output_type": "execute_result"
    }
   ],
   "source": [
    "############ Engineered Features with Randomized Search  ######################\n",
    "rf_eng=RandomForestClassifier()\n",
    "random_search_eng = RandomizedSearchCV(rf_eng, param_distributions=rf_dist,\n",
    "                                   n_iter=5, cv=5, iid=False,random_state=0)\n",
    "random_search_eng.fit(X=X_train_fe, y=y_train)\n",
    "y_pred_rf_eng=random_search_eng.predict(X_test_fe)\n",
    "acc_rf_eng=accuracy_score(y_test, y_pred_rf_eng)\n",
    "acc_rf_eng"
   ]
  },
  {
   "cell_type": "code",
   "execution_count": 295,
   "metadata": {},
   "outputs": [
    {
     "name": "stdout",
     "output_type": "stream",
     "text": [
      "Random Forest with feature engineering  0.735\n"
     ]
    }
   ],
   "source": [
    "print('Random Forest with feature engineering ',acc_rf_eng)"
   ]
  },
  {
   "cell_type": "code",
   "execution_count": 245,
   "metadata": {
    "colab": {
     "base_uri": "https://localhost:8080/",
     "height": 279
    },
    "colab_type": "code",
    "id": "NTnt81TGQa0f",
    "outputId": "c0b2be8f-1ddc-418e-8e64-d107eea510b5"
   },
   "outputs": [
    {
     "data": {
      "image/png": "[encoded data removed]",
      "text/plain": [
       "<Figure size 432x288 with 1 Axes>"
      ]
     },
     "metadata": {
      "needs_background": "light"
     },
     "output_type": "display_data"
    }
   ],
   "source": [
    "cf_rf_eng=confusion_matrix(y_test, y_pred_rf_eng)\n",
    "fig, ax = plot_confusion_matrix(conf_mat=cf_rf_eng)"
   ]
  },
  {
   "cell_type": "code",
   "execution_count": 246,
   "metadata": {
    "colab": {},
    "colab_type": "code",
    "id": "2Yx26HydQa0f"
   },
   "outputs": [],
   "source": [
    "############ Random Forest : Ends ######################"
   ]
  },
  {
   "cell_type": "code",
   "execution_count": 247,
   "metadata": {
    "colab": {},
    "colab_type": "code",
    "id": "Ak_isJlKUTVA"
   },
   "outputs": [],
   "source": [
    "############ SVC/SVM: Starts ######################\n",
    "from sklearn.model_selection import GridSearchCV\n",
    "from sklearn.svm import SVC"
   ]
  },
  {
   "cell_type": "code",
   "execution_count": 248,
   "metadata": {},
   "outputs": [
    {
     "data": {
      "text/plain": [
       "0.6466666666666666"
      ]
     },
     "execution_count": 248,
     "metadata": {},
     "output_type": "execute_result"
    }
   ],
   "source": [
    "############## Original Features ################\n",
    "svc_orig = SVC(kernel='poly',degree=6,gamma='scale')\n",
    "svc_orig.fit(X=X_train, y=y_train)\n",
    "y_pred_svc_orig=svc_orig.predict(X_test)\n",
    "acc_svc_orig=accuracy_score(y_test, y_pred_svc_orig)\n",
    "acc_svc_orig"
   ]
  },
  {
   "cell_type": "code",
   "execution_count": 296,
   "metadata": {},
   "outputs": [
    {
     "name": "stdout",
     "output_type": "stream",
     "text": [
      "Support Vector Classifier with original dataset  0.6466666666666666\n"
     ]
    }
   ],
   "source": [
    "print('Support Vector Classifier with original dataset ',acc_svc_orig)"
   ]
  },
  {
   "cell_type": "code",
   "execution_count": 249,
   "metadata": {},
   "outputs": [
    {
     "data": {
      "image/png": "[encoded data removed]",
      "text/plain": [
       "<Figure size 432x288 with 1 Axes>"
      ]
     },
     "metadata": {
      "needs_background": "light"
     },
     "output_type": "display_data"
    }
   ],
   "source": [
    "cf_svc_orig=confusion_matrix(y_test, y_pred_svc_orig)\n",
    "fig, ax = plot_confusion_matrix(conf_mat=cf_svc_orig)"
   ]
  },
  {
   "cell_type": "code",
   "execution_count": 250,
   "metadata": {},
   "outputs": [
    {
     "data": {
      "text/plain": [
       "0.6966666666666667"
      ]
     },
     "execution_count": 250,
     "metadata": {},
     "output_type": "execute_result"
    }
   ],
   "source": [
    "############## Feature Selection ################\n",
    "svc_sel = SVC(kernel='rbf',gamma='scale')\n",
    "svc_sel.fit(X=X_train_sp, y=y_train)\n",
    "y_pred_svc_sel=svc_sel.predict(X_test_sp)\n",
    "acc_svc_sel=accuracy_score(y_test, y_pred_svc_sel)\n",
    "acc_svc_sel"
   ]
  },
  {
   "cell_type": "code",
   "execution_count": 297,
   "metadata": {},
   "outputs": [
    {
     "name": "stdout",
     "output_type": "stream",
     "text": [
      "Support Vector Classifier with feature selection  0.6966666666666667\n"
     ]
    }
   ],
   "source": [
    "print('Support Vector Classifier with feature selection ',acc_svc_sel)"
   ]
  },
  {
   "cell_type": "code",
   "execution_count": 251,
   "metadata": {},
   "outputs": [
    {
     "data": {
      "image/png": "[encoded data removed]",
      "text/plain": [
       "<Figure size 432x288 with 1 Axes>"
      ]
     },
     "metadata": {
      "needs_background": "light"
     },
     "output_type": "display_data"
    }
   ],
   "source": [
    "cf_svc_sel=confusion_matrix(y_test, y_pred_svc_sel)\n",
    "fig, ax = plot_confusion_matrix(conf_mat=cf_svc_sel)"
   ]
  },
  {
   "cell_type": "code",
   "execution_count": 252,
   "metadata": {},
   "outputs": [
    {
     "data": {
      "text/plain": [
       "0.885"
      ]
     },
     "execution_count": 252,
     "metadata": {},
     "output_type": "execute_result"
    }
   ],
   "source": [
    "############## PCA Features ################\n",
    "svc_pca = SVC(C=100,kernel='rbf',gamma='scale')\n",
    "svc_pca.fit(X=X_train_pca, y=y_train)\n",
    "y_pred_svc_pca=svc_pca.predict(X_test_pca)\n",
    "acc_svc_pca=accuracy_score(y_test, y_pred_svc_pca)\n",
    "acc_svc_pca"
   ]
  },
  {
   "cell_type": "code",
   "execution_count": 298,
   "metadata": {},
   "outputs": [
    {
     "name": "stdout",
     "output_type": "stream",
     "text": [
      "Support Vector Classifier with PCA features  0.885\n"
     ]
    }
   ],
   "source": [
    "print('Support Vector Classifier with PCA features ',acc_svc_pca)"
   ]
  },
  {
   "cell_type": "code",
   "execution_count": 253,
   "metadata": {},
   "outputs": [
    {
     "data": {
      "image/png": "[encoded data removed]",
      "text/plain": [
       "<Figure size 432x288 with 1 Axes>"
      ]
     },
     "metadata": {
      "needs_background": "light"
     },
     "output_type": "display_data"
    }
   ],
   "source": [
    "cf_svc_pca=confusion_matrix(y_test, y_pred_svc_pca)\n",
    "fig, ax = plot_confusion_matrix(conf_mat=cf_svc_pca)"
   ]
  },
  {
   "cell_type": "code",
   "execution_count": 254,
   "metadata": {},
   "outputs": [
    {
     "data": {
      "text/plain": [
       "0.7233333333333334"
      ]
     },
     "execution_count": 254,
     "metadata": {},
     "output_type": "execute_result"
    }
   ],
   "source": [
    "############## Feature Engineering ################\n",
    "svc_eng = SVC(C=10,kernel='rbf',gamma='scale')\n",
    "svc_eng.fit(X=X_train_fe, y=y_train)\n",
    "y_pred_svc_eng=svc_eng.predict(X_test_fe)\n",
    "acc_svc_eng=accuracy_score(y_test, y_pred_svc_eng)\n",
    "acc_svc_eng"
   ]
  },
  {
   "cell_type": "code",
   "execution_count": 299,
   "metadata": {},
   "outputs": [
    {
     "name": "stdout",
     "output_type": "stream",
     "text": [
      "Support Vector Classifier with feature engineering  0.7233333333333334\n"
     ]
    }
   ],
   "source": [
    "print('Support Vector Classifier with feature engineering ',acc_svc_eng)"
   ]
  },
  {
   "cell_type": "code",
   "execution_count": 255,
   "metadata": {},
   "outputs": [
    {
     "data": {
      "image/png": "[encoded data removed]",
      "text/plain": [
       "<Figure size 432x288 with 1 Axes>"
      ]
     },
     "metadata": {
      "needs_background": "light"
     },
     "output_type": "display_data"
    }
   ],
   "source": [
    "cf_svc_eng=confusion_matrix(y_test, y_pred_svc_eng)\n",
    "fig, ax = plot_confusion_matrix(conf_mat=cf_svc_eng)"
   ]
  },
  {
   "cell_type": "code",
   "execution_count": 266,
   "metadata": {
    "colab": {},
    "colab_type": "code",
    "id": "NK1R0UugQa0r"
   },
   "outputs": [],
   "source": [
    "############ SVC/SVM: Ends ######################"
   ]
  },
  {
   "cell_type": "code",
   "execution_count": null,
   "metadata": {
    "colab": {},
    "colab_type": "code",
    "id": "RTBh4H2ZVTBA"
   },
   "outputs": [],
   "source": []
  },
  {
   "cell_type": "code",
   "execution_count": null,
   "metadata": {},
   "outputs": [],
   "source": []
  },
  {
   "cell_type": "code",
   "execution_count": 267,
   "metadata": {
    "colab": {
     "base_uri": "https://localhost:8080/",
     "height": 36
    },
    "colab_type": "code",
    "id": "bnzfxdS3UTUZ",
    "outputId": "5f4fd1e0-e5d6-429c-8442-c4041f0390b6"
   },
   "outputs": [
    {
     "data": {
      "text/plain": [
       "0.755"
      ]
     },
     "execution_count": 267,
     "metadata": {},
     "output_type": "execute_result"
    }
   ],
   "source": [
    "############ K Nearest Neighbors: Starts ######################\n",
    "################## Original Features #####################\n",
    "from sklearn.neighbors import KNeighborsClassifier\n",
    "\n",
    "nbrs_orig = KNeighborsClassifier(n_neighbors=20, algorithm='auto')\n",
    "nbrs_orig.fit(X_train, y_train)\n",
    "y_pred_nbrs_orig = nbrs_orig.predict(X_test)\n",
    "acc_nbrs_orig=accuracy_score(y_test, y_pred_nbrs_orig)\n",
    "acc_nbrs_orig"
   ]
  },
  {
   "cell_type": "code",
   "execution_count": 301,
   "metadata": {},
   "outputs": [
    {
     "name": "stdout",
     "output_type": "stream",
     "text": [
      "K Nearest Neighbors with original dataset  0.755\n"
     ]
    }
   ],
   "source": [
    "print('K Nearest Neighbors with original dataset ',acc_nbrs_orig)"
   ]
  },
  {
   "cell_type": "code",
   "execution_count": 268,
   "metadata": {
    "colab": {
     "base_uri": "https://localhost:8080/",
     "height": 279
    },
    "colab_type": "code",
    "id": "q4cWY5J_UTUa",
    "outputId": "74b61f3c-f417-44d5-9288-3dd115c06e82"
   },
   "outputs": [
    {
     "data": {
      "image/png": "[encoded data removed]",
      "text/plain": [
       "<Figure size 432x288 with 1 Axes>"
      ]
     },
     "metadata": {
      "needs_background": "light"
     },
     "output_type": "display_data"
    }
   ],
   "source": [
    "cf_svc_nbrs_orig=confusion_matrix(y_test, y_pred_nbrs_orig)\n",
    "fig, ax = plot_confusion_matrix(conf_mat=cf_svc_nbrs_orig)"
   ]
  },
  {
   "cell_type": "code",
   "execution_count": 269,
   "metadata": {
    "colab": {
     "base_uri": "https://localhost:8080/",
     "height": 36
    },
    "colab_type": "code",
    "id": "R0nZddoYUTUe",
    "outputId": "10581005-6748-4201-ad0a-16727c4fedde"
   },
   "outputs": [
    {
     "data": {
      "text/plain": [
       "0.7433333333333333"
      ]
     },
     "execution_count": 269,
     "metadata": {},
     "output_type": "execute_result"
    }
   ],
   "source": [
    "################## Selected Features #####################\n",
    "nbrs_sel = KNeighborsClassifier(n_neighbors=20, algorithm='auto')\n",
    "nbrs_sel.fit(X_train_sp, y_train)\n",
    "y_pred_nbrs_sel = nbrs_sel.predict(X_test_sp)\n",
    "acc_nbrs_sel=accuracy_score(y_test, y_pred_nbrs_sel)\n",
    "acc_nbrs_sel"
   ]
  },
  {
   "cell_type": "code",
   "execution_count": 303,
   "metadata": {},
   "outputs": [
    {
     "name": "stdout",
     "output_type": "stream",
     "text": [
      "K Nearest Neighbors with feature selection  0.7433333333333333\n"
     ]
    }
   ],
   "source": [
    "print('K Nearest Neighbors with feature selection ',acc_nbrs_sel)"
   ]
  },
  {
   "cell_type": "code",
   "execution_count": 270,
   "metadata": {
    "colab": {
     "base_uri": "https://localhost:8080/",
     "height": 279
    },
    "colab_type": "code",
    "id": "PRjDAbpXUTUg",
    "outputId": "82bbb25b-7bb0-4c41-ba20-4882efd93001"
   },
   "outputs": [
    {
     "data": {
      "image/png": "[encoded data removed]",
      "text/plain": [
       "<Figure size 432x288 with 1 Axes>"
      ]
     },
     "metadata": {
      "needs_background": "light"
     },
     "output_type": "display_data"
    }
   ],
   "source": [
    "cf_nbrs_sel=confusion_matrix(y_test, y_pred_nbrs_sel)\n",
    "fig, ax = plot_confusion_matrix(conf_mat=cf_nbrs_sel)"
   ]
  },
  {
   "cell_type": "code",
   "execution_count": 271,
   "metadata": {
    "colab": {
     "base_uri": "https://localhost:8080/",
     "height": 36
    },
    "colab_type": "code",
    "id": "2bysnzFPQaz2",
    "outputId": "07517f2f-ed30-48d0-a0d7-463a3dc988d2"
   },
   "outputs": [
    {
     "data": {
      "text/plain": [
       "0.8766666666666667"
      ]
     },
     "execution_count": 271,
     "metadata": {},
     "output_type": "execute_result"
    }
   ],
   "source": [
    "################## PCA Features #####################\n",
    "nbrs_pca = KNeighborsClassifier(n_neighbors=20, algorithm='auto')\n",
    "nbrs_pca.fit(X_train_pca, y_train)\n",
    "y_pred_nbrs_pca = nbrs_pca.predict(X_test_pca)\n",
    "acc_nbrs_pca=accuracy_score(y_test, y_pred_nbrs_pca)\n",
    "acc_nbrs_pca"
   ]
  },
  {
   "cell_type": "code",
   "execution_count": 304,
   "metadata": {},
   "outputs": [
    {
     "name": "stdout",
     "output_type": "stream",
     "text": [
      "K Nearest Neighbors PCA features  0.8766666666666667\n"
     ]
    }
   ],
   "source": [
    "print('K Nearest Neighbors PCA features ',acc_nbrs_pca)"
   ]
  },
  {
   "cell_type": "code",
   "execution_count": 272,
   "metadata": {
    "colab": {
     "base_uri": "https://localhost:8080/",
     "height": 279
    },
    "colab_type": "code",
    "id": "3wtfMODiQaz3",
    "outputId": "6a9b314f-2ef9-4490-ef3b-a3a1cc5ea40e"
   },
   "outputs": [
    {
     "data": {
      "image/png": "[encoded data removed]",
      "text/plain": [
       "<Figure size 432x288 with 1 Axes>"
      ]
     },
     "metadata": {
      "needs_background": "light"
     },
     "output_type": "display_data"
    }
   ],
   "source": [
    "cf_nbrs_pca=confusion_matrix(y_test, y_pred_nbrs_pca)\n",
    "fig, ax = plot_confusion_matrix(conf_mat=cf_nbrs_pca)"
   ]
  },
  {
   "cell_type": "code",
   "execution_count": 273,
   "metadata": {
    "colab": {
     "base_uri": "https://localhost:8080/",
     "height": 36
    },
    "colab_type": "code",
    "id": "jBxCoHiJQaz6",
    "outputId": "798baf5c-c685-457b-e525-5fcfb01d0849"
   },
   "outputs": [
    {
     "data": {
      "text/plain": [
       "0.775"
      ]
     },
     "execution_count": 273,
     "metadata": {},
     "output_type": "execute_result"
    }
   ],
   "source": [
    "################## Engineered Features #####################\n",
    "nbrs_eng = KNeighborsClassifier(n_neighbors=20, algorithm='auto')\n",
    "nbrs_eng.fit(X_train_fe, y_train)\n",
    "y_pred_nbrs_eng = nbrs_eng.predict(X_test_fe)\n",
    "acc_nbrs_eng=accuracy_score(y_test, y_pred_nbrs_eng)\n",
    "acc_nbrs_eng"
   ]
  },
  {
   "cell_type": "code",
   "execution_count": 305,
   "metadata": {},
   "outputs": [
    {
     "name": "stdout",
     "output_type": "stream",
     "text": [
      "K Nearest Neighbors with feature engineering  0.775\n"
     ]
    }
   ],
   "source": [
    "print('K Nearest Neighbors with feature engineering ',acc_nbrs_eng)"
   ]
  },
  {
   "cell_type": "code",
   "execution_count": 274,
   "metadata": {
    "colab": {
     "base_uri": "https://localhost:8080/",
     "height": 279
    },
    "colab_type": "code",
    "id": "j4Hn9mN2Qaz9",
    "outputId": "f3aa7632-dd64-4ccf-922a-02e180694b30",
    "scrolled": false
   },
   "outputs": [
    {
     "data": {
      "image/png": "[encoded data removed]",
      "text/plain": [
       "<Figure size 432x288 with 1 Axes>"
      ]
     },
     "metadata": {
      "needs_background": "light"
     },
     "output_type": "display_data"
    }
   ],
   "source": [
    "cf_nbrs_eng=confusion_matrix(y_test, y_pred_nbrs_eng)\n",
    "fig, ax = plot_confusion_matrix(conf_mat=cf_nbrs_eng)\n",
    "############ K Nearest Neighbors: Ends ######################"
   ]
  },
  {
   "cell_type": "markdown",
   "metadata": {},
   "source": [
    "Task 4: Model building & evaluation. Train at least 4 models:\n",
    "\n",
    "K-nearest neighbors\n",
    "\n",
    "For model 4, briefly (no more than 2 paragraphs) describe how the model works."
   ]
  },
  {
   "cell_type": "markdown",
   "metadata": {},
   "source": [
    "### Answer 3 ###"
   ]
  },
  {
   "cell_type": "markdown",
   "metadata": {},
   "source": [
    "K-nearest neighbors\n",
    "\n",
    "It is a simple way to classify data. We start with train data which comprise of X_train (input data) and y_train (output data), i.e. the bins or the categories of the output. We cluster the data according to the categories. We then take a datapoint from the testing data point and try to classify it. We take a datapoint and try to figure out to which category it is most similar to and label it as belonging to that type of class. We do this by looking at the nearest datapoints, also known as nearest neighbours. This can be visualized by drawing a circle, and gradually increasing its radius to get the k nearest neighbors.\n",
    "\n",
    "If, the K in K Nearest Neighbors is equal to 1, then we are using just the nearest neighbour to classify that datapoint. It will belong to the class of that neighbour. If, the K in K Nearest Neighbors is equal to 100, and there is more than 1 category of the nearest neighbors, then we simply pick the category that gets the most votes (the most number of times appearing class).\n"
   ]
  },
  {
   "cell_type": "code",
   "execution_count": 311,
   "metadata": {},
   "outputs": [
    {
     "name": "stdout",
     "output_type": "stream",
     "text": [
      "Logistic Regression Baseline Score with Original Dataset  59.17\n",
      "Logistic Regression with feature selection  58.5\n",
      "Logistic Regression with feature engineering  58.67\n",
      "Logistic Regression with PCA features  59.33\n",
      "\n",
      "\n",
      "Neural Network Original Dataset  60.17\n",
      "Neural Network with Selected Features  63.67\n",
      "Neural Network with PCA features  74.33\n",
      "Neural Network with feature engineering  57.83\n",
      "\n",
      "\n",
      "Decision Tree with original dataset  80.5\n",
      "Decision Tree with feature selection  77.83\n",
      "Decision Tree with PCA features  80.5\n",
      "Decision Tree with feature engineering  80.0\n",
      "\n",
      "\n",
      "Random Forest with original dataset  73.33\n",
      "Random Forest with feature selection  74.33\n",
      "Random Forest with PCA features  88.33\n",
      "Random Forest with feature engineering  73.5\n",
      "\n",
      "\n",
      "Support Vector Classifier with original dataset  64.67\n",
      "Support Vector Classifier with feature selection  69.67\n",
      "Support Vector Classifier with PCA features  88.5\n",
      "Support Vector Classifier with feature engineering  72.33\n",
      "\n",
      "\n",
      "K Nearest Neighbors with original dataset  75.5\n",
      "K Nearest Neighbors with feature selection  74.33\n",
      "K Nearest Neighbors PCA features  87.67\n",
      "K Nearest Neighbors with feature engineering  77.5\n"
     ]
    }
   ],
   "source": [
    "print('Logistic Regression Baseline Score with Original Dataset ', round(score*100, 2))\n",
    "print('Logistic Regression with feature selection ', round(score_sel *100, 2))\n",
    "print('Logistic Regression with feature engineering ', round(score_eng*100, 2))\n",
    "print('Logistic Regression with PCA features ', round(score_pca *100, 2))\n",
    "\n",
    "print('\\n')\n",
    "print('Neural Network Original Dataset ',round(acc_nn_orig*100, 2))\n",
    "print('Neural Network with Selected Features ',round(acc_nn_sel*100, 2))\n",
    "print('Neural Network with PCA features ',round(acc_nn_pca*100, 2))\n",
    "print('Neural Network with feature engineering ',round(acc_nn_eng*100, 2))\n",
    "\n",
    "print('\\n')\n",
    "print('Decision Tree with original dataset ',round(acc_dt_orig*100, 2))\n",
    "print('Decision Tree with feature selection ',round(acc_dt_sel*100, 2))\n",
    "print('Decision Tree with PCA features ',round(acc_dt_pca*100, 2))\n",
    "print('Decision Tree with feature engineering ',round(acc_dt_eng*100, 2))\n",
    "\n",
    "print('\\n')\n",
    "print('Random Forest with original dataset ',round(acc_rf_orig*100, 2))\n",
    "print('Random Forest with feature selection ',round(acc_rf_sel*100, 2))\n",
    "print('Random Forest with PCA features ',round(acc_rf_pca*100, 2))\n",
    "print('Random Forest with feature engineering ',round(acc_rf_eng*100, 2))\n",
    "\n",
    "print('\\n')\n",
    "print('Support Vector Classifier with original dataset ',round(acc_svc_orig*100, 2))\n",
    "print('Support Vector Classifier with feature selection ',round(acc_svc_sel*100, 2))\n",
    "print('Support Vector Classifier with PCA features ',round(acc_svc_pca*100, 2))\n",
    "print('Support Vector Classifier with feature engineering ',round(acc_svc_eng*100, 2))\n",
    "\n",
    "print('\\n')\n",
    "print('K Nearest Neighbors with original dataset ',round(acc_nbrs_orig*100, 2))\n",
    "print('K Nearest Neighbors with feature selection ',round(acc_nbrs_sel*100, 2))\n",
    "print('K Nearest Neighbors PCA features ',round(acc_nbrs_pca*100, 2))\n",
    "print('K Nearest Neighbors with feature engineering ',round(acc_nbrs_eng*100, 2))\n"
   ]
  },
  {
   "cell_type": "code",
   "execution_count": 3,
   "metadata": {},
   "outputs": [],
   "source": [
    "# Syntax and KNN referred from sklearn\n",
    "# https://scikit-learn.org/stable/modules/generated/sklearn.feature_selection.SelectPercentile.html\n",
    "# https://scikit-learn.org/stable/modules/generated/sklearn.decomposition.PCA.html\n",
    "# https://scikit-learn.org/stable/modules/generated/sklearn.neighbors.KNeighborsClassifier.html\n",
    "# https://www.youtube.com/watch?v=HVXime0nQeI&t=207s"
   ]
  },
  {
   "cell_type": "code",
   "execution_count": 256,
   "metadata": {
    "colab": {},
    "colab_type": "code",
    "id": "PRa6UEyVUTVC"
   },
   "outputs": [],
   "source": [
    "# tuned_parameters = [{'kernel': ['rbf'], 'gamma': [1e-3, 1e-4],\n",
    "#                      'C': [1, 10, 100]},\n",
    "#                     {'kernel': ['linear'], 'C': [1, 10, 100]}]\n",
    "\n",
    "# clf_svc_sel_g = GridSearchCV(SVC(C=1), tuned_parameters,n_jobs=-1, cv=5,\n",
    "#                        scoring='f1_macro')\n",
    "# clf_svc_sel_g.fit(X=X_train_sp, y=y_train)\n",
    "\n",
    "# y_pred_svc_sel_g=clf_svc_sel_g.predict(X_test_sp)\n",
    "# acc_svc_sel_g=accuracy_score(y_test, y_pred_svc_sel_g)\n",
    "# acc_svc_sel_g\n",
    "\n",
    "\n",
    "\n",
    "\n",
    "# class sklearn.svm.SVC(C=1.0, kernel='rbf', degree=3, gamma='scale', \n",
    "#                       coef0=0.0, shrinking=True, probability=False, tol=0.001, \n",
    "#                       cache_size=200, class_weight=None, verbose=False, \n",
    "#                       max_iter=-1, decision_function_shape='ovr', break_ties=False, random_state=None)"
   ]
  },
  {
   "cell_type": "code",
   "execution_count": 257,
   "metadata": {},
   "outputs": [],
   "source": [
    "############ Original Features and RandomizedSearchCV ######################\n",
    "# tuned_parameters = {'kernel': ['rbf','poly'],'gamma': [1e-3, 1e-4,'auto'], 'C': [1, 10, 100]}\n",
    "\n",
    "# clf = SVC(gamma='auto')\n",
    "\n",
    "\n",
    "# clf_svc_orig =RandomizedSearchCV(clf, param_distributions=tuned_parameters,\n",
    "#                                    n_iter=10, cv=5, iid=False, random_state=5)\n",
    "# clf_svc_orig.fit(X=X_train, y=y_train)"
   ]
  },
  {
   "cell_type": "code",
   "execution_count": 258,
   "metadata": {},
   "outputs": [],
   "source": [
    "# y_pred_svc_orig=clf_svc_orig.predict(X_test)\n",
    "# acc_svc_orig=accuracy_score(y_test, y_pred_svc_orig)\n",
    "# acc_svc_orig"
   ]
  },
  {
   "cell_type": "code",
   "execution_count": 259,
   "metadata": {},
   "outputs": [],
   "source": [
    "# cf_svc_orig=confusion_matrix(y_test, y_pred_svc_orig)\n",
    "# fig, ax = plot_confusion_matrix(conf_mat=cf_svc_orig)"
   ]
  },
  {
   "cell_type": "code",
   "execution_count": 260,
   "metadata": {
    "colab": {},
    "colab_type": "code",
    "id": "k6ltLKV7UTVD"
   },
   "outputs": [],
   "source": [
    "############ Selected Features and RandomizedSearchCV ######################\n",
    "# tuned_parameters = {'kernel': ['rbf','poly'],'gamma': [1e-3, 1e-4,'auto'], 'C': [1, 10, 100]}\n",
    "\n",
    "# clf = SVC(gamma='auto')\n",
    "\n",
    "\n",
    "# clf_svc_sel =RandomizedSearchCV(clf, param_distributions=tuned_parameters,\n",
    "#                                    n_iter=10, cv=5, iid=False, random_state=5)\n",
    "# clf_svc_sel.fit(X=X_train_sp, y=y_train)\n",
    "\n",
    "# y_pred_svc_sel=clf_svc_sel.predict(X_test_sp)\n",
    "# acc_svc_sel=accuracy_score(y_test, y_pred_svc_sel)\n",
    "# acc_svc_sel"
   ]
  },
  {
   "cell_type": "code",
   "execution_count": 261,
   "metadata": {
    "colab": {},
    "colab_type": "code",
    "id": "9gK9gDa_UTVE"
   },
   "outputs": [],
   "source": [
    "# cf_svc_sel=confusion_matrix(y_test, y_pred_svc_sel)\n",
    "# fig, ax = plot_confusion_matrix(conf_mat=cf_svc_sel)"
   ]
  },
  {
   "cell_type": "code",
   "execution_count": 262,
   "metadata": {
    "colab": {},
    "colab_type": "code",
    "id": "eH5GmmbmUTVG"
   },
   "outputs": [],
   "source": [
    "############ PCA Features and RandomizedSearchCV ######################\n",
    "# tuned_parameters = {'kernel': ['rbf','poly'],'gamma': [1e-3, 1e-4,'auto'], 'C': [1, 10, 100]}\n",
    "\n",
    "# clf = SVC(gamma='auto')\n",
    "\n",
    "\n",
    "# clf_svc_pca =RandomizedSearchCV(clf, param_distributions=tuned_parameters,\n",
    "#                                    n_iter=10, cv=5, iid=False, random_state=5)\n",
    "# clf_svc_pca.fit(X=X_train_pca, y=y_train)\n",
    "\n",
    "# y_pred_svc_pca=clf_svc_pca.predict(X_test_pca)\n",
    "# acc_svc_pca=accuracy_score(y_test, y_pred_svc_pca)\n",
    "# acc_svc_pca"
   ]
  },
  {
   "cell_type": "code",
   "execution_count": 263,
   "metadata": {
    "colab": {},
    "colab_type": "code",
    "id": "FG36AAn_UTVH"
   },
   "outputs": [],
   "source": [
    "# cf_svc_pca=confusion_matrix(y_test, y_pred_svc_pca)\n",
    "# fig, ax = plot_confusion_matrix(conf_mat=cf_svc_pca)"
   ]
  },
  {
   "cell_type": "code",
   "execution_count": 264,
   "metadata": {
    "colab": {},
    "colab_type": "code",
    "id": "JQ9ilU7Hf_GT"
   },
   "outputs": [],
   "source": [
    "############ Engineered Features and RandomizedSearchCV ######################\n",
    "# tuned_parameters = {'kernel': ['rbf','poly'],'gamma': [1e-3, 1e-4,'auto'], 'C': [1, 10, 100]}\n",
    "\n",
    "# clf = SVC(gamma='auto')\n",
    "\n",
    "\n",
    "# clf_svc_eng =RandomizedSearchCV(clf, param_distributions=tuned_parameters,\n",
    "#                                    n_iter=10, cv=5, iid=False, random_state=5)\n",
    "# clf_svc_eng.fit(X=X_train_fe, y=y_train)\n",
    "\n",
    "# y_pred_svc_eng=clf_svc_eng.predict(X_test_fe)\n",
    "# acc_svc_eng=accuracy_score(y_test, y_pred_svc_eng)\n",
    "# acc_svc_eng"
   ]
  },
  {
   "cell_type": "code",
   "execution_count": 265,
   "metadata": {
    "colab": {},
    "colab_type": "code",
    "id": "ZcL-5ZKlUTVJ"
   },
   "outputs": [],
   "source": [
    "# cf_svc_eng=confusion_matrix(y_test, y_pred_svc_eng)\n",
    "# fig, ax = plot_confusion_matrix(conf_mat=cf_svc_eng)"
   ]
  }
 ],
 "metadata": {
  "colab": {
   "name": "assignment4_F19.ipynb",
   "provenance": []
  },
  "kernelspec": {
   "display_name": "Python 3",
   "language": "python",
   "name": "python3"
  },
  "language_info": {
   "codemirror_mode": {
    "name": "ipython",
    "version": 3
   },
   "file_extension": ".py",
   "mimetype": "text/x-python",
   "name": "python",
   "nbconvert_exporter": "python",
   "pygments_lexer": "ipython3",
   "version": "3.7.4"
  }
 },
 "nbformat": 4,
 "nbformat_minor": 1
}
